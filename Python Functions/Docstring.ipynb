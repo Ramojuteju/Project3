{
 "cells": [
  {
   "cell_type": "raw",
   "id": "a49c521c-6a65-4bca-83b6-deb8abeccc2f",
   "metadata": {},
   "source": [
    "--- Using Docstrings"
   ]
  },
  {
   "cell_type": "raw",
   "id": "4972694b-b8fa-430b-9caf-01f10e5f0aa9",
   "metadata": {},
   "source": [
    "--- Fun Doc"
   ]
  },
  {
   "cell_type": "code",
   "execution_count": 5,
   "id": "89804fb5-4e59-4a4e-9eaa-ae3e2a4a1ddc",
   "metadata": {},
   "outputs": [
    {
     "name": "stdout",
     "output_type": "stream",
     "text": [
      "8\n",
      "6.0\n"
     ]
    }
   ],
   "source": [
    "def add(a, b):\n",
    "    \"\"\"\n",
    "    Add two numbers.\n",
    "\n",
    "    Parameters:\n",
    "    a (int or float): The first number.\n",
    "    b (int or float): The second number.\n",
    "\n",
    "    Returns:\n",
    "    int or float: The sum of a and b.\n",
    "    \"\"\"\n",
    "    return a + b\n",
    "\n",
    "print(add(5, 3)) \n",
    "print(add(2.5, 3.5)) "
   ]
  },
  {
   "cell_type": "raw",
   "id": "ef020565-772a-4464-8631-47c7f0f3a4cd",
   "metadata": {},
   "source": [
    "--- Doc for Fun with default Arguments"
   ]
  },
  {
   "cell_type": "code",
   "execution_count": 9,
   "id": "e6a7a27c-ab80-42c3-9f48-06066c82831d",
   "metadata": {},
   "outputs": [
    {
     "name": "stdout",
     "output_type": "stream",
     "text": [
      "Hello, Alice!\n",
      "Hello, Guest!\n"
     ]
    }
   ],
   "source": [
    "def greet(name=\"Guest\"):\n",
    "    \"\"\"\n",
    "    Greet a person with a message.\n",
    "\n",
    "    Parameters:\n",
    "    name (str): The name of the person to greet. Defaults to \"Guest\".\n",
    "\n",
    "    Returns:\n",
    "    str: A greeting message.\n",
    "    \"\"\"\n",
    "    return f\"Hello, {name}!\"\n",
    "\n",
    "print(greet(\"Alice\"))  \n",
    "print(greet())     "
   ]
  },
  {
   "cell_type": "raw",
   "id": "07f17bbf-3dd1-4792-beff-6953c4b27cc1",
   "metadata": {},
   "source": [
    "--- Recursive Fun Doc"
   ]
  },
  {
   "cell_type": "code",
   "execution_count": 11,
   "id": "e1f9d2b4-f96c-4282-994c-5bdc2e70a695",
   "metadata": {},
   "outputs": [],
   "source": [
    "def factorial(n):\n",
    "    \"\"\"\n",
    "    Calculate the factorial of a number.\n",
    "\n",
    "    Parameters:\n",
    "    n (int): A non-negative integer.\n",
    "\n",
    "    Returns:\n",
    "    int: The factorial of n.\n",
    "\n",
    "    Raises:\n",
    "    ValueError: If n is a negative integer.\n",
    "    \"\"\"\n",
    "    if n < 0:\n",
    "        raise ValueError(\"Factorial is not defined for negative numbers.\")\n",
    "    if n == 0 or n == 1:\n",
    "        return 1\n",
    "    return n * factorial(n - 1)"
   ]
  },
  {
   "cell_type": "code",
   "execution_count": 13,
   "id": "b2c8a344-de98-4548-bcca-a7cae250ff91",
   "metadata": {},
   "outputs": [
    {
     "name": "stdout",
     "output_type": "stream",
     "text": [
      "120\n"
     ]
    }
   ],
   "source": [
    "print(factorial(5))"
   ]
  },
  {
   "cell_type": "raw",
   "id": "663dfae7-71af-4657-af27-10dc478933ea",
   "metadata": {},
   "source": [
    "--- Accessing Docstrings"
   ]
  },
  {
   "cell_type": "code",
   "execution_count": 17,
   "id": "715fe55d-cdfb-4ac4-8d97-4e76795eb8bc",
   "metadata": {},
   "outputs": [
    {
     "name": "stdout",
     "output_type": "stream",
     "text": [
      "\n",
      "    Add two numbers.\n",
      "\n",
      "    Parameters:\n",
      "    a (int or float): The first number.\n",
      "    b (int or float): The second number.\n",
      "\n",
      "    Returns:\n",
      "    int or float: The sum of a and b.\n",
      "    \n",
      "Help on function factorial in module __main__:\n",
      "\n",
      "factorial(n)\n",
      "    Calculate the factorial of a number.\n",
      "\n",
      "    Parameters:\n",
      "    n (int): A non-negative integer.\n",
      "\n",
      "    Returns:\n",
      "    int: The factorial of n.\n",
      "\n",
      "    Raises:\n",
      "    ValueError: If n is a negative integer.\n",
      "\n"
     ]
    }
   ],
   "source": [
    "print(add.__doc__)\n",
    "\n",
    "help(factorial)"
   ]
  }
 ],
 "metadata": {
  "kernelspec": {
   "display_name": "Python 3 (ipykernel)",
   "language": "python",
   "name": "python3"
  },
  "language_info": {
   "codemirror_mode": {
    "name": "ipython",
    "version": 3
   },
   "file_extension": ".py",
   "mimetype": "text/x-python",
   "name": "python",
   "nbconvert_exporter": "python",
   "pygments_lexer": "ipython3",
   "version": "3.12.4"
  }
 },
 "nbformat": 4,
 "nbformat_minor": 5
}
