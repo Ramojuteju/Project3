{
 "cells": [
  {
   "cell_type": "raw",
   "id": "507354cf-7701-4eeb-8466-86ae4ca07d94",
   "metadata": {},
   "source": [
    "--- Function with NO Parameters"
   ]
  },
  {
   "cell_type": "code",
   "execution_count": 1,
   "id": "012940dc-760d-4a8c-b8f1-717915c904e3",
   "metadata": {},
   "outputs": [],
   "source": [
    "def greet():\n",
    "    print(\"Hello, World!\")"
   ]
  },
  {
   "cell_type": "code",
   "execution_count": 3,
   "id": "bc8380e0-742f-4875-b584-f3b06d4570b2",
   "metadata": {},
   "outputs": [
    {
     "name": "stdout",
     "output_type": "stream",
     "text": [
      "Hello, World!\n"
     ]
    }
   ],
   "source": [
    "greet()"
   ]
  },
  {
   "cell_type": "raw",
   "id": "a00d0f79-69d2-4101-b849-72a0444898f4",
   "metadata": {},
   "source": [
    "--- Function with Single Parameter"
   ]
  },
  {
   "cell_type": "code",
   "execution_count": 5,
   "id": "f9c38d8e-891e-4f73-9342-a92f4e7ad869",
   "metadata": {},
   "outputs": [],
   "source": [
    "def square(n):\n",
    "    return n * n\n",
    "n=3"
   ]
  },
  {
   "cell_type": "code",
   "execution_count": 7,
   "id": "ea1d02e4-5f1c-4898-9f43-368c6a651359",
   "metadata": {},
   "outputs": [
    {
     "data": {
      "text/plain": [
       "9"
      ]
     },
     "execution_count": 7,
     "metadata": {},
     "output_type": "execute_result"
    }
   ],
   "source": [
    "square(n)"
   ]
  },
  {
   "cell_type": "raw",
   "id": "749d1d8f-a1df-4596-8837-be6e2ddbbb01",
   "metadata": {},
   "source": [
    "--- Function with Multiple Parameters"
   ]
  },
  {
   "cell_type": "code",
   "execution_count": 9,
   "id": "602aa429-4ae4-4e44-81b9-3c9839ce9969",
   "metadata": {},
   "outputs": [],
   "source": [
    "def add(a, b):\n",
    "    return a + b"
   ]
  },
  {
   "cell_type": "code",
   "execution_count": 11,
   "id": "98d3cb6f-61ba-42c4-aae1-695dd4fd5ca6",
   "metadata": {},
   "outputs": [
    {
     "name": "stdout",
     "output_type": "stream",
     "text": [
      "7\n"
     ]
    }
   ],
   "source": [
    "print(add(3, 4))"
   ]
  },
  {
   "cell_type": "raw",
   "id": "aa434cad-6733-4955-986d-6206f85dc21f",
   "metadata": {},
   "source": [
    "--- Function with Simple Return Value"
   ]
  },
  {
   "cell_type": "code",
   "execution_count": 13,
   "id": "539e2acf-70c3-4e54-a5d1-c62f378774ab",
   "metadata": {},
   "outputs": [],
   "source": [
    "def multiply(x, y):\n",
    "    return x * y"
   ]
  },
  {
   "cell_type": "code",
   "execution_count": 15,
   "id": "6c8ba76d-f2aa-40e5-b564-bde9d909000d",
   "metadata": {},
   "outputs": [],
   "source": [
    "result = multiply(2, 3)"
   ]
  },
  {
   "cell_type": "code",
   "execution_count": 17,
   "id": "25b57c90-73ce-435c-9cd1-48d11995aa27",
   "metadata": {},
   "outputs": [
    {
     "data": {
      "text/plain": [
       "6"
      ]
     },
     "execution_count": 17,
     "metadata": {},
     "output_type": "execute_result"
    }
   ],
   "source": [
    "result"
   ]
  },
  {
   "cell_type": "raw",
   "id": "033d6256-f289-406c-b2e9-56ba0e6e5964",
   "metadata": {},
   "source": [
    "--- Function with Returning List"
   ]
  },
  {
   "cell_type": "code",
   "execution_count": 19,
   "id": "50ae4f75-2f2a-49ed-89fc-7d301e8168e9",
   "metadata": {},
   "outputs": [],
   "source": [
    "def create_list(n):\n",
    "    return list(range(n))"
   ]
  },
  {
   "cell_type": "code",
   "execution_count": 21,
   "id": "734155db-99bf-48e2-b7fd-2e8040d9c3e8",
   "metadata": {},
   "outputs": [],
   "source": [
    "my_list = create_list(5)"
   ]
  },
  {
   "cell_type": "code",
   "execution_count": 23,
   "id": "a5f898f8-7799-4b13-b8e8-9ed63caccf53",
   "metadata": {},
   "outputs": [
    {
     "data": {
      "text/plain": [
       "[0, 1, 2, 3, 4]"
      ]
     },
     "execution_count": 23,
     "metadata": {},
     "output_type": "execute_result"
    }
   ],
   "source": [
    "my_list"
   ]
  }
 ],
 "metadata": {
  "kernelspec": {
   "display_name": "Python 3 (ipykernel)",
   "language": "python",
   "name": "python3"
  },
  "language_info": {
   "codemirror_mode": {
    "name": "ipython",
    "version": 3
   },
   "file_extension": ".py",
   "mimetype": "text/x-python",
   "name": "python",
   "nbconvert_exporter": "python",
   "pygments_lexer": "ipython3",
   "version": "3.12.4"
  }
 },
 "nbformat": 4,
 "nbformat_minor": 5
}
