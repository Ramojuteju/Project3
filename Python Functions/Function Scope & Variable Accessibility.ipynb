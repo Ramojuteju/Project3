{
 "cells": [
  {
   "cell_type": "raw",
   "id": "29275bb8-1129-4366-bd53-af9d516d176e",
   "metadata": {},
   "source": [
    "--- Function Scope"
   ]
  },
  {
   "cell_type": "raw",
   "id": "99f428d3-71b8-470e-a4ad-a77b571f8b6f",
   "metadata": {},
   "source": [
    "--- Local Scope"
   ]
  },
  {
   "cell_type": "code",
   "execution_count": 1,
   "id": "aa41d892-5b70-40c7-9add-55c84e3fc34a",
   "metadata": {},
   "outputs": [],
   "source": [
    "def local_scope_example():\n",
    "    local_var = \"I am local\"\n",
    "    print(local_var)"
   ]
  },
  {
   "cell_type": "code",
   "execution_count": 3,
   "id": "0b382bbe-2a54-4dfe-ac61-ca779f0f1b46",
   "metadata": {},
   "outputs": [
    {
     "name": "stdout",
     "output_type": "stream",
     "text": [
      "I am local\n"
     ]
    }
   ],
   "source": [
    "local_scope_example()"
   ]
  },
  {
   "cell_type": "raw",
   "id": "d7b6d78c-e35b-44b9-a9da-795e137d48cc",
   "metadata": {},
   "source": [
    "--- Enclosing Scope"
   ]
  },
  {
   "cell_type": "code",
   "execution_count": 5,
   "id": "51fa18c6-9ba3-4034-8b51-0d23aa17c685",
   "metadata": {},
   "outputs": [],
   "source": [
    "def outer_function():\n",
    "    b = 5  \n",
    "    \n",
    "    def inner_function():\n",
    "        print(b)\n",
    "    \n",
    "    inner_function()"
   ]
  },
  {
   "cell_type": "code",
   "execution_count": 7,
   "id": "1fd1356f-7def-4e08-9055-3bbda50cddbb",
   "metadata": {},
   "outputs": [
    {
     "name": "stdout",
     "output_type": "stream",
     "text": [
      "5\n"
     ]
    }
   ],
   "source": [
    "outer_function()"
   ]
  },
  {
   "cell_type": "raw",
   "id": "68025445-e8f5-4c56-ada0-e285661e056b",
   "metadata": {},
   "source": [
    "--- Global Scope"
   ]
  },
  {
   "cell_type": "code",
   "execution_count": 13,
   "id": "8d9bb415-6a0f-447a-9bc4-24be8b12a69c",
   "metadata": {},
   "outputs": [],
   "source": [
    "def global_function():\n",
    "    global_var = \"I am global\"\n",
    "    print(global_var)"
   ]
  },
  {
   "cell_type": "code",
   "execution_count": 15,
   "id": "7342decc-c819-4d68-83e7-f96230e5d15b",
   "metadata": {},
   "outputs": [
    {
     "name": "stdout",
     "output_type": "stream",
     "text": [
      "I am global\n"
     ]
    }
   ],
   "source": [
    "global_function()"
   ]
  },
  {
   "cell_type": "raw",
   "id": "a5d15d99-4342-4fd6-9107-0fe30ef2fd8e",
   "metadata": {},
   "source": [
    "--- Built-in-scope"
   ]
  },
  {
   "cell_type": "code",
   "execution_count": 17,
   "id": "b8010b7f-6512-4705-beb7-8fd781284a63",
   "metadata": {},
   "outputs": [
    {
     "name": "stdout",
     "output_type": "stream",
     "text": [
      "5\n"
     ]
    }
   ],
   "source": [
    "print(len(\"Hello\"))"
   ]
  },
  {
   "cell_type": "raw",
   "id": "6f8fd491-ffa6-4b73-aef0-24afe39bcba9",
   "metadata": {},
   "source": [
    "--- Nonlocal Scope"
   ]
  },
  {
   "cell_type": "code",
   "execution_count": 19,
   "id": "a0bc338c-624d-4063-b4f3-222c81892384",
   "metadata": {},
   "outputs": [],
   "source": [
    "def outer_function():\n",
    "    d = 25  \n",
    "    \n",
    "    def inner_function():\n",
    "        nonlocal d\n",
    "        d += 5  \n",
    "        print(d)\n",
    "    \n",
    "    inner_function() \n",
    "    print(d)"
   ]
  },
  {
   "cell_type": "code",
   "execution_count": 21,
   "id": "55e1be11-4732-4dfa-9623-575579b031e6",
   "metadata": {},
   "outputs": [
    {
     "name": "stdout",
     "output_type": "stream",
     "text": [
      "30\n",
      "30\n"
     ]
    }
   ],
   "source": [
    "outer_function()"
   ]
  },
  {
   "cell_type": "raw",
   "id": "a981e4a8-be02-4542-b45d-6fdca7260cbd",
   "metadata": {},
   "source": [
    "--- Variable Accessbility"
   ]
  },
  {
   "cell_type": "raw",
   "id": "fc517d17-5075-4e41-b929-3cdb8cd2e606",
   "metadata": {},
   "source": [
    "--- Local Accessibility"
   ]
  },
  {
   "cell_type": "code",
   "execution_count": 23,
   "id": "5c720a14-bfdb-4d0b-bd5f-ef53c095267e",
   "metadata": {},
   "outputs": [],
   "source": [
    "def my_function():\n",
    "    a = 10 \n",
    "    print(a)"
   ]
  },
  {
   "cell_type": "code",
   "execution_count": 25,
   "id": "b2c0f52f-db34-4d4c-a589-1561db385aca",
   "metadata": {},
   "outputs": [
    {
     "name": "stdout",
     "output_type": "stream",
     "text": [
      "10\n"
     ]
    }
   ],
   "source": [
    "my_function()"
   ]
  },
  {
   "cell_type": "raw",
   "id": "0c369e2e-eb9d-4195-a3d8-bab477c6b51a",
   "metadata": {},
   "source": [
    "--- Enclosing Accessibility"
   ]
  },
  {
   "cell_type": "code",
   "execution_count": 27,
   "id": "41d2bb8b-fdfe-406c-9f52-6597e6c1427c",
   "metadata": {},
   "outputs": [],
   "source": [
    "def outer_function():\n",
    "    b = 20 \n",
    "    \n",
    "    def inner_function():\n",
    "        print(b) \n",
    "    \n",
    "    inner_function()"
   ]
  },
  {
   "cell_type": "code",
   "execution_count": 29,
   "id": "ea616574-f6f6-4687-9b46-2e1d7ad362fe",
   "metadata": {},
   "outputs": [
    {
     "name": "stdout",
     "output_type": "stream",
     "text": [
      "20\n"
     ]
    }
   ],
   "source": [
    "outer_function()"
   ]
  },
  {
   "cell_type": "raw",
   "id": "39c0f0ca-78fe-463b-bc64-29c157c57541",
   "metadata": {},
   "source": [
    "--- Global Accessibility"
   ]
  },
  {
   "cell_type": "code",
   "execution_count": 31,
   "id": "c092ed5b-14db-414f-ae45-3c21c4ffb997",
   "metadata": {},
   "outputs": [],
   "source": [
    "\n",
    "\n",
    "def my_function():\n",
    "    c = 30  \n",
    "    print(c)  "
   ]
  },
  {
   "cell_type": "code",
   "execution_count": 33,
   "id": "b645c0ab-1421-4fab-a6ba-6d5989bdf726",
   "metadata": {},
   "outputs": [
    {
     "name": "stdout",
     "output_type": "stream",
     "text": [
      "30\n"
     ]
    }
   ],
   "source": [
    "my_function()  "
   ]
  },
  {
   "cell_type": "code",
   "execution_count": 44,
   "id": "2180f492-29f8-4435-b922-a8a1eb29e55c",
   "metadata": {},
   "outputs": [
    {
     "name": "stdout",
     "output_type": "stream",
     "text": [
      "10\n"
     ]
    }
   ],
   "source": [
    "c = 0\n",
    "\n",
    "def modify_global():\n",
    "    global c\n",
    "    c += 10  \n",
    "\n",
    "modify_global()\n",
    "\n",
    "print(c)"
   ]
  },
  {
   "cell_type": "raw",
   "id": "0b6a3481-eff8-4ebf-a2b9-b29ce4ee66c2",
   "metadata": {},
   "source": [
    "--- Built-in-Accessibility"
   ]
  },
  {
   "cell_type": "code",
   "execution_count": 50,
   "id": "4d93eb2f-f6a3-4306-9e1b-e9532214de1c",
   "metadata": {},
   "outputs": [
    {
     "name": "stdout",
     "output_type": "stream",
     "text": [
      "5\n"
     ]
    }
   ],
   "source": [
    "print(len(\"Hello\"))"
   ]
  },
  {
   "cell_type": "raw",
   "id": "303781f6-77fa-436c-84d1-776c9d9e4e94",
   "metadata": {},
   "source": [
    "--- Nonlocal Accessibility"
   ]
  },
  {
   "cell_type": "code",
   "execution_count": 52,
   "id": "04c1d6a6-abf4-4cba-a6de-bf017780ff97",
   "metadata": {},
   "outputs": [],
   "source": [
    "def outer_function():\n",
    "    d = 50 \n",
    "    \n",
    "    def inner_function():\n",
    "        nonlocal d\n",
    "        d += 10  \n",
    "        print(d)\n",
    "    \n",
    "    inner_function()  \n",
    "    print(d)  "
   ]
  },
  {
   "cell_type": "code",
   "execution_count": 320,
   "id": "b5d0c6b1-ce07-44ac-8dad-8ddf82e97b3a",
   "metadata": {},
   "outputs": [
    {
     "name": "stdout",
     "output_type": "stream",
     "text": [
      "60\n",
      "60\n"
     ]
    }
   ],
   "source": [
    "outer_function()"
   ]
  },
  {
   "cell_type": "code",
   "execution_count": null,
   "id": "9af51c13-dce3-4037-8216-f9d11a341dc0",
   "metadata": {},
   "outputs": [],
   "source": []
  }
 ],
 "metadata": {
  "kernelspec": {
   "display_name": "Python 3 (ipykernel)",
   "language": "python",
   "name": "python3"
  },
  "language_info": {
   "codemirror_mode": {
    "name": "ipython",
    "version": 3
   },
   "file_extension": ".py",
   "mimetype": "text/x-python",
   "name": "python",
   "nbconvert_exporter": "python",
   "pygments_lexer": "ipython3",
   "version": "3.12.4"
  }
 },
 "nbformat": 4,
 "nbformat_minor": 5
}
