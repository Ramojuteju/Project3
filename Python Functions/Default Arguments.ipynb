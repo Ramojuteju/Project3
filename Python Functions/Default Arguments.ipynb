{
 "cells": [
  {
   "cell_type": "code",
   "execution_count": null,
   "id": "3160dc8a-7f0a-4e00-bff4-589060cf0785",
   "metadata": {},
   "outputs": [],
   "source": [
    "# --- Fun with Default Arguments"
   ]
  },
  {
   "cell_type": "code",
   "execution_count": null,
   "id": "c9c4844b-d99a-49b4-99db-1c4906e0f849",
   "metadata": {},
   "outputs": [],
   "source": [
    "# --- Greeting"
   ]
  },
  {
   "cell_type": "code",
   "execution_count": 5,
   "id": "4e0c9d0c-34e8-49c8-9103-2aebca1a5dfc",
   "metadata": {},
   "outputs": [
    {
     "name": "stdout",
     "output_type": "stream",
     "text": [
      "Hello, Alice!\n",
      "Hello, Guest!\n"
     ]
    }
   ],
   "source": [
    "def greet(name=\"Guest\"):\n",
    "    print(f\"Hello, {name}!\")\n",
    "\n",
    "greet(\"Alice\")  \n",
    "\n",
    "greet()"
   ]
  },
  {
   "cell_type": "code",
   "execution_count": null,
   "id": "c0ca1d61-b8cc-42d0-8087-ee012728a84d",
   "metadata": {},
   "outputs": [],
   "source": [
    "# --- Cal Area of Rectangle"
   ]
  },
  {
   "cell_type": "code",
   "execution_count": 7,
   "id": "45beba41-7f71-4333-ad16-70c3dba4b849",
   "metadata": {},
   "outputs": [
    {
     "name": "stdout",
     "output_type": "stream",
     "text": [
      "Area with default width: 50\n",
      "Area with specified width: 70\n"
     ]
    }
   ],
   "source": [
    "def calculate_area(length, width=5):\n",
    "    return length * width\n",
    "\n",
    "area1 = calculate_area(10)\n",
    "print(\"Area with default width:\", area1)  \n",
    "\n",
    "area2 = calculate_area(10, 7)\n",
    "print(\"Area with specified width:\", area2) "
   ]
  },
  {
   "cell_type": "code",
   "execution_count": null,
   "id": "a072f7cf-ef64-440d-9ea7-000db66a2deb",
   "metadata": {},
   "outputs": [],
   "source": []
  }
 ],
 "metadata": {
  "kernelspec": {
   "display_name": "Python 3 (ipykernel)",
   "language": "python",
   "name": "python3"
  },
  "language_info": {
   "codemirror_mode": {
    "name": "ipython",
    "version": 3
   },
   "file_extension": ".py",
   "mimetype": "text/x-python",
   "name": "python",
   "nbconvert_exporter": "python",
   "pygments_lexer": "ipython3",
   "version": "3.12.4"
  }
 },
 "nbformat": 4,
 "nbformat_minor": 5
}
