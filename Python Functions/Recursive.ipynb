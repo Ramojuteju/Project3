{
 "cells": [
  {
   "cell_type": "code",
   "execution_count": null,
   "id": "7025aaaa-00c2-4a43-88dd-c018c17cb67e",
   "metadata": {},
   "outputs": [],
   "source": [
    "# --- Factorial Function"
   ]
  },
  {
   "cell_type": "code",
   "execution_count": 1,
   "id": "1c4524b7-2eb5-45f1-86ff-8abfcf2d5937",
   "metadata": {},
   "outputs": [
    {
     "name": "stdout",
     "output_type": "stream",
     "text": [
      "Factorial of 5: 120\n"
     ]
    }
   ],
   "source": [
    "def factorial(n):\n",
    "    # Base case\n",
    "    if n == 0 or n == 1:\n",
    "        return 1\n",
    "   \n",
    "    return n * factorial(n - 1)\n",
    "\n",
    "print(\"Factorial of 5:\", factorial(5))"
   ]
  },
  {
   "cell_type": "code",
   "execution_count": null,
   "id": "8212b115-c9ab-4657-ad02-14885c1f1927",
   "metadata": {},
   "outputs": [],
   "source": [
    "# --- Fibonacci Function"
   ]
  },
  {
   "cell_type": "code",
   "execution_count": 3,
   "id": "fe92d754-59f6-4a6c-9228-775418d4b8f9",
   "metadata": {},
   "outputs": [
    {
     "name": "stdout",
     "output_type": "stream",
     "text": [
      "Fibonacci of 6: 8\n"
     ]
    }
   ],
   "source": [
    "def fibonacci(n):\n",
    "    # Base cases\n",
    "    if n <= 0:\n",
    "        return 0\n",
    "    elif n == 1:\n",
    "        return 1\n",
    "\n",
    "    return fibonacci(n - 1) + fibonacci(n - 2)\n",
    "\n",
    "print(\"Fibonacci of 6:\", fibonacci(6)) "
   ]
  },
  {
   "cell_type": "code",
   "execution_count": null,
   "id": "83540a53-23c4-4947-be9d-0be5c7f43286",
   "metadata": {},
   "outputs": [],
   "source": [
    "# --- Sum of List"
   ]
  },
  {
   "cell_type": "code",
   "execution_count": 5,
   "id": "c670dd15-611a-42f3-b9f1-86fe46dd7725",
   "metadata": {},
   "outputs": [
    {
     "name": "stdout",
     "output_type": "stream",
     "text": [
      "Sum of the list [1, 2, 3, 4]: 10\n"
     ]
    }
   ],
   "source": [
    "def sum_list(lst):\n",
    "    \n",
    "    if not lst:  \n",
    "        return 0\n",
    "    # Recursive case\n",
    "    return lst[0] + sum_list(lst[1:])  \n",
    "\n",
    "print(\"Sum of the list [1, 2, 3, 4]:\", sum_list([1, 2, 3, 4]))"
   ]
  },
  {
   "cell_type": "code",
   "execution_count": null,
   "id": "e7e12deb-6c57-4656-834f-b2525b5e58c3",
   "metadata": {},
   "outputs": [],
   "source": [
    "# --- Reverse a String"
   ]
  },
  {
   "cell_type": "code",
   "execution_count": 7,
   "id": "52961fa1-318a-4713-8cbf-2ccbf96b05b5",
   "metadata": {},
   "outputs": [
    {
     "name": "stdout",
     "output_type": "stream",
     "text": [
      "Reversed string of 'hello': olleh\n"
     ]
    }
   ],
   "source": [
    "def reverse_string(s):\n",
    "    \n",
    "    if len(s) == 0:\n",
    "        return s\n",
    "   \n",
    "    return s[-1] + reverse_string(s[:-1])  \n",
    "\n",
    "print(\"Reversed string of 'hello':\", reverse_string(\"hello\"))"
   ]
  },
  {
   "cell_type": "code",
   "execution_count": null,
   "id": "5c530bed-717e-4a1b-a25a-ca057ebf9727",
   "metadata": {},
   "outputs": [],
   "source": [
    "# --- Check if string is Palindrome"
   ]
  },
  {
   "cell_type": "code",
   "execution_count": 9,
   "id": "f06a6a3f-1674-4cfa-b2a9-60af4c582ad9",
   "metadata": {},
   "outputs": [
    {
     "name": "stdout",
     "output_type": "stream",
     "text": [
      "Is 'radar' a palindrome? True\n",
      "Is 'hello' a palindrome? False\n"
     ]
    }
   ],
   "source": [
    "def is_palindrome(s):\n",
    "    \n",
    "    if len(s) <= 1:\n",
    "        return True\n",
    "    \n",
    "    if s[0] != s[-1]:\n",
    "        return False\n",
    "    return is_palindrome(s[1:-1])  \n",
    "\n",
    "print(\"Is 'radar' a palindrome?\", is_palindrome(\"radar\"))  \n",
    "print(\"Is 'hello' a palindrome?\", is_palindrome(\"hello\")) "
   ]
  },
  {
   "cell_type": "code",
   "execution_count": null,
   "id": "7fd30d46-a093-4c2f-b383-da1567fa3e21",
   "metadata": {},
   "outputs": [],
   "source": []
  }
 ],
 "metadata": {
  "kernelspec": {
   "display_name": "Python 3 (ipykernel)",
   "language": "python",
   "name": "python3"
  },
  "language_info": {
   "codemirror_mode": {
    "name": "ipython",
    "version": 3
   },
   "file_extension": ".py",
   "mimetype": "text/x-python",
   "name": "python",
   "nbconvert_exporter": "python",
   "pygments_lexer": "ipython3",
   "version": "3.12.4"
  }
 },
 "nbformat": 4,
 "nbformat_minor": 5
}
