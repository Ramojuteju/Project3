{
 "cells": [
  {
   "cell_type": "raw",
   "id": "044b43eb-03b7-446f-b41d-8fa6d19bab1c",
   "metadata": {},
   "source": [
    "--- Grading System"
   ]
  },
  {
   "cell_type": "code",
   "execution_count": 1,
   "id": "f19e58ce-a4e1-4cc7-b85b-4db50b8827a4",
   "metadata": {},
   "outputs": [
    {
     "name": "stdout",
     "output_type": "stream",
     "text": [
      "Grade: B with Good Attendance\n"
     ]
    }
   ],
   "source": [
    "score = 85\n",
    "attendance_percentage = 92\n",
    "\n",
    "if score >= 90 and attendance_percentage >= 95:\n",
    "    print(\"Grade: A with Excellent Attendance\")\n",
    "elif score >= 80 and attendance_percentage >= 90:\n",
    "    print(\"Grade: B with Good Attendance\")\n",
    "elif score >= 70 and attendance_percentage >= 80:\n",
    "    print(\"Grade: C with Satisfactory Attendance\")\n",
    "elif score < 70 or attendance_percentage < 80:\n",
    "    print(\"Needs Improvement in either score or attendance\")"
   ]
  },
  {
   "cell_type": "raw",
   "id": "466b1f4e-6049-4ab1-95eb-6dba26c51809",
   "metadata": {},
   "source": [
    "--- Weather Condition"
   ]
  },
  {
   "cell_type": "code",
   "execution_count": 3,
   "id": "52f50c88-8ecd-40bb-b912-bd5c1bc91f89",
   "metadata": {},
   "outputs": [
    {
     "name": "stdout",
     "output_type": "stream",
     "text": [
      "It's a hot day, stay hydrated!\n"
     ]
    }
   ],
   "source": [
    "temperature = 32  \n",
    "is_raining = False\n",
    "is_sunny = True\n",
    "\n",
    "if temperature > 30 and is_raining:\n",
    "    print(\"Stay indoors, it's too hot and raining!\")\n",
    "elif temperature > 30 and not is_raining:\n",
    "    print(\"It's a hot day, stay hydrated!\")\n",
    "elif temperature <= 30 and is_sunny:\n",
    "    print(\"Enjoy the pleasant weather, but wear sunscreen!\")\n",
    "else:\n",
    "    print(\"It's a cool day. A light jacket is recommended.\")"
   ]
  },
  {
   "cell_type": "raw",
   "id": "2554ebb0-efd5-454a-a604-399413fa0c3a",
   "metadata": {},
   "source": [
    "--- Job Eligibility"
   ]
  },
  {
   "cell_type": "code",
   "execution_count": 5,
   "id": "d33c23f1-9bde-4181-842b-8a00eb280015",
   "metadata": {},
   "outputs": [
    {
     "name": "stdout",
     "output_type": "stream",
     "text": [
      "Eligible for the position.\n"
     ]
    }
   ],
   "source": [
    "age = 30\n",
    "is_employed = True\n",
    "has_degree = True\n",
    "\n",
    "if age >= 18 and is_employed and has_degree:\n",
    "    print(\"Eligible for the position.\")\n",
    "elif age >= 18 and not is_employed:\n",
    "    print(\"Not eligible due to lack of employment.\")\n",
    "elif age < 18:\n",
    "    print(\"Not eligible due to age.\")\n",
    "else:\n",
    "    print(\"Eligible, but a degree is preferred.\")"
   ]
  },
  {
   "cell_type": "code",
   "execution_count": null,
   "id": "7dcb237d-e0cf-4b0f-a879-925fab008b2d",
   "metadata": {},
   "outputs": [],
   "source": []
  }
 ],
 "metadata": {
  "kernelspec": {
   "display_name": "Python 3 (ipykernel)",
   "language": "python",
   "name": "python3"
  },
  "language_info": {
   "codemirror_mode": {
    "name": "ipython",
    "version": 3
   },
   "file_extension": ".py",
   "mimetype": "text/x-python",
   "name": "python",
   "nbconvert_exporter": "python",
   "pygments_lexer": "ipython3",
   "version": "3.12.4"
  }
 },
 "nbformat": 4,
 "nbformat_minor": 5
}
