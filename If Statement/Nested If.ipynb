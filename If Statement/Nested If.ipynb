{
 "cells": [
  {
   "cell_type": "raw",
   "id": "da2c78af-5dbe-4d24-abdc-37ef1f54d436",
   "metadata": {},
   "source": [
    "--- Grade Evaluation"
   ]
  },
  {
   "cell_type": "code",
   "execution_count": 3,
   "id": "f201edd0-8803-440b-aefb-14e8e5c16cc0",
   "metadata": {},
   "outputs": [
    {
     "name": "stdout",
     "output_type": "stream",
     "text": [
      "Grade: B\n",
      "Excellent attendance!\n"
     ]
    }
   ],
   "source": [
    "score = 85\n",
    "attendance_percentage = 92\n",
    "\n",
    "if score >= 90:\n",
    "    print(\"Grade: A\")\n",
    "else:\n",
    "    if score >= 80:\n",
    "        print(\"Grade: B\")\n",
    "        if attendance_percentage >= 90:\n",
    "            print(\"Excellent attendance!\")\n",
    "        else:\n",
    "            print(\"Attendance could be improved.\")\n",
    "    elif score >= 70:\n",
    "        print(\"Grade: C\")\n",
    "    else:\n",
    "        print(\"Grade: D or F. Needs improvement.\")"
   ]
  },
  {
   "cell_type": "raw",
   "id": "75627a00-c84e-45de-93bc-907a71b98796",
   "metadata": {},
   "source": [
    "--- Weather Conditions"
   ]
  },
  {
   "cell_type": "code",
   "execution_count": 5,
   "id": "57321c69-220d-443d-9fa9-079e8fdcf828",
   "metadata": {},
   "outputs": [
    {
     "name": "stdout",
     "output_type": "stream",
     "text": [
      "It's a bit chilly.\n",
      "Make sure to wear a warm coat and take an umbrella!\n"
     ]
    }
   ],
   "source": [
    "temperature = 15  \n",
    "is_raining = True\n",
    "\n",
    "if temperature > 20:\n",
    "    print(\"It's warm outside.\")\n",
    "    if is_raining:\n",
    "        print(\"But don't forget your umbrella!\")\n",
    "else:\n",
    "    print(\"It's a bit chilly.\")\n",
    "    if is_raining:\n",
    "        print(\"Make sure to wear a warm coat and take an umbrella!\")"
   ]
  },
  {
   "cell_type": "raw",
   "id": "0071adc7-e58b-46c2-843b-3b89cc9da3fa",
   "metadata": {},
   "source": [
    "--- User Login Validation"
   ]
  },
  {
   "cell_type": "code",
   "execution_count": 7,
   "id": "f44c31ad-dd93-432a-9148-8c6d3f01f550",
   "metadata": {},
   "outputs": [
    {
     "name": "stdin",
     "output_type": "stream",
     "text": [
      "Enter your username:  ramoju\n",
      "Enter your password:  R@moju23\n"
     ]
    },
    {
     "name": "stdout",
     "output_type": "stream",
     "text": [
      "Username not found.\n"
     ]
    }
   ],
   "source": [
    "username = \"admin\"\n",
    "password = \"securepassword\"\n",
    "\n",
    "input_username = input(\"Enter your username: \")\n",
    "input_password = input(\"Enter your password: \")\n",
    "\n",
    "if input_username == username:\n",
    "    if input_password == password:\n",
    "        print(\"Login successful!\")\n",
    "    else:\n",
    "        print(\"Incorrect password.\")\n",
    "else:\n",
    "    print(\"Username not found.\")"
   ]
  },
  {
   "cell_type": "raw",
   "id": "bcec61dc-5ff8-487a-a480-6249f24f757d",
   "metadata": {},
   "source": [
    "--- Employee Evaluation"
   ]
  },
  {
   "cell_type": "code",
   "execution_count": 9,
   "id": "0946a2fe-dac0-4676-b027-7d8f91a4b549",
   "metadata": {},
   "outputs": [
    {
     "name": "stdout",
     "output_type": "stream",
     "text": [
      "Employee needs improvement.\n"
     ]
    }
   ],
   "source": [
    "performance_score = 75\n",
    "years_of_experience = 5\n",
    "\n",
    "if performance_score >= 80:\n",
    "    print(\"Employee is performing well.\")\n",
    "    if years_of_experience >= 5:\n",
    "        print(\"Eligible for a promotion!\")\n",
    "    else:\n",
    "        print(\"Keep up the good work!\")\n",
    "else:\n",
    "    print(\"Employee needs improvement.\")\n",
    "    if performance_score < 60:\n",
    "        print(\"Consider additional training.\")"
   ]
  }
 ],
 "metadata": {
  "kernelspec": {
   "display_name": "Python 3 (ipykernel)",
   "language": "python",
   "name": "python3"
  },
  "language_info": {
   "codemirror_mode": {
    "name": "ipython",
    "version": 3
   },
   "file_extension": ".py",
   "mimetype": "text/x-python",
   "name": "python",
   "nbconvert_exporter": "python",
   "pygments_lexer": "ipython3",
   "version": "3.12.4"
  }
 },
 "nbformat": 4,
 "nbformat_minor": 5
}
