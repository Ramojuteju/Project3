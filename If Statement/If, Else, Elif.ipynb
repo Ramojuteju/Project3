{
 "cells": [
  {
   "cell_type": "code",
   "execution_count": 1,
   "id": "0337e412-937d-4914-9eff-bf48a5dd439d",
   "metadata": {},
   "outputs": [],
   "source": [
    "# --- If Statement"
   ]
  },
  {
   "cell_type": "code",
   "execution_count": 3,
   "id": "24555cf5-1426-4b0b-8dcf-00c4531e0523",
   "metadata": {},
   "outputs": [
    {
     "name": "stdout",
     "output_type": "stream",
     "text": [
      "You are an adult.\n"
     ]
    }
   ],
   "source": [
    "age = 20\n",
    "if age >= 18:\n",
    "    print(\"You are an adult.\")"
   ]
  },
  {
   "cell_type": "code",
   "execution_count": 5,
   "id": "17d65b33-2532-45e3-99a9-43c19df2ec37",
   "metadata": {},
   "outputs": [],
   "source": [
    "# --- Else Statement"
   ]
  },
  {
   "cell_type": "code",
   "execution_count": 7,
   "id": "13391921-281b-4c21-a98d-2a6e6eff1337",
   "metadata": {},
   "outputs": [
    {
     "name": "stdout",
     "output_type": "stream",
     "text": [
      "The number is odd.\n"
     ]
    }
   ],
   "source": [
    "number = 7\n",
    "\n",
    "if number % 2 == 0:\n",
    "    print(\"The number is even.\")\n",
    "else:\n",
    "    print(\"The number is odd.\")"
   ]
  },
  {
   "cell_type": "code",
   "execution_count": 9,
   "id": "38b912e7-f1ba-4ef4-8c75-5a94b5fa23ff",
   "metadata": {},
   "outputs": [],
   "source": [
    "# --- Elif Statement"
   ]
  },
  {
   "cell_type": "code",
   "execution_count": 11,
   "id": "af9338a3-5816-4095-a61f-b49d7e48a961",
   "metadata": {},
   "outputs": [
    {
     "name": "stdout",
     "output_type": "stream",
     "text": [
      "Grade: C\n"
     ]
    }
   ],
   "source": [
    "score = 78\n",
    "\n",
    "if score >= 90:\n",
    "    print(\"Grade: A\")\n",
    "elif score >= 80:\n",
    "    print(\"Grade: B\")\n",
    "elif score >= 70:\n",
    "    print(\"Grade: C\")\n",
    "elif score >= 60:\n",
    "    print(\"Grade: D\")\n",
    "else:\n",
    "    print(\"Grade: F\")"
   ]
  },
  {
   "cell_type": "code",
   "execution_count": null,
   "id": "53b7c41a-701f-43f2-aba0-5fcee765e008",
   "metadata": {},
   "outputs": [],
   "source": []
  }
 ],
 "metadata": {
  "kernelspec": {
   "display_name": "Python 3 (ipykernel)",
   "language": "python",
   "name": "python3"
  },
  "language_info": {
   "codemirror_mode": {
    "name": "ipython",
    "version": 3
   },
   "file_extension": ".py",
   "mimetype": "text/x-python",
   "name": "python",
   "nbconvert_exporter": "python",
   "pygments_lexer": "ipython3",
   "version": "3.12.4"
  }
 },
 "nbformat": 4,
 "nbformat_minor": 5
}
