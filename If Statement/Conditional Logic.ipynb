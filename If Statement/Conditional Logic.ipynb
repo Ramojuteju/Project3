{
 "cells": [
  {
   "cell_type": "raw",
   "id": "aa8b6e04-6e04-41b2-901e-14ff793e7442",
   "metadata": {},
   "source": [
    "--- If-Else"
   ]
  },
  {
   "cell_type": "code",
   "execution_count": 1,
   "id": "24555cf5-1426-4b0b-8dcf-00c4531e0523",
   "metadata": {},
   "outputs": [
    {
     "name": "stdout",
     "output_type": "stream",
     "text": [
      "The number is even.\n"
     ]
    }
   ],
   "source": [
    "number = 10\n",
    "\n",
    "if number % 2 == 0:\n",
    "    print(\"The number is even.\")"
   ]
  },
  {
   "cell_type": "raw",
   "id": "6b4a57f7-377b-41d3-bef2-93736fe92252",
   "metadata": {},
   "source": [
    "--- Else Statement"
   ]
  },
  {
   "cell_type": "code",
   "execution_count": 3,
   "id": "13391921-281b-4c21-a98d-2a6e6eff1337",
   "metadata": {},
   "outputs": [
    {
     "name": "stdout",
     "output_type": "stream",
     "text": [
      "The number is odd.\n"
     ]
    }
   ],
   "source": [
    "number = 7\n",
    "\n",
    "if number % 2 == 0:\n",
    "    print(\"The number is even.\")\n",
    "else:\n",
    "    print(\"The number is odd.\")"
   ]
  },
  {
   "cell_type": "raw",
   "id": "286e19c7-8de0-4e65-a03c-addb311c9a48",
   "metadata": {},
   "source": [
    "--- Elif Statement"
   ]
  },
  {
   "cell_type": "code",
   "execution_count": 5,
   "id": "af9338a3-5816-4095-a61f-b49d7e48a961",
   "metadata": {},
   "outputs": [
    {
     "name": "stdout",
     "output_type": "stream",
     "text": [
      "Grade: C\n"
     ]
    }
   ],
   "source": [
    "score = 78\n",
    "\n",
    "if score >= 90:\n",
    "    print(\"Grade: A\")\n",
    "elif score >= 80:\n",
    "    print(\"Grade: B\")\n",
    "elif score >= 70:\n",
    "    print(\"Grade: C\")\n",
    "elif score >= 60:\n",
    "    print(\"Grade: D\")\n",
    "else:\n",
    "    print(\"Grade: F\")"
   ]
  },
  {
   "cell_type": "code",
   "execution_count": null,
   "id": "53b7c41a-701f-43f2-aba0-5fcee765e008",
   "metadata": {},
   "outputs": [],
   "source": []
  }
 ],
 "metadata": {
  "kernelspec": {
   "display_name": "Python 3 (ipykernel)",
   "language": "python",
   "name": "python3"
  },
  "language_info": {
   "codemirror_mode": {
    "name": "ipython",
    "version": 3
   },
   "file_extension": ".py",
   "mimetype": "text/x-python",
   "name": "python",
   "nbconvert_exporter": "python",
   "pygments_lexer": "ipython3",
   "version": "3.12.4"
  }
 },
 "nbformat": 4,
 "nbformat_minor": 5
}
