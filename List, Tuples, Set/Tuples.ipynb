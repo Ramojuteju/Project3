{
 "cells": [
  {
   "cell_type": "code",
   "execution_count": null,
   "id": "7fd9b120-92ea-4d14-b4bf-eec9d747ecd0",
   "metadata": {},
   "outputs": [],
   "source": [
    "# --- Lists"
   ]
  },
  {
   "cell_type": "code",
   "execution_count": null,
   "id": "333708c9-66e4-4496-9747-3094a4bc6119",
   "metadata": {},
   "outputs": [],
   "source": [
    "# --- Creating Lists"
   ]
  },
  {
   "cell_type": "code",
   "execution_count": 29,
   "id": "c795cf9c-b2c6-42d3-a056-2ef93a376f56",
   "metadata": {},
   "outputs": [],
   "source": [
    "my_list = [1, 2, 3, 4, 5]"
   ]
  },
  {
   "cell_type": "code",
   "execution_count": 31,
   "id": "7e5f4dce-d7e9-41aa-b2db-7275a557fb79",
   "metadata": {},
   "outputs": [
    {
     "name": "stdout",
     "output_type": "stream",
     "text": [
      "Original List: [1, 2, 3, 4, 5]\n"
     ]
    }
   ],
   "source": [
    "print(\"Original List:\", my_list)"
   ]
  },
  {
   "cell_type": "code",
   "execution_count": null,
   "id": "490b3f47-b4f8-4a6b-a761-3f594a580e5f",
   "metadata": {},
   "outputs": [],
   "source": [
    "# --- Manipulating Lists"
   ]
  },
  {
   "cell_type": "code",
   "execution_count": 33,
   "id": "baa79adc-872f-4ea8-b056-59ea2dbc1da9",
   "metadata": {},
   "outputs": [
    {
     "name": "stdout",
     "output_type": "stream",
     "text": [
      "After Append: [1, 2, 3, 4, 5, 6]\n",
      "After Insert: [0, 1, 2, 3, 4, 5, 6]\n",
      "After Remove: [0, 1, 2, 4, 5, 6]\n",
      "Popped Element: 6\n",
      "After Pop: [0, 1, 2, 4, 5]\n",
      "Sliced List: [1, 2, 4]\n",
      "Sorted List: [0, 1, 2, 4, 5]\n"
     ]
    }
   ],
   "source": [
    "my_list.append(6)                \n",
    "print(\"After Append:\", my_list)\n",
    "\n",
    "my_list.insert(0, 0)              \n",
    "print(\"After Insert:\", my_list)\n",
    "\n",
    "my_list.remove(3)                 \n",
    "print(\"After Remove:\", my_list)\n",
    "\n",
    "popped_element = my_list.pop()     \n",
    "print(\"Popped Element:\", popped_element)\n",
    "print(\"After Pop:\", my_list)\n",
    "\n",
    "sliced_list = my_list[1:4]        \n",
    "print(\"Sliced List:\", sliced_list)\n",
    "\n",
    "my_list.sort()\n",
    "print(\"Sorted List:\", my_list)"
   ]
  },
  {
   "cell_type": "code",
   "execution_count": 1,
   "id": "62294bcf-4864-4ae2-a89e-c23035e7e293",
   "metadata": {},
   "outputs": [],
   "source": [
    "# --- Creating Tuples"
   ]
  },
  {
   "cell_type": "code",
   "execution_count": 3,
   "id": "0445bbfb-eb2c-4476-a888-344531ea9b27",
   "metadata": {},
   "outputs": [],
   "source": [
    "my_tuple = (1, 2, 3, 4, 5)"
   ]
  },
  {
   "cell_type": "code",
   "execution_count": 5,
   "id": "c71161a3-75b2-43ec-b5ce-9ed75ffec9c0",
   "metadata": {},
   "outputs": [
    {
     "name": "stdout",
     "output_type": "stream",
     "text": [
      "Original Tuple: (1, 2, 3, 4, 5)\n"
     ]
    }
   ],
   "source": [
    "print(\"Original Tuple:\", my_tuple)"
   ]
  },
  {
   "cell_type": "code",
   "execution_count": null,
   "id": "7c4b7d5d-8a20-4518-8b77-f15c37ac21c5",
   "metadata": {},
   "outputs": [],
   "source": [
    "# --- Manipulating Tuples"
   ]
  },
  {
   "cell_type": "code",
   "execution_count": 41,
   "id": "53d6eccb-a739-463d-8354-0fff3f20d811",
   "metadata": {},
   "outputs": [
    {
     "name": "stdout",
     "output_type": "stream",
     "text": [
      "Modified Tuple: (1, 2, 3, 4, 5, 6)\n",
      "First Element: 1\n"
     ]
    }
   ],
   "source": [
    "temp_list = list(my_tuple)\n",
    "\n",
    "temp_list.append(6)\n",
    "my_tuple = tuple(temp_list)       \n",
    "print(\"Modified Tuple:\", my_tuple)\n",
    "\n",
    "first_element = my_tuple[0]\n",
    "print(\"First Element:\", first_element)"
   ]
  },
  {
   "cell_type": "code",
   "execution_count": null,
   "id": "a82de267-566e-43eb-b0fd-89b694d62da1",
   "metadata": {},
   "outputs": [],
   "source": [
    "# --- Sets"
   ]
  },
  {
   "cell_type": "code",
   "execution_count": null,
   "id": "e170b7fc-b861-44d4-8fd4-addc1d44b51b",
   "metadata": {},
   "outputs": [],
   "source": [
    "# --- Creating Sets"
   ]
  },
  {
   "cell_type": "code",
   "execution_count": 43,
   "id": "23fff952-4a75-4711-ae60-4452b1f34a1e",
   "metadata": {},
   "outputs": [],
   "source": [
    "my_set = {1, 2, 3, 4, 5}"
   ]
  },
  {
   "cell_type": "code",
   "execution_count": 45,
   "id": "f6032900-ff60-4744-b5fb-bf8f276c34c1",
   "metadata": {},
   "outputs": [
    {
     "name": "stdout",
     "output_type": "stream",
     "text": [
      "Original Set: {1, 2, 3, 4, 5}\n"
     ]
    }
   ],
   "source": [
    "print(\"Original Set:\", my_set)"
   ]
  },
  {
   "cell_type": "code",
   "execution_count": null,
   "id": "fd0ea502-1e45-4dc2-a1e1-b681d1922252",
   "metadata": {},
   "outputs": [],
   "source": [
    "# --- Manipulating Sets"
   ]
  },
  {
   "cell_type": "code",
   "execution_count": 47,
   "id": "725926e0-3d99-4549-9298-b13ae5c27197",
   "metadata": {},
   "outputs": [
    {
     "name": "stdout",
     "output_type": "stream",
     "text": [
      "After Add: {1, 2, 3, 4, 5, 6}\n",
      "After Remove: {1, 2, 4, 5, 6}\n",
      "After Discard: {1, 4, 5, 6}\n",
      "Union: {1, 4, 5, 6, 7}\n",
      "Intersection: {4, 5, 6}\n",
      "Difference: {1}\n"
     ]
    }
   ],
   "source": [
    "my_set.add(6)\n",
    "print(\"After Add:\", my_set)\n",
    "\n",
    "my_set.remove(3)                 \n",
    "print(\"After Remove:\", my_set)\n",
    "\n",
    "my_set.discard(2)                \n",
    "print(\"After Discard:\", my_set)\n",
    "\n",
    "another_set = {4, 5, 6, 7}\n",
    "union_set = my_set.union(another_set)     \n",
    "print(\"Union:\", union_set)\n",
    "\n",
    "intersection_set = my_set.intersection(another_set)  \n",
    "print(\"Intersection:\", intersection_set)\n",
    "\n",
    "difference_set = my_set.difference(another_set)      \n",
    "print(\"Difference:\", difference_set)"
   ]
  },
  {
   "cell_type": "code",
   "execution_count": null,
   "id": "6d633733-7f92-4b99-8294-0bf01561d9bc",
   "metadata": {},
   "outputs": [],
   "source": [
    "# --- Dictionaries"
   ]
  },
  {
   "cell_type": "code",
   "execution_count": null,
   "id": "e4cdae17-cfa7-4736-8898-6e1a2a4e8bc8",
   "metadata": {},
   "outputs": [],
   "source": [
    "# --- Creating Dictionaries"
   ]
  },
  {
   "cell_type": "code",
   "execution_count": 53,
   "id": "70ca0a38-84f6-4b91-bbba-099407c856b8",
   "metadata": {},
   "outputs": [
    {
     "name": "stdout",
     "output_type": "stream",
     "text": [
      "Original Dictionary: {'name': 'Alice', 'age': 30, 'city': 'New York'}\n"
     ]
    }
   ],
   "source": [
    "my_dict = {\n",
    "    'name': 'Alice',\n",
    "    'age': 30,\n",
    "    'city': 'New York'\n",
    "}\n",
    "print(\"Original Dictionary:\", my_dict)"
   ]
  },
  {
   "cell_type": "code",
   "execution_count": null,
   "id": "2ae44bac-7f4a-4911-b7a6-9460c6075cd1",
   "metadata": {},
   "outputs": [],
   "source": [
    "# --- Manipulating Dictionaries"
   ]
  },
  {
   "cell_type": "code",
   "execution_count": 21,
   "id": "50076ce7-4169-4a4f-9d4b-8f754ad86329",
   "metadata": {},
   "outputs": [
    {
     "name": "stdout",
     "output_type": "stream",
     "text": [
      "After Adding Email: {'name': 'Alice', 'age': 30, 'city': 'New York', 'email': 'alice@example.com'}\n",
      "After Updating Age: {'name': 'Alice', 'age': 31, 'city': 'New York', 'email': 'alice@example.com'}\n",
      "After Deleting City: {'name': 'Alice', 'age': 31, 'email': 'alice@example.com'}\n",
      "Name: Alice\n",
      "name: Alice\n",
      "age: 31\n",
      "email: alice@example.com\n"
     ]
    }
   ],
   "source": [
    "my_dict['email'] = 'alice@example.com'\n",
    "print(\"After Adding Email:\", my_dict)\n",
    "\n",
    "my_dict['age'] = 31\n",
    "print(\"After Updating Age:\", my_dict)\n",
    "\n",
    "del my_dict['city']\n",
    "print(\"After Deleting City:\", my_dict)\n",
    "\n",
    "name = my_dict['name']\n",
    "print(\"Name:\", name)\n",
    "\n",
    "for key, value in my_dict.items():\n",
    "    print(f\"{key}: {value}\")"
   ]
  },
  {
   "cell_type": "code",
   "execution_count": null,
   "id": "ebb60232-03d4-415d-80be-ce81e89a3fbc",
   "metadata": {},
   "outputs": [],
   "source": []
  }
 ],
 "metadata": {
  "kernelspec": {
   "display_name": "Python 3 (ipykernel)",
   "language": "python",
   "name": "python3"
  },
  "language_info": {
   "codemirror_mode": {
    "name": "ipython",
    "version": 3
   },
   "file_extension": ".py",
   "mimetype": "text/x-python",
   "name": "python",
   "nbconvert_exporter": "python",
   "pygments_lexer": "ipython3",
   "version": "3.12.4"
  }
 },
 "nbformat": 4,
 "nbformat_minor": 5
}
