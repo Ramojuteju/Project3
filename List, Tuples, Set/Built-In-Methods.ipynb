{
 "cells": [
  {
   "cell_type": "code",
   "execution_count": null,
   "id": "faee5106-29c8-4bdd-bd49-2e6dc7509fa7",
   "metadata": {},
   "outputs": [],
   "source": [
    "# --- Lists"
   ]
  },
  {
   "cell_type": "code",
   "execution_count": null,
   "id": "900e1fd6-8d80-4015-b2dd-5027dbd55cb4",
   "metadata": {},
   "outputs": [],
   "source": [
    "# --- Appendex()"
   ]
  },
  {
   "cell_type": "code",
   "execution_count": 6,
   "id": "489fcee8-663e-4450-8e1e-bfec56b61db0",
   "metadata": {},
   "outputs": [
    {
     "name": "stdout",
     "output_type": "stream",
     "text": [
      "['apple', 'banana', 'cherry']\n"
     ]
    }
   ],
   "source": [
    "fruits = ['apple', 'banana']\n",
    "app = fruits.append('cherry')\n",
    "print(fruits)"
   ]
  },
  {
   "cell_type": "code",
   "execution_count": 26,
   "id": "d6232a5f-0760-409a-8054-983e7553cb46",
   "metadata": {},
   "outputs": [],
   "source": [
    "# --- Extend"
   ]
  },
  {
   "cell_type": "code",
   "execution_count": 28,
   "id": "d02a7a2d-7df4-49f5-afe9-36d56c3c68ca",
   "metadata": {},
   "outputs": [
    {
     "name": "stdout",
     "output_type": "stream",
     "text": [
      "['apple', 'blueberry', 'banana', 'date', 'elderberry']\n"
     ]
    }
   ],
   "source": [
    "fruits.extend(['date', 'elderberry'])\n",
    "print(fruits)"
   ]
  },
  {
   "cell_type": "code",
   "execution_count": 30,
   "id": "4e56067a-b086-42fe-8003-569dd858489d",
   "metadata": {},
   "outputs": [],
   "source": [
    "# --- Insert"
   ]
  },
  {
   "cell_type": "code",
   "execution_count": 32,
   "id": "813a5e62-71db-465b-bc5a-230ea0df4725",
   "metadata": {},
   "outputs": [
    {
     "name": "stdout",
     "output_type": "stream",
     "text": [
      "['apple', 'blueberry', 'blueberry', 'banana', 'date', 'elderberry']\n"
     ]
    }
   ],
   "source": [
    "fruits.insert(1, 'blueberry')\n",
    "print(fruits)"
   ]
  },
  {
   "cell_type": "code",
   "execution_count": 34,
   "id": "d252b8c1-9d75-4e51-9ca8-788d3db36f9c",
   "metadata": {},
   "outputs": [],
   "source": [
    "# --- pop"
   ]
  },
  {
   "cell_type": "code",
   "execution_count": 36,
   "id": "7a6fab26-327b-4b64-a880-79ccee9e8f77",
   "metadata": {},
   "outputs": [
    {
     "name": "stdout",
     "output_type": "stream",
     "text": [
      "elderberry\n"
     ]
    }
   ],
   "source": [
    "last_fruit = fruits.pop()\n",
    "print(last_fruit)"
   ]
  },
  {
   "cell_type": "code",
   "execution_count": 38,
   "id": "a2d475eb-4fc8-410e-ac43-10107f154e3b",
   "metadata": {},
   "outputs": [],
   "source": [
    "# --- Count"
   ]
  },
  {
   "cell_type": "code",
   "execution_count": 40,
   "id": "ef5252ca-862e-4074-bc52-0f16c1452e47",
   "metadata": {},
   "outputs": [
    {
     "name": "stdout",
     "output_type": "stream",
     "text": [
      "1\n"
     ]
    }
   ],
   "source": [
    "count = fruits.count('apple')\n",
    "print(count)"
   ]
  },
  {
   "cell_type": "code",
   "execution_count": null,
   "id": "fcdf3364-66e4-4e8b-8dd8-937a4f949c56",
   "metadata": {},
   "outputs": [],
   "source": [
    "# --- Reverse"
   ]
  },
  {
   "cell_type": "code",
   "execution_count": 46,
   "id": "82ee6d78-42af-4b8a-a0b6-d42ed1acc463",
   "metadata": {},
   "outputs": [
    {
     "name": "stdout",
     "output_type": "stream",
     "text": [
      "['date', 'banana', 'blueberry', 'blueberry', 'apple']\n"
     ]
    }
   ],
   "source": [
    "fruits.reverse()\n",
    "print(fruits)"
   ]
  },
  {
   "cell_type": "code",
   "execution_count": null,
   "id": "c9aa0935-12f3-4ea1-af3e-964929593a63",
   "metadata": {},
   "outputs": [],
   "source": [
    "# --- Tuples"
   ]
  },
  {
   "cell_type": "code",
   "execution_count": 48,
   "id": "7c67466a-4ad1-4e21-a0e8-40df91156e43",
   "metadata": {},
   "outputs": [],
   "source": [
    "# --- Count"
   ]
  },
  {
   "cell_type": "code",
   "execution_count": 50,
   "id": "9c2946d2-d278-4586-b364-962d99122c2a",
   "metadata": {},
   "outputs": [
    {
     "name": "stdout",
     "output_type": "stream",
     "text": [
      "1\n"
     ]
    }
   ],
   "source": [
    "colors = ('red', 'green', 'blue')\n",
    "count = colors.count('red')\n",
    "print(count)"
   ]
  },
  {
   "cell_type": "code",
   "execution_count": null,
   "id": "d4f5cbee-fc31-46d9-a1d2-58366d301e8b",
   "metadata": {},
   "outputs": [],
   "source": [
    "# --- Index(x[, start[, end]]): Returns the index of the first item whose value is equal to x"
   ]
  },
  {
   "cell_type": "code",
   "execution_count": 52,
   "id": "705cf754-31d1-4bf2-9f5a-981fd10d22c9",
   "metadata": {},
   "outputs": [
    {
     "name": "stdout",
     "output_type": "stream",
     "text": [
      "1\n"
     ]
    }
   ],
   "source": [
    "index = colors.index('green')\n",
    "print(index)"
   ]
  },
  {
   "cell_type": "code",
   "execution_count": null,
   "id": "a8d6d7f0-bbcf-46bc-ba21-7761ba6edbbf",
   "metadata": {},
   "outputs": [],
   "source": [
    "# --- Sets"
   ]
  },
  {
   "cell_type": "code",
   "execution_count": 76,
   "id": "2641405f-2e4f-43d5-9ab0-af85c7cfac9b",
   "metadata": {},
   "outputs": [],
   "source": [
    "# --- Add"
   ]
  },
  {
   "cell_type": "code",
   "execution_count": 101,
   "id": "3d532476-479e-436c-942c-42a8d3f9a316",
   "metadata": {},
   "outputs": [
    {
     "name": "stdout",
     "output_type": "stream",
     "text": [
      "{1, 2, 3, 4}\n"
     ]
    }
   ],
   "source": [
    "unique_numbers = {1, 2, 3}\n",
    "unique_numbers.add(4)\n",
    "print(unique_numbers)"
   ]
  },
  {
   "cell_type": "code",
   "execution_count": 103,
   "id": "776d4b38-be64-465e-a5a2-57004bbdbd33",
   "metadata": {},
   "outputs": [],
   "source": [
    "# --- Update"
   ]
  },
  {
   "cell_type": "code",
   "execution_count": 105,
   "id": "b60049fd-8bc0-4332-919c-076c39f42036",
   "metadata": {},
   "outputs": [
    {
     "name": "stdout",
     "output_type": "stream",
     "text": [
      "{1, 2, 3, 4, 5, 6}\n"
     ]
    }
   ],
   "source": [
    "unique_numbers.update([5, 6])\n",
    "print(unique_numbers)"
   ]
  },
  {
   "cell_type": "code",
   "execution_count": 107,
   "id": "7f5c84eb-70c8-49ed-a87e-18b02951967a",
   "metadata": {},
   "outputs": [],
   "source": [
    "# --- Remove"
   ]
  },
  {
   "cell_type": "code",
   "execution_count": 109,
   "id": "031b54df-217a-4e58-b8d4-7931019944c4",
   "metadata": {},
   "outputs": [
    {
     "name": "stdout",
     "output_type": "stream",
     "text": [
      "{1, 2, 4, 5, 6}\n"
     ]
    }
   ],
   "source": [
    "unique_numbers.remove(3)\n",
    "print(unique_numbers)"
   ]
  },
  {
   "cell_type": "code",
   "execution_count": 111,
   "id": "598b9e9a-a92b-49fd-9c03-d51e245daa1d",
   "metadata": {},
   "outputs": [],
   "source": [
    "# --- Clear"
   ]
  },
  {
   "cell_type": "code",
   "execution_count": 113,
   "id": "5a62663e-c11e-466e-916c-f425e85fbafc",
   "metadata": {},
   "outputs": [
    {
     "name": "stdout",
     "output_type": "stream",
     "text": [
      "set()\n"
     ]
    }
   ],
   "source": [
    "unique_numbers.clear()\n",
    "print(unique_numbers)"
   ]
  },
  {
   "cell_type": "code",
   "execution_count": 115,
   "id": "7a4ebfef-901f-443a-aaf6-bf89913f0d1c",
   "metadata": {},
   "outputs": [],
   "source": [
    "# --- Dictionaries"
   ]
  },
  {
   "cell_type": "code",
   "execution_count": 117,
   "id": "f67a363b-7ca0-4a63-b5ba-fdca0ab79a00",
   "metadata": {},
   "outputs": [],
   "source": [
    "my_dict = {'name': 'Alice', 'age': 30}\n",
    "my_dict['city'] = 'New York' "
   ]
  },
  {
   "cell_type": "code",
   "execution_count": 96,
   "id": "f0ff5bd5-9bf7-4a7c-9dae-46cf41928cc5",
   "metadata": {},
   "outputs": [
    {
     "name": "stdout",
     "output_type": "stream",
     "text": [
      "Alice\n",
      "dict_keys(['name', 'age', 'city'])\n"
     ]
    }
   ],
   "source": [
    "print(my_dict.get('name'))    \n",
    "print(my_dict.keys())"
   ]
  }
 ],
 "metadata": {
  "kernelspec": {
   "display_name": "Python 3 (ipykernel)",
   "language": "python",
   "name": "python3"
  },
  "language_info": {
   "codemirror_mode": {
    "name": "ipython",
    "version": 3
   },
   "file_extension": ".py",
   "mimetype": "text/x-python",
   "name": "python",
   "nbconvert_exporter": "python",
   "pygments_lexer": "ipython3",
   "version": "3.12.4"
  }
 },
 "nbformat": 4,
 "nbformat_minor": 5
}
