{
 "cells": [
  {
   "cell_type": "code",
   "execution_count": 27,
   "id": "50ea0169-ebbd-4ef6-99e1-b2ed5736f7ab",
   "metadata": {},
   "outputs": [],
   "source": [
    "# --- List"
   ]
  },
  {
   "cell_type": "code",
   "execution_count": 29,
   "id": "f0ca0055-76fb-48d0-93d0-0ae276e664b2",
   "metadata": {},
   "outputs": [],
   "source": [
    "# --- Indexing"
   ]
  },
  {
   "cell_type": "code",
   "execution_count": 31,
   "id": "a0eb2de2-2e29-4f25-a258-d21cf2c77607",
   "metadata": {},
   "outputs": [],
   "source": [
    "my_list = (10, 20, 30, 40, 50)"
   ]
  },
  {
   "cell_type": "code",
   "execution_count": 33,
   "id": "a23c1280-e7df-4f62-872a-7d86ae373793",
   "metadata": {},
   "outputs": [
    {
     "name": "stdout",
     "output_type": "stream",
     "text": [
      "First Element: 10\n",
      "Last Element: 50\n"
     ]
    }
   ],
   "source": [
    "first_element = my_list[0]\n",
    "last_element = my_list[-1]\n",
    "print(\"First Element:\", first_element)\n",
    "print(\"Last Element:\", last_element)"
   ]
  },
  {
   "cell_type": "code",
   "execution_count": 35,
   "id": "32c3bb76-1334-4b26-ab1e-cc2367124bde",
   "metadata": {},
   "outputs": [],
   "source": [
    "# --- Slicing"
   ]
  },
  {
   "cell_type": "code",
   "execution_count": 37,
   "id": "837a6b71-51c9-4b30-a893-1cd7550f107b",
   "metadata": {},
   "outputs": [],
   "source": [
    "sliced_list = my_list[1:4]"
   ]
  },
  {
   "cell_type": "code",
   "execution_count": 39,
   "id": "d64bb8cd-f576-4ba9-be50-8fd276b9c0ce",
   "metadata": {},
   "outputs": [
    {
     "name": "stdout",
     "output_type": "stream",
     "text": [
      "Sliced List: (20, 30, 40)\n"
     ]
    }
   ],
   "source": [
    "print(\"Sliced List:\", sliced_list)"
   ]
  },
  {
   "cell_type": "code",
   "execution_count": 41,
   "id": "bce4db1d-5ab8-41bd-bf6b-6cbf78d7872f",
   "metadata": {},
   "outputs": [],
   "source": [
    "# --- Adding Elements"
   ]
  },
  {
   "cell_type": "code",
   "execution_count": 53,
   "id": "074c9ca0-622b-4f08-a8c9-a78adc7f5d3e",
   "metadata": {},
   "outputs": [
    {
     "name": "stdout",
     "output_type": "stream",
     "text": [
      "['apple', 'blueberry', 'banana', 'cherry', 'elderberry', 'fig', 'grape', 'elderberry']\n",
      "['apple', 'blueberry', 'blueberry', 'banana', 'cherry', 'elderberry', 'fig', 'grape', 'elderberry']\n",
      "['apple', 'blueberry', 'blueberry', 'banana', 'cherry', 'elderberry', 'fig', 'grape', 'elderberry', 'fig', 'grape']\n"
     ]
    }
   ],
   "source": [
    "fruits.append('elderberry')  # Adds to the end\n",
    "print(fruits)  \n",
    "\n",
    "fruits.insert(1, 'blueberry')  # Inserts at index 1\n",
    "print(fruits)  \n",
    "\n",
    "fruits.extend(['fig', 'grape'])  # Adds multiple elements\n",
    "print(fruits) "
   ]
  },
  {
   "cell_type": "code",
   "execution_count": 55,
   "id": "de24a5ab-2fd1-4a3f-b4dc-56562a6c9d3e",
   "metadata": {},
   "outputs": [],
   "source": [
    "# --- Removing Elements"
   ]
  },
  {
   "cell_type": "code",
   "execution_count": 57,
   "id": "885753ef-ffbb-4257-8bbc-257809f069a7",
   "metadata": {},
   "outputs": [
    {
     "name": "stdout",
     "output_type": "stream",
     "text": [
      "['apple', 'blueberry', 'blueberry', 'cherry', 'elderberry', 'fig', 'grape', 'elderberry', 'fig', 'grape']\n",
      "blueberry\n",
      "['apple', 'blueberry', 'cherry', 'elderberry', 'fig', 'grape', 'elderberry', 'fig', 'grape']\n",
      "[]\n"
     ]
    }
   ],
   "source": [
    "fruits.remove('banana')  # Removes the first occurrence\n",
    "print(fruits)  \n",
    "\n",
    "removed_fruit = fruits.pop(2)  # Removes and returns the element at index 2\n",
    "print(removed_fruit)  # Output: 'cherry'\n",
    "print(fruits)  \n",
    "\n",
    "fruits.clear()  # Removes all elements\n",
    "print(fruits)"
   ]
  },
  {
   "cell_type": "code",
   "execution_count": 59,
   "id": "0c1bc9db-f9a3-47f1-a3ea-2a3e80336c6c",
   "metadata": {},
   "outputs": [],
   "source": [
    "# --- Tuples"
   ]
  },
  {
   "cell_type": "code",
   "execution_count": 65,
   "id": "aa67336b-ce09-4857-ac3e-0582ed213979",
   "metadata": {},
   "outputs": [
    {
     "name": "stdout",
     "output_type": "stream",
     "text": [
      "('green', 'blue')\n"
     ]
    }
   ],
   "source": [
    "print(colors[1:3]) "
   ]
  },
  {
   "cell_type": "code",
   "execution_count": 69,
   "id": "ebf80f23-3c92-4964-a436-6d230b155423",
   "metadata": {},
   "outputs": [],
   "source": [
    "# --- Adding Elements / Removing"
   ]
  },
  {
   "cell_type": "code",
   "execution_count": null,
   "id": "ce8fa30e-0dcd-4573-8718-5972b6b1bf82",
   "metadata": {},
   "outputs": [],
   "source": [
    "# --- Indexing"
   ]
  },
  {
   "cell_type": "code",
   "execution_count": 61,
   "id": "8f3175b6-7ce4-4401-8f64-485e5091f5a2",
   "metadata": {},
   "outputs": [
    {
     "name": "stdout",
     "output_type": "stream",
     "text": [
      "red\n"
     ]
    }
   ],
   "source": [
    "colors = ('red', 'green', 'blue')\n",
    "print(colors[0])"
   ]
  },
  {
   "cell_type": "code",
   "execution_count": 63,
   "id": "adc4bf76-a9b3-4e8f-a7bf-54b45409b97c",
   "metadata": {},
   "outputs": [],
   "source": [
    "# --- Slicing"
   ]
  },
  {
   "cell_type": "code",
   "execution_count": 71,
   "id": "dac7ee21-c633-46bd-86e1-b90f7c2b327d",
   "metadata": {},
   "outputs": [],
   "source": [
    "# Tuples are immutable, you cannot add or remove elements directly"
   ]
  },
  {
   "cell_type": "code",
   "execution_count": 73,
   "id": "30e68b7c-319a-4dda-8294-9c06944bb41e",
   "metadata": {},
   "outputs": [],
   "source": [
    "# --- Sets"
   ]
  },
  {
   "cell_type": "code",
   "execution_count": 75,
   "id": "e79341c6-f143-4858-9f21-3c00f2d3e755",
   "metadata": {},
   "outputs": [],
   "source": [
    "# --- Adding Elements"
   ]
  },
  {
   "cell_type": "code",
   "execution_count": 77,
   "id": "7b04ad12-d42f-4cd8-820e-3552158ed8d1",
   "metadata": {},
   "outputs": [
    {
     "name": "stdout",
     "output_type": "stream",
     "text": [
      "{1, 2, 3, 4}\n",
      "{1, 2, 3, 4, 5, 6, 7}\n"
     ]
    }
   ],
   "source": [
    "unique_numbers = {1, 2, 3}\n",
    "unique_numbers.add(4)  # Adds a single element\n",
    "print(unique_numbers)  # Output: {1, 2, 3, 4}\n",
    "\n",
    "unique_numbers.update([5, 6, 7])  # Adds multiple elements\n",
    "print(unique_numbers)"
   ]
  },
  {
   "cell_type": "code",
   "execution_count": 79,
   "id": "6dc766b1-f1dd-46d9-b1cc-c6fc78b48d58",
   "metadata": {},
   "outputs": [],
   "source": [
    "# --- Removing Elements"
   ]
  },
  {
   "cell_type": "code",
   "execution_count": 81,
   "id": "50894956-f381-46d8-84bd-df2ab03b02a8",
   "metadata": {},
   "outputs": [
    {
     "name": "stdout",
     "output_type": "stream",
     "text": [
      "{1, 2, 4, 5, 6, 7}\n",
      "{1, 2, 4, 5, 6, 7}\n",
      "1\n",
      "{2, 4, 5, 6, 7}\n"
     ]
    }
   ],
   "source": [
    "unique_numbers.remove(3)  # Removes an element; raises KeyError if not found\n",
    "print(unique_numbers)  \n",
    "\n",
    "unique_numbers.discard(10)  # Does not raise an error if not found\n",
    "print(unique_numbers)  \n",
    "\n",
    "popped_element = unique_numbers.pop()  # Removes and returns an arbitrary element\n",
    "print(popped_element)  \n",
    "print(unique_numbers)"
   ]
  },
  {
   "cell_type": "code",
   "execution_count": 83,
   "id": "41fb35ed-5750-412f-a97a-801a03819848",
   "metadata": {},
   "outputs": [],
   "source": [
    "# --- Dictionaries"
   ]
  },
  {
   "cell_type": "code",
   "execution_count": 85,
   "id": "8b3a003c-e94f-4f0a-98fd-c1e57aa0e02d",
   "metadata": {},
   "outputs": [],
   "source": [
    "# --- Indexing"
   ]
  },
  {
   "cell_type": "code",
   "execution_count": 87,
   "id": "b8d40986-c76c-40fb-9644-9892745e9164",
   "metadata": {},
   "outputs": [
    {
     "name": "stdout",
     "output_type": "stream",
     "text": [
      "Alice\n"
     ]
    }
   ],
   "source": [
    "person = {'name': 'Alice', 'age': 30, 'city': 'New York'}\n",
    "print(person['name'])"
   ]
  },
  {
   "cell_type": "code",
   "execution_count": 89,
   "id": "3093a2d9-010e-468f-bbed-6b292fecfa9f",
   "metadata": {},
   "outputs": [],
   "source": [
    "# --- Adding Element"
   ]
  },
  {
   "cell_type": "code",
   "execution_count": 91,
   "id": "73634c47-452b-411c-a9db-07db5bf4e1e5",
   "metadata": {},
   "outputs": [
    {
     "name": "stdout",
     "output_type": "stream",
     "text": [
      "{'name': 'Alice', 'age': 30, 'city': 'New York', 'job': 'Engineer'}\n",
      "{'name': 'Alice', 'age': 31, 'city': 'New York', 'job': 'Engineer'}\n"
     ]
    }
   ],
   "source": [
    "person['job'] = 'Engineer'  # Adds a new key-value pair\n",
    "print(person)  \n",
    "\n",
    "person['age'] = 31  # Updates existing key\n",
    "print(person)"
   ]
  },
  {
   "cell_type": "code",
   "execution_count": 93,
   "id": "5ff801e1-dbbc-48af-8d7c-e8d733c2bc29",
   "metadata": {},
   "outputs": [],
   "source": [
    "# --- Removing Element"
   ]
  },
  {
   "cell_type": "code",
   "execution_count": 95,
   "id": "4ef63eb9-601a-4017-89d3-8730910dc705",
   "metadata": {},
   "outputs": [
    {
     "name": "stdout",
     "output_type": "stream",
     "text": [
      "{'name': 'Alice', 'age': 31, 'job': 'Engineer'}\n",
      "31\n",
      "{'name': 'Alice', 'job': 'Engineer'}\n",
      "{}\n"
     ]
    }
   ],
   "source": [
    "del person['city']  # Removes the key-value pair for 'city'\n",
    "print(person)  \n",
    "\n",
    "age = person.pop('age')  # Removes and returns the value of 'age'\n",
    "print(age)  # Output: 31\n",
    "print(person)  \n",
    "\n",
    "person.clear()  # Removes all key-value pairs\n",
    "print(person)"
   ]
  },
  {
   "cell_type": "code",
   "execution_count": null,
   "id": "289573e0-c6de-40bb-9c93-7466876e9214",
   "metadata": {},
   "outputs": [],
   "source": []
  }
 ],
 "metadata": {
  "kernelspec": {
   "display_name": "Python 3 (ipykernel)",
   "language": "python",
   "name": "python3"
  },
  "language_info": {
   "codemirror_mode": {
    "name": "ipython",
    "version": 3
   },
   "file_extension": ".py",
   "mimetype": "text/x-python",
   "name": "python",
   "nbconvert_exporter": "python",
   "pygments_lexer": "ipython3",
   "version": "3.12.4"
  }
 },
 "nbformat": 4,
 "nbformat_minor": 5
}
