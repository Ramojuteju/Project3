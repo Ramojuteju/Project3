{
 "cells": [
  {
   "cell_type": "code",
   "execution_count": 7,
   "id": "d9b67d69-c73a-483e-9962-1c0eab2f7fcf",
   "metadata": {},
   "outputs": [],
   "source": [
    "# --- Lists // Ordered,Changable,[],Allow Duplicate & Index"
   ]
  },
  {
   "cell_type": "code",
   "execution_count": 9,
   "id": "928eeb85-4289-4a01-86c8-5b40724838a2",
   "metadata": {},
   "outputs": [],
   "source": [
    "my_list = [1, 2, 3, 4]\n",
    "my_list.append(5)"
   ]
  },
  {
   "cell_type": "code",
   "execution_count": null,
   "id": "d9025683-5fc2-48cc-abde-d9ccfd61405d",
   "metadata": {},
   "outputs": [],
   "source": [
    "# --- Tuples // Ordered,no Change,(),Allow Duplicate & Index"
   ]
  },
  {
   "cell_type": "code",
   "execution_count": 3,
   "id": "1dea064d-df47-4dca-b5db-523ce33084c6",
   "metadata": {},
   "outputs": [],
   "source": [
    "my_tuple = (1, 2, 3, 4)"
   ]
  },
  {
   "cell_type": "code",
   "execution_count": null,
   "id": "0f4ec0fb-04d5-40c0-8a25-50ea99d292ff",
   "metadata": {},
   "outputs": [],
   "source": [
    "# --- Sets // UnOrdered,Changable,{} or Set(),Doesn't Allows Duplicate & Index"
   ]
  },
  {
   "cell_type": "code",
   "execution_count": 5,
   "id": "6ad99358-2d59-4242-8b5f-4fbc82e3b6f9",
   "metadata": {},
   "outputs": [],
   "source": [
    "my_set = {1, 2, 3, 4}\n",
    "my_set.add(5)"
   ]
  },
  {
   "cell_type": "code",
   "execution_count": null,
   "id": "4d08605b-cf2a-4550-a0d1-9d509df4b1b4",
   "metadata": {},
   "outputs": [],
   "source": [
    "# --- Dictionaries // UnOrdered,Changable,{} with Key&Value,Must be Unique"
   ]
  },
  {
   "cell_type": "code",
   "execution_count": 7,
   "id": "fcf17a92-864f-419f-a017-3f5a94070a7c",
   "metadata": {},
   "outputs": [
    {
     "name": "stdout",
     "output_type": "stream",
     "text": [
      "Alice\n"
     ]
    }
   ],
   "source": [
    "my_dict = {'name': 'Alice', 'age': 30}\n",
    "my_dict['city'] = 'New York' \n",
    "print(my_dict['name']) "
   ]
  }
 ],
 "metadata": {
  "kernelspec": {
   "display_name": "Python 3 (ipykernel)",
   "language": "python",
   "name": "python3"
  },
  "language_info": {
   "codemirror_mode": {
    "name": "ipython",
    "version": 3
   },
   "file_extension": ".py",
   "mimetype": "text/x-python",
   "name": "python",
   "nbconvert_exporter": "python",
   "pygments_lexer": "ipython3",
   "version": "3.12.4"
  }
 },
 "nbformat": 4,
 "nbformat_minor": 5
}
