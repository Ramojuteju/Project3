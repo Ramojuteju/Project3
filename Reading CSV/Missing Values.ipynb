{
 "cells": [
  {
   "cell_type": "code",
   "execution_count": 25,
   "id": "0327091a-e9ab-4a64-b813-21d221849a71",
   "metadata": {},
   "outputs": [],
   "source": [
    "import pandas as pd\n",
    "import numpy as np"
   ]
  },
  {
   "cell_type": "raw",
   "id": "7aeb1ffe-5647-47db-8799-4f8e9db44e77",
   "metadata": {},
   "source": [
    "--- Identifing Missing Values"
   ]
  },
  {
   "cell_type": "code",
   "execution_count": 27,
   "id": "736e77a8-6062-49ad-8165-47c6dcb2eb01",
   "metadata": {},
   "outputs": [],
   "source": [
    "data = {\n",
    "    'Name': ['Alice', 'Bob', None, 'Charlie'],\n",
    "    'Age': [30, None, 35, 25],\n",
    "    'City': ['New York', 'Los Angeles', None, 'Chicago']\n",
    "}\n",
    "\n",
    "df = pd.DataFrame(data)"
   ]
  },
  {
   "cell_type": "code",
   "execution_count": 29,
   "id": "9d2e2b16-7222-426d-afc8-7127f5cb3ff5",
   "metadata": {},
   "outputs": [
    {
     "name": "stdout",
     "output_type": "stream",
     "text": [
      "    Name    Age   City\n",
      "0  False  False  False\n",
      "1  False   True  False\n",
      "2   True  False   True\n",
      "3  False  False  False\n"
     ]
    }
   ],
   "source": [
    "print(df.isnull())"
   ]
  },
  {
   "cell_type": "raw",
   "id": "a44a661b-cb82-40d0-889d-2693da0c31aa",
   "metadata": {},
   "source": [
    "--- Handling Missing Values"
   ]
  },
  {
   "cell_type": "raw",
   "id": "60e2ffc1-a640-4c3b-9778-b1081ea4c6a8",
   "metadata": {},
   "source": [
    "--- Dropping Missing Values"
   ]
  },
  {
   "cell_type": "code",
   "execution_count": 31,
   "id": "a34017a8-1a44-450a-9c73-bcb295c5b13e",
   "metadata": {},
   "outputs": [],
   "source": [
    "df_dropped = df.dropna()"
   ]
  },
  {
   "cell_type": "code",
   "execution_count": 33,
   "id": "51c8c470-8636-4ab3-ac3a-2ce0925f26ec",
   "metadata": {},
   "outputs": [
    {
     "name": "stdout",
     "output_type": "stream",
     "text": [
      "      Name   Age      City\n",
      "0    Alice  30.0  New York\n",
      "3  Charlie  25.0   Chicago\n"
     ]
    }
   ],
   "source": [
    "print(df_dropped)"
   ]
  },
  {
   "cell_type": "raw",
   "id": "23762ba3-8384-436c-94fc-d309c1c15dc8",
   "metadata": {},
   "source": [
    "--- Dropping Missing Columnsg"
   ]
  },
  {
   "cell_type": "code",
   "execution_count": 35,
   "id": "92c72149-61d1-479e-8c9b-f0f4c1c49b0c",
   "metadata": {},
   "outputs": [],
   "source": [
    "df_dropped_columns = df.dropna(axis=1)"
   ]
  },
  {
   "cell_type": "code",
   "execution_count": 37,
   "id": "264a261b-e429-4db4-b506-49b71e13db5f",
   "metadata": {},
   "outputs": [
    {
     "name": "stdout",
     "output_type": "stream",
     "text": [
      "Empty DataFrame\n",
      "Columns: []\n",
      "Index: [0, 1, 2, 3]\n"
     ]
    }
   ],
   "source": [
    "print(df_dropped_columns)"
   ]
  },
  {
   "cell_type": "raw",
   "id": "2954c939-4636-4465-9c57-aea49dc5b38c",
   "metadata": {},
   "source": [
    "--- Data Cleaning Techniques"
   ]
  },
  {
   "cell_type": "raw",
   "id": "dcdb53bf-6b52-4780-a41e-9efae8a7d247",
   "metadata": {},
   "source": [
    "--- Removing Duplicates"
   ]
  },
  {
   "cell_type": "code",
   "execution_count": 50,
   "id": "8c280fb3-20fd-439b-985c-d439bf10e718",
   "metadata": {},
   "outputs": [],
   "source": [
    "data_with_duplicates = {\n",
    "    'Name': ['Alice', 'Bob', 'Alice', 'Charlie'],\n",
    "    'Age': [30, 25, 30, 25],\n",
    "    'City': ['New York', 'Los Angeles', 'New York', 'Chicago']\n",
    "}\n",
    "\n",
    "df_duplicates = pd.DataFrame(data_with_duplicates)\n",
    "\n",
    "df_no_duplicates = df_duplicates.drop_duplicates()"
   ]
  },
  {
   "cell_type": "code",
   "execution_count": 52,
   "id": "bda3772d-0f46-4dcd-aea0-519561bc6f7d",
   "metadata": {},
   "outputs": [
    {
     "name": "stdout",
     "output_type": "stream",
     "text": [
      "      Name  Age         City\n",
      "0    Alice   30     New York\n",
      "1      Bob   25  Los Angeles\n",
      "3  Charlie   25      Chicago\n"
     ]
    }
   ],
   "source": [
    "print(df_no_duplicates)"
   ]
  },
  {
   "cell_type": "raw",
   "id": "31e5eff0-dd2f-4a84-87c1-32e201b79fff",
   "metadata": {},
   "source": [
    "--- Converting Data Types"
   ]
  },
  {
   "cell_type": "code",
   "execution_count": 64,
   "id": "f7531dcd-8951-4ada-89ac-edbc1137eb71",
   "metadata": {},
   "outputs": [
    {
     "name": "stdout",
     "output_type": "stream",
     "text": [
      "Columns in DataFrame: Index(['Name', 'Age'], dtype='object')\n",
      "Name    object\n",
      "Age      Int64\n",
      "dtype: object\n"
     ]
    }
   ],
   "source": [
    "data = {\n",
    "    'Name': ['Alice', 'Bob', 'Charlie'],\n",
    "    'Age': [25, 30, None]  \n",
    "}\n",
    "\n",
    "df = pd.DataFrame(data)\n",
    "\n",
    "print(\"Columns in DataFrame:\", df.columns)\n",
    "\n",
    "df.columns = df.columns.str.strip()\n",
    "\n",
    "if 'Age' in df.columns:\n",
    "    df['Age'] = df['Age'].astype('Int64')  \n",
    "else:\n",
    "    print(\"Column 'Age' does not exist in the DataFrame.\")\n",
    "\n",
    "print(df.dtypes)"
   ]
  },
  {
   "cell_type": "raw",
   "id": "b2ed4e24-2adb-405e-b894-67ab996b0014",
   "metadata": {},
   "source": [
    "--- Renaming Columns"
   ]
  },
  {
   "cell_type": "code",
   "execution_count": 66,
   "id": "a8e34752-eec6-4958-84a3-96833df306d1",
   "metadata": {},
   "outputs": [],
   "source": [
    "df_renamed = df.rename(columns={'Name': 'Full Name', 'City': 'Location'})"
   ]
  },
  {
   "cell_type": "code",
   "execution_count": 68,
   "id": "f2275aac-a001-4ca3-a860-386757718d80",
   "metadata": {},
   "outputs": [
    {
     "name": "stdout",
     "output_type": "stream",
     "text": [
      "  Full Name   Age\n",
      "0     Alice    25\n",
      "1       Bob    30\n",
      "2   Charlie  <NA>\n"
     ]
    }
   ],
   "source": [
    "print(df_renamed)"
   ]
  },
  {
   "cell_type": "raw",
   "id": "525cde44-f133-4dd8-9d08-60cba74c37e3",
   "metadata": {},
   "source": [
    "--- String Cleaning"
   ]
  },
  {
   "cell_type": "code",
   "execution_count": 74,
   "id": "332fd733-edb4-411b-b365-9e20bbadd1ee",
   "metadata": {},
   "outputs": [
    {
     "name": "stdout",
     "output_type": "stream",
     "text": [
      "Columns in DataFrame: ['Name', 'Age', 'City']\n",
      "\n",
      "Updated 'City' column:\n",
      "0       new york\n",
      "1    los angeles\n",
      "2        chicago\n",
      "Name: City, dtype: object\n"
     ]
    }
   ],
   "source": [
    "data = {\n",
    "    'Name': ['Alice', 'Bob', 'Charlie'],\n",
    "    'Age': [25, 30, None],\n",
    "    'City': [' New York ', 'Los Angeles', 'Chicago']  \n",
    "}\n",
    "\n",
    "df = pd.DataFrame(data)\n",
    "\n",
    "print(\"Columns in DataFrame:\", df.columns.tolist())\n",
    "\n",
    "df.columns = df.columns.str.strip()\n",
    "\n",
    "if 'City' in df.columns:\n",
    "    df['City'] = df['City'].str.strip().str.lower()  \n",
    "    print(\"\\nUpdated 'City' column:\")\n",
    "    print(df['City'])\n",
    "else:\n",
    "    print(\"Column 'City' does not exist in the DataFrame.\")"
   ]
  },
  {
   "cell_type": "code",
   "execution_count": null,
   "id": "4d1c5484-3f80-4057-a733-64d745583b72",
   "metadata": {},
   "outputs": [],
   "source": []
  }
 ],
 "metadata": {
  "kernelspec": {
   "display_name": "Python 3 (ipykernel)",
   "language": "python",
   "name": "python3"
  },
  "language_info": {
   "codemirror_mode": {
    "name": "ipython",
    "version": 3
   },
   "file_extension": ".py",
   "mimetype": "text/x-python",
   "name": "python",
   "nbconvert_exporter": "python",
   "pygments_lexer": "ipython3",
   "version": "3.12.4"
  }
 },
 "nbformat": 4,
 "nbformat_minor": 5
}
