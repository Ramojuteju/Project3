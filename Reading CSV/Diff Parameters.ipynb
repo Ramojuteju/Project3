{
 "cells": [
  {
   "cell_type": "code",
   "execution_count": 1,
   "id": "ee90e4fe-97fc-4e95-a62f-e76fa1802741",
   "metadata": {},
   "outputs": [],
   "source": [
    "import pandas as pd"
   ]
  },
  {
   "cell_type": "code",
   "execution_count": null,
   "id": "ab278cc9-3383-4b94-a4d6-928e15318a0f",
   "metadata": {},
   "outputs": [],
   "source": [
    "df = pd.read_csv('your_file.csv')"
   ]
  },
  {
   "cell_type": "raw",
   "id": "10b086b7-2864-4240-a366-241741392644",
   "metadata": {},
   "source": [
    "--- Key Parameters"
   ]
  },
  {
   "cell_type": "raw",
   "id": "64949e5f-efaf-4bbf-a97c-83db3a2a996e",
   "metadata": {},
   "source": [
    "--- Sep or Delimiter"
   ]
  },
  {
   "cell_type": "code",
   "execution_count": null,
   "id": "6ab936d2-c770-41e8-aaa4-777dd18c217e",
   "metadata": {},
   "outputs": [],
   "source": [
    "df = pd.read_csv('your_file.csv', sep=';')"
   ]
  },
  {
   "cell_type": "raw",
   "id": "1bf5d1c0-9b3f-4898-8692-b48cf04f5072",
   "metadata": {},
   "source": [
    "--- Header"
   ]
  },
  {
   "cell_type": "code",
   "execution_count": null,
   "id": "e2277923-08b3-4e34-9cea-33d7fac22f07",
   "metadata": {},
   "outputs": [],
   "source": [
    "df = pd.read_csv('your_file.csv', header=None)"
   ]
  },
  {
   "cell_type": "raw",
   "id": "d3d98f60-8f52-4b77-9054-f694a91634cc",
   "metadata": {},
   "source": [
    "--- Names"
   ]
  },
  {
   "cell_type": "code",
   "execution_count": null,
   "id": "57336ad8-9f57-40f4-a1d0-d44bc6fcd7c1",
   "metadata": {},
   "outputs": [],
   "source": [
    "df = pd.read_csv('your_file.csv', names=['col1', 'col2', 'col3'])"
   ]
  },
  {
   "cell_type": "raw",
   "id": "ae81b9d9-7757-4226-8fc8-20f6c8cb832d",
   "metadata": {},
   "source": [
    "--- Index_Col"
   ]
  },
  {
   "cell_type": "code",
   "execution_count": null,
   "id": "8b7ae31b-1034-4ff7-9583-d035a7d8c6d3",
   "metadata": {},
   "outputs": [],
   "source": [
    "df = pd.read_csv('your_file.csv', index_col='id')"
   ]
  },
  {
   "cell_type": "raw",
   "id": "6c5a4ae3-e776-4d30-b2bd-fea678077588",
   "metadata": {},
   "source": [
    "---Dtype"
   ]
  },
  {
   "cell_type": "code",
   "execution_count": null,
   "id": "45c60172-e4a6-497a-be1a-d07822c25f92",
   "metadata": {},
   "outputs": [],
   "source": [
    "df = pd.read_csv('your_file.csv', dtype={'col1': 'float64', 'col2': 'int32'})"
   ]
  }
 ],
 "metadata": {
  "kernelspec": {
   "display_name": "Python 3 (ipykernel)",
   "language": "python",
   "name": "python3"
  },
  "language_info": {
   "codemirror_mode": {
    "name": "ipython",
    "version": 3
   },
   "file_extension": ".py",
   "mimetype": "text/x-python",
   "name": "python",
   "nbconvert_exporter": "python",
   "pygments_lexer": "ipython3",
   "version": "3.12.4"
  }
 },
 "nbformat": 4,
 "nbformat_minor": 5
}
