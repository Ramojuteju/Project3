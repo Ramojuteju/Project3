{
 "cells": [
  {
   "cell_type": "raw",
   "id": "c93e473e-cd99-448e-8c73-cdf40220e2c4",
   "metadata": {},
   "source": [
    "--- Creating Pivot Table"
   ]
  },
  {
   "cell_type": "code",
   "execution_count": null,
   "id": "09a05e24-22c1-4100-88aa-66857118efb2",
   "metadata": {},
   "outputs": [],
   "source": [
    "--- Sample Data"
   ]
  },
  {
   "cell_type": "code",
   "execution_count": 1,
   "id": "2edc0bfc-c856-4662-9786-d4b8bde6d5eb",
   "metadata": {},
   "outputs": [],
   "source": [
    "import pandas as pd"
   ]
  },
  {
   "cell_type": "code",
   "execution_count": 5,
   "id": "7505132e-1bbb-44ac-ab24-610f6f379c34",
   "metadata": {},
   "outputs": [
    {
     "name": "stdout",
     "output_type": "stream",
     "text": [
      "Original DataFrame:\n",
      "      Name  Age  Score         City\n",
      "0    Alice   25     85     New York\n",
      "1      Bob   30     92  Los Angeles\n",
      "2  Charlie   35     78      Chicago\n",
      "3    David   22     90     New York\n",
      "4      Eva   28     88  Los Angeles\n",
      "5    Frank   30     70      Chicago\n",
      "6    Grace   26     95     New York\n",
      "7   Hannah   24     80      Chicago\n"
     ]
    }
   ],
   "source": [
    "data = {\n",
    "    'Name': ['Alice', 'Bob', 'Charlie', 'David', 'Eva', 'Frank', 'Grace', 'Hannah'],\n",
    "    'Age': [25, 30, 35, 22, 28, 30, 26, 24],\n",
    "    'Score': [85, 92, 78, 90, 88, 70, 95, 80],\n",
    "    'City': ['New York', 'Los Angeles', 'Chicago', 'New York', 'Los Angeles', 'Chicago', 'New York', 'Chicago']\n",
    "}\n",
    "\n",
    "df = pd.DataFrame(data)\n",
    "print(\"Original DataFrame:\")\n",
    "print(df)"
   ]
  },
  {
   "cell_type": "raw",
   "id": "db3590df-b02c-405a-ba8c-2242f8a7b435",
   "metadata": {},
   "source": [
    "--- Creating a Pivot Table"
   ]
  },
  {
   "cell_type": "code",
   "execution_count": 15,
   "id": "ce0395ce-54ca-48c5-8b0a-ac02dcef494e",
   "metadata": {},
   "outputs": [
    {
     "name": "stdout",
     "output_type": "stream",
     "text": [
      "\n",
      "Pivot Table:\n",
      "City       Chicago  Los Angeles  New York\n",
      "Age Group                                \n",
      "Adult         88.0         90.0      85.0\n",
      "Minor          NaN          NaN      78.0\n"
     ]
    }
   ],
   "source": [
    "data = {\n",
    "    'Name': ['Alice', 'Bob', 'Charlie', 'David'],\n",
    "    'Age Group': ['Adult', 'Adult', 'Minor', 'Adult'],\n",
    "    'Score': [85, 90, 78, 88],\n",
    "    'City': ['New York', 'Los Angeles', 'New York', 'Chicago']\n",
    "}\n",
    "\n",
    "df = pd.DataFrame(data)\n",
    "\n",
    "pivot_table = df.pivot_table(values='Score', index='Age Group', columns='City', aggfunc='mean', observed=False)\n",
    "\n",
    "print(\"\\nPivot Table:\")\n",
    "print(pivot_table)"
   ]
  },
  {
   "cell_type": "raw",
   "id": "6af43d8a-60fa-4c2a-8898-1ea7b982f739",
   "metadata": {},
   "source": [
    "--- Groupby for Aggregation"
   ]
  },
  {
   "cell_type": "code",
   "execution_count": 21,
   "id": "cdb0eeca-f6d8-4e1d-a34c-95d17b75cad5",
   "metadata": {},
   "outputs": [
    {
     "name": "stdout",
     "output_type": "stream",
     "text": [
      "Index(['Name', 'Age', 'Score', 'City'], dtype='object')\n",
      "\n",
      "Grouped Data (Average Score and Age by City):\n",
      "          City  Score   Age\n",
      "0      Chicago   88.0  22.0\n",
      "1  Los Angeles   90.0  30.0\n",
      "2     New York   81.5  21.0\n"
     ]
    }
   ],
   "source": [
    "data = {\n",
    "    'Name': ['Alice', 'Bob', 'Charlie', 'David'],\n",
    "    'Age': [25, 30, 17, 22],\n",
    "    'Score': [85, 90, 78, 88],\n",
    "    'City': ['New York', 'Los Angeles', 'New York', 'Chicago']\n",
    "}\n",
    "\n",
    "df = pd.DataFrame(data)\n",
    "\n",
    "print(df.columns)\n",
    "\n",
    "grouped_data = df.groupby('City').agg({'Score': 'mean', 'Age': 'mean'}).reset_index()\n",
    "\n",
    "print(\"\\nGrouped Data (Average Score and Age by City):\")\n",
    "print(grouped_data)"
   ]
  },
  {
   "cell_type": "raw",
   "id": "226cb5d5-bbbb-4d33-8f7d-62f72b4de8b8",
   "metadata": {},
   "source": [
    "--- Filtering Grouped Data"
   ]
  },
  {
   "cell_type": "code",
   "execution_count": 23,
   "id": "e28a4535-0316-4c90-b2b2-5685a52ae590",
   "metadata": {},
   "outputs": [
    {
     "name": "stdout",
     "output_type": "stream",
     "text": [
      "\n",
      "Filtered Grouped Data (Cities with Average Score > 85):\n",
      "          City  Score   Age\n",
      "0      Chicago   88.0  22.0\n",
      "1  Los Angeles   90.0  30.0\n"
     ]
    }
   ],
   "source": [
    "filtered_grouped_data = grouped_data[grouped_data['Score'] > 85]\n",
    "\n",
    "print(\"\\nFiltered Grouped Data (Cities with Average Score > 85):\")\n",
    "print(filtered_grouped_data)"
   ]
  }
 ],
 "metadata": {
  "kernelspec": {
   "display_name": "Python 3 (ipykernel)",
   "language": "python",
   "name": "python3"
  },
  "language_info": {
   "codemirror_mode": {
    "name": "ipython",
    "version": 3
   },
   "file_extension": ".py",
   "mimetype": "text/x-python",
   "name": "python",
   "nbconvert_exporter": "python",
   "pygments_lexer": "ipython3",
   "version": "3.12.4"
  }
 },
 "nbformat": 4,
 "nbformat_minor": 5
}
