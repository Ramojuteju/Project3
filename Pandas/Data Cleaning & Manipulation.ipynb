{
 "cells": [
  {
   "cell_type": "code",
   "execution_count": 57,
   "id": "0c45d512-fc82-4cb9-b7a4-f4c635fda65b",
   "metadata": {},
   "outputs": [],
   "source": [
    "import pandas as pd\n",
    "import numpy as np"
   ]
  },
  {
   "cell_type": "code",
   "execution_count": null,
   "id": "c4f85812-2e0e-4d10-82ea-5a5d337d79a8",
   "metadata": {},
   "outputs": [],
   "source": [
    "# --- Loading Data "
   ]
  },
  {
   "cell_type": "code",
   "execution_count": 79,
   "id": "a5229a72-3f22-4143-b61b-ed5b7590af8e",
   "metadata": {},
   "outputs": [
    {
     "name": "stdout",
     "output_type": "stream",
     "text": [
      "Original DataFrame:\n",
      "      Name   Age         City  Score\n",
      "0    Alice  25.0     New York   85.0\n",
      "1      Bob   NaN  Los Angeles   92.0\n",
      "2  Charlie  30.0      Chicago    NaN\n",
      "3    David  22.0     New York   70.0\n",
      "4     None  35.0      Chicago   88.0\n"
     ]
    }
   ],
   "source": [
    "data = {\n",
    "    'Name': ['Alice', 'Bob', 'Charlie', 'David', None],\n",
    "    'Age': [25, None, 30, 22, 35],\n",
    "    'City': ['New York', 'Los Angeles', 'Chicago', 'New York', 'Chicago'],\n",
    "    'Score': [85, 92, None, 70, 88]\n",
    "}\n",
    "\n",
    "df = pd.DataFrame(data)\n",
    "print(\"Original DataFrame:\")\n",
    "print(df)"
   ]
  },
  {
   "cell_type": "code",
   "execution_count": null,
   "id": "6739ed55-84ed-461b-ba97-e74389f93db6",
   "metadata": {},
   "outputs": [],
   "source": [
    "# --- Handling Missing Values"
   ]
  },
  {
   "cell_type": "code",
   "execution_count": null,
   "id": "c7d375da-c825-4b1e-8674-fab1a1a40bf6",
   "metadata": {},
   "outputs": [],
   "source": [
    "# --- Identifying "
   ]
  },
  {
   "cell_type": "code",
   "execution_count": 81,
   "id": "9c56d35a-b3d4-4c25-ae0b-8533ea6703cd",
   "metadata": {},
   "outputs": [
    {
     "name": "stdout",
     "output_type": "stream",
     "text": [
      "\n",
      "Missing Values:\n",
      "Name     1\n",
      "Age      1\n",
      "City     0\n",
      "Score    1\n",
      "dtype: int64\n"
     ]
    }
   ],
   "source": [
    "print(\"\\nMissing Values:\")\n",
    "print(df.isnull().sum())"
   ]
  },
  {
   "cell_type": "code",
   "execution_count": null,
   "id": "ad4990a7-2a3f-45d4-ac4e-2bac3978df7e",
   "metadata": {},
   "outputs": [],
   "source": [
    "# --- Droping"
   ]
  },
  {
   "cell_type": "code",
   "execution_count": 83,
   "id": "92019323-b42b-4862-939a-b8c96169e53c",
   "metadata": {},
   "outputs": [
    {
     "name": "stdout",
     "output_type": "stream",
     "text": [
      "\n",
      "DataFrame after dropping rows with missing values:\n",
      "    Name   Age      City  Score\n",
      "0  Alice  25.0  New York   85.0\n",
      "3  David  22.0  New York   70.0\n"
     ]
    }
   ],
   "source": [
    "df_dropped = df.dropna()\n",
    "print(\"\\nDataFrame after dropping rows with missing values:\")\n",
    "print(df_dropped)"
   ]
  },
  {
   "cell_type": "code",
   "execution_count": null,
   "id": "9f3f9bf9-bd90-466a-94e4-f271bcdff0d3",
   "metadata": {},
   "outputs": [],
   "source": [
    "# --- Filling"
   ]
  },
  {
   "cell_type": "code",
   "execution_count": 35,
   "id": "64b06929-6dc8-4836-94e9-aeba06492613",
   "metadata": {},
   "outputs": [
    {
     "name": "stdout",
     "output_type": "stream",
     "text": [
      "\n",
      "DataFrame after filling missing values:\n",
      "      Name   Age         City  Score\n",
      "0    Alice  25.0     New York   85.0\n",
      "1      Bob  28.0  Los Angeles   92.0\n",
      "2  Charlie  30.0      Chicago    NaN\n",
      "3    David  22.0     New York   70.0\n",
      "4     None  35.0      Chicago   88.0\n"
     ]
    }
   ],
   "source": [
    "df['Age'] = df['Age'].fillna(df['Age'].mean())\n",
    "\n",
    "print(\"\\nDataFrame after filling missing values:\")\n",
    "print(df)"
   ]
  },
  {
   "cell_type": "code",
   "execution_count": null,
   "id": "99bfa4f2-497e-4a20-9e66-7b259ac378c6",
   "metadata": {},
   "outputs": [],
   "source": [
    "# --- Removing Duplicates"
   ]
  },
  {
   "cell_type": "code",
   "execution_count": 45,
   "id": "b12fe524-2c9b-46fa-9ebe-dcc030b85819",
   "metadata": {},
   "outputs": [
    {
     "name": "stdout",
     "output_type": "stream",
     "text": [
      "Original DataFrame:\n",
      "      Name   Age\n",
      "0    Alice  25.0\n",
      "1      Bob  30.0\n",
      "2  Charlie   NaN\n",
      "\n",
      "DataFrame with duplicates:\n",
      "      Name   Age\n",
      "0    Alice  25.0\n",
      "1      Bob  30.0\n",
      "2  Charlie   NaN\n",
      "3      Bob  30.0\n"
     ]
    }
   ],
   "source": [
    "data = {\n",
    "    'Name': ['Alice', 'Bob', 'Charlie'],\n",
    "    'Age': [25, 30, None],\n",
    "}\n",
    "\n",
    "df = pd.DataFrame(data)\n",
    "\n",
    "print(\"Original DataFrame:\")\n",
    "print(df)\n",
    "\n",
    "df = pd.concat([df, df.iloc[[1]]], ignore_index=True)\n",
    "\n",
    "print(\"\\nDataFrame with duplicates:\")\n",
    "print(df)"
   ]
  },
  {
   "cell_type": "code",
   "execution_count": null,
   "id": "757c015b-dd1b-4852-b19b-c0843c8c1489",
   "metadata": {},
   "outputs": [],
   "source": [
    "# --- Renaming Columns"
   ]
  },
  {
   "cell_type": "code",
   "execution_count": 47,
   "id": "8045bc3c-45d4-4c13-b60c-1f6a69cb739c",
   "metadata": {},
   "outputs": [
    {
     "name": "stdout",
     "output_type": "stream",
     "text": [
      "\n",
      "DataFrame after renaming columns:\n",
      "  Full Name   Age\n",
      "0     Alice  25.0\n",
      "1       Bob  30.0\n",
      "2   Charlie   NaN\n",
      "3       Bob  30.0\n"
     ]
    }
   ],
   "source": [
    "df.rename(columns={'Name': 'Full Name', 'Score': 'Test Score'}, inplace=True)\n",
    "print(\"\\nDataFrame after renaming columns:\")\n",
    "print(df)"
   ]
  },
  {
   "cell_type": "code",
   "execution_count": null,
   "id": "5bf0fdd6-988a-4201-b78a-fb9264a348ec",
   "metadata": {},
   "outputs": [],
   "source": [
    "# --- Changing Data Types"
   ]
  },
  {
   "cell_type": "code",
   "execution_count": 63,
   "id": "bbc64b1a-dc9c-4d6c-8dad-52a97673da89",
   "metadata": {},
   "outputs": [
    {
     "name": "stdout",
     "output_type": "stream",
     "text": [
      "\n",
      "DataFrame after changing 'Age' to integer:\n",
      "      Name  Age\n",
      "0    Alice   25\n",
      "1      Bob   30\n",
      "2  Charlie   27\n"
     ]
    }
   ],
   "source": [
    "data = {\n",
    "    'Name': ['Alice', 'Bob', 'Charlie'],\n",
    "    'Age': [25, 30, None],\n",
    "}\n",
    "\n",
    "df = pd.DataFrame(data)\n",
    "\n",
    "df['Age'] = df['Age'].fillna(df['Age'].mean())\n",
    "\n",
    "df['Age'] = df['Age'].astype(int)\n",
    "\n",
    "print(\"\\nDataFrame after changing 'Age' to integer:\")\n",
    "print(df)"
   ]
  },
  {
   "cell_type": "code",
   "execution_count": null,
   "id": "d573f7e6-ffa8-4c5d-ac21-f55b80b31850",
   "metadata": {},
   "outputs": [],
   "source": [
    "# --- Filtering Data"
   ]
  },
  {
   "cell_type": "code",
   "execution_count": 65,
   "id": "540f7135-bf0a-4fc2-8b27-07a395e551bc",
   "metadata": {},
   "outputs": [
    {
     "name": "stdout",
     "output_type": "stream",
     "text": [
      "\n",
      "Filtered DataFrame (Age > 25):\n",
      "      Name  Age\n",
      "1      Bob   30\n",
      "2  Charlie   27\n"
     ]
    }
   ],
   "source": [
    "filtered_df = df[df['Age'] > 25]\n",
    "print(\"\\nFiltered DataFrame (Age > 25):\")\n",
    "print(filtered_df)"
   ]
  },
  {
   "cell_type": "code",
   "execution_count": null,
   "id": "ac36e998-e2f7-4475-b572-51d33b55a428",
   "metadata": {},
   "outputs": [],
   "source": [
    "# --- Grouping & Aggregating Data"
   ]
  },
  {
   "cell_type": "code",
   "execution_count": 71,
   "id": "e1d168b2-74bd-4e19-9be5-d2470d645cb1",
   "metadata": {},
   "outputs": [
    {
     "name": "stdout",
     "output_type": "stream",
     "text": [
      "Columns in the DataFrame:\n",
      "Index(['City', 'Test Score'], dtype='object')\n",
      "\n",
      "Average Test Score by City:\n",
      "City\n",
      "Chicago        88.0\n",
      "Los Angeles    90.0\n",
      "New York       81.5\n",
      "Name: Test Score, dtype: float64\n"
     ]
    }
   ],
   "source": [
    "data = {\n",
    "    'City': ['New York', 'Los Angeles', 'New York', 'Chicago'],\n",
    "    'Test Score': [85, 90, 78, 88],\n",
    "}\n",
    "\n",
    "df = pd.DataFrame(data)\n",
    "\n",
    "print(\"Columns in the DataFrame:\")\n",
    "print(df.columns)\n",
    "\n",
    "if 'City' in df.columns and 'Test Score' in df.columns:\n",
    "    average_score = df.groupby('City')['Test Score'].mean()\n",
    "    print(\"\\nAverage Test Score by City:\")\n",
    "    print(average_score)\n",
    "else:\n",
    "    print(\"The required columns are not present in the DataFrame.\")"
   ]
  },
  {
   "cell_type": "code",
   "execution_count": null,
   "id": "d01304b2-0b3d-4593-b5ec-8700d5e234d2",
   "metadata": {},
   "outputs": [],
   "source": [
    "# --- Adding New Columns"
   ]
  },
  {
   "cell_type": "code",
   "execution_count": 77,
   "id": "7869ccd1-4f0e-4e08-b83e-91c57a06e6ee",
   "metadata": {},
   "outputs": [
    {
     "name": "stdout",
     "output_type": "stream",
     "text": [
      "Columns in the DataFrame:\n",
      "Index(['Name', 'Age'], dtype='object')\n",
      "\n",
      "DataFrame preview:\n",
      "      Name   Age\n",
      "0    Alice  25.0\n",
      "1      Bob  15.0\n",
      "2  Charlie   NaN\n",
      "\n",
      "DataFrame after adding 'Age Group':\n",
      "      Name   Age Age Group\n",
      "0    Alice  25.0     Adult\n",
      "1      Bob  15.0     Minor\n",
      "2  Charlie   NaN   Unknown\n"
     ]
    }
   ],
   "source": [
    "data = {\n",
    "    'Name': ['Alice', 'Bob', 'Charlie'],\n",
    "    'Age': [25, 15, None], \n",
    "}\n",
    "\n",
    "df = pd.DataFrame(data)\n",
    "\n",
    "# Check columns and data\n",
    "print(\"Columns in the DataFrame:\")\n",
    "print(df.columns)\n",
    "print(\"\\nDataFrame preview:\")\n",
    "print(df.head())\n",
    "\n",
    "if 'Age' in df.columns:\n",
    "    df['Age Group'] = ['Adult' if age >= 18 else 'Minor' if pd.notna(age) else 'Unknown' for age in df['Age']]\n",
    "    print(\"\\nDataFrame after adding 'Age Group':\")\n",
    "    print(df)\n",
    "else:\n",
    "    print(\"'Age' column does not exist in the DataFrame.\")"
   ]
  }
 ],
 "metadata": {
  "kernelspec": {
   "display_name": "Python 3 (ipykernel)",
   "language": "python",
   "name": "python3"
  },
  "language_info": {
   "codemirror_mode": {
    "name": "ipython",
    "version": 3
   },
   "file_extension": ".py",
   "mimetype": "text/x-python",
   "name": "python",
   "nbconvert_exporter": "python",
   "pygments_lexer": "ipython3",
   "version": "3.12.4"
  }
 },
 "nbformat": 4,
 "nbformat_minor": 5
}
