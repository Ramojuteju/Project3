{
 "cells": [
  {
   "cell_type": "code",
   "execution_count": 7,
   "id": "7b6eb4c2-d346-4db6-9225-80fe70468b05",
   "metadata": {},
   "outputs": [],
   "source": [
    "import pandas as pd"
   ]
  },
  {
   "cell_type": "code",
   "execution_count": null,
   "id": "b2acd97d-868c-4947-bcc4-14fc75fabdbb",
   "metadata": {},
   "outputs": [],
   "source": [
    "# --- Data from CSV Files"
   ]
  },
  {
   "cell_type": "code",
   "execution_count": null,
   "id": "13c2c7a3-8bd8-4cbd-a334-26982e6ded5a",
   "metadata": {},
   "outputs": [],
   "source": [
    "df_csv = pd.read_csv('data.csv')  \n",
    "\n",
    "print(\"Data from CSV:\")\n",
    "print(df_csv.head())"
   ]
  },
  {
   "cell_type": "code",
   "execution_count": null,
   "id": "3f2ccc7e-d3ef-4347-b574-ecc572f3f68f",
   "metadata": {},
   "outputs": [],
   "source": [
    "# --- Data from Excel Files "
   ]
  },
  {
   "cell_type": "code",
   "execution_count": null,
   "id": "c2bd31cd-a50d-469f-9cfc-cda9be6a7cf7",
   "metadata": {},
   "outputs": [],
   "source": [
    "df_excel = pd.read_excel('data.xlsx', sheet_name='Sheet1') \n",
    "\n",
    "print(\"\\nData from Excel:\")\n",
    "print(df_excel.head())"
   ]
  },
  {
   "cell_type": "code",
   "execution_count": null,
   "id": "08afe0d9-f317-47df-ad51-a10139b33afe",
   "metadata": {},
   "outputs": [],
   "source": [
    "# --- Data from JSON Files "
   ]
  },
  {
   "cell_type": "code",
   "execution_count": null,
   "id": "9468b376-48d3-468e-a678-beb09029bccb",
   "metadata": {},
   "outputs": [],
   "source": [
    "df_json = pd.read_json('data.json')\n",
    "\n",
    "print(\"\\nData from JSON:\")\n",
    "print(df_json.head())"
   ]
  },
  {
   "cell_type": "code",
   "execution_count": null,
   "id": "c6d41a49-3e10-41b0-b5ca-7a156b24053a",
   "metadata": {},
   "outputs": [],
   "source": [
    "# --- Data from SQL Databases"
   ]
  },
  {
   "cell_type": "code",
   "execution_count": null,
   "id": "d394e141-41a1-48e8-a502-dae62b7ed413",
   "metadata": {},
   "outputs": [],
   "source": [
    "conn = sqlite3.connect('database.db')\n",
    "\n",
    "df_sql = pd.read_sql('SELECT * FROM table_name', conn)\n",
    "\n",
    "print(\"\\nData from SQL Database:\")\n",
    "print(df_sql.head())\n",
    "\n",
    "conn.close()"
   ]
  },
  {
   "cell_type": "code",
   "execution_count": null,
   "id": "e569b357-e76a-4a83-baeb-967539c13f6d",
   "metadata": {},
   "outputs": [],
   "source": [
    "# --- Data from HTML Files"
   ]
  },
  {
   "cell_type": "code",
   "execution_count": null,
   "id": "5779bac0-23d7-473a-b881-d9aa2c1231f8",
   "metadata": {},
   "outputs": [],
   "source": [
    "df_html = pd.read_html('data.html')\n",
    "\n",
    "print(\"\\nData from HTML:\")\n",
    "for i, table in enumerate(df_html):\n",
    "    print(f\"Table {i}:\")\n",
    "    print(table.head())"
   ]
  }
 ],
 "metadata": {
  "kernelspec": {
   "display_name": "Python 3 (ipykernel)",
   "language": "python",
   "name": "python3"
  },
  "language_info": {
   "codemirror_mode": {
    "name": "ipython",
    "version": 3
   },
   "file_extension": ".py",
   "mimetype": "text/x-python",
   "name": "python",
   "nbconvert_exporter": "python",
   "pygments_lexer": "ipython3",
   "version": "3.12.4"
  }
 },
 "nbformat": 4,
 "nbformat_minor": 5
}
