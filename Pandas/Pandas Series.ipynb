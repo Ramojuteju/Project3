{
 "cells": [
  {
   "cell_type": "code",
   "execution_count": null,
   "id": "14e8ba10-c9d7-48fe-92a7-836a79dd906d",
   "metadata": {},
   "outputs": [],
   "source": [
    "# --- Installing Pandas"
   ]
  },
  {
   "cell_type": "code",
   "execution_count": 1,
   "id": "0038e775-6606-4e74-b4ce-b31dbfd361ae",
   "metadata": {},
   "outputs": [
    {
     "name": "stdout",
     "output_type": "stream",
     "text": [
      "Requirement already satisfied: pandas in /opt/anaconda3/lib/python3.12/site-packages (2.2.2)\n",
      "Requirement already satisfied: numpy>=1.26.0 in /opt/anaconda3/lib/python3.12/site-packages (from pandas) (1.26.4)\n",
      "Requirement already satisfied: python-dateutil>=2.8.2 in /opt/anaconda3/lib/python3.12/site-packages (from pandas) (2.9.0.post0)\n",
      "Requirement already satisfied: pytz>=2020.1 in /opt/anaconda3/lib/python3.12/site-packages (from pandas) (2024.1)\n",
      "Requirement already satisfied: tzdata>=2022.7 in /opt/anaconda3/lib/python3.12/site-packages (from pandas) (2023.3)\n",
      "Requirement already satisfied: six>=1.5 in /opt/anaconda3/lib/python3.12/site-packages (from python-dateutil>=2.8.2->pandas) (1.16.0)\n",
      "Note: you may need to restart the kernel to use updated packages.\n"
     ]
    }
   ],
   "source": [
    "pip install pandas"
   ]
  },
  {
   "cell_type": "code",
   "execution_count": null,
   "id": "007ac3bf-4208-4832-b01d-2eb3b3f32ed2",
   "metadata": {},
   "outputs": [],
   "source": [
    "# --- Creating Pandas Series"
   ]
  },
  {
   "cell_type": "code",
   "execution_count": null,
   "id": "340dae0d-5e0c-46fe-85c4-87567c37ec91",
   "metadata": {},
   "outputs": [],
   "source": [
    "# --- Series From a List"
   ]
  },
  {
   "cell_type": "code",
   "execution_count": 17,
   "id": "bf3e43d4-c93f-4023-bcd6-c1cce173dd91",
   "metadata": {},
   "outputs": [],
   "source": [
    "import pandas as pd"
   ]
  },
  {
   "cell_type": "code",
   "execution_count": 19,
   "id": "a06d3b8e-641b-4524-b32b-7aef2aad9f02",
   "metadata": {},
   "outputs": [
    {
     "name": "stdout",
     "output_type": "stream",
     "text": [
      "Series from a list:\n",
      "0    10\n",
      "1    20\n",
      "2    30\n",
      "3    40\n",
      "dtype: int64\n"
     ]
    }
   ],
   "source": [
    "data = [10, 20, 30, 40]\n",
    "series = pd.Series(data)\n",
    "\n",
    "print(\"Series from a list:\")\n",
    "print(series)"
   ]
  },
  {
   "cell_type": "code",
   "execution_count": null,
   "id": "5ab37e8a-2c1b-4f4c-9b16-2afac97905b7",
   "metadata": {},
   "outputs": [],
   "source": [
    "# --- Series With Custom Index"
   ]
  },
  {
   "cell_type": "code",
   "execution_count": 21,
   "id": "bed05998-7450-45a1-a6cf-09e60739db5f",
   "metadata": {},
   "outputs": [
    {
     "name": "stdout",
     "output_type": "stream",
     "text": [
      "\n",
      "Series with custom index:\n",
      "a    10\n",
      "b    20\n",
      "c    30\n",
      "d    40\n",
      "dtype: int64\n"
     ]
    }
   ],
   "source": [
    "data = [10, 20, 30, 40]\n",
    "index = ['a', 'b', 'c', 'd']\n",
    "series_with_index = pd.Series(data, index=index)\n",
    "\n",
    "print(\"\\nSeries with custom index:\")\n",
    "print(series_with_index)"
   ]
  },
  {
   "cell_type": "code",
   "execution_count": null,
   "id": "8838f216-5567-4384-9ece-c8cdf3609539",
   "metadata": {},
   "outputs": [],
   "source": [
    "# --- Pandas DataFrame"
   ]
  },
  {
   "cell_type": "code",
   "execution_count": null,
   "id": "47dbdcbb-6e3b-4b5e-9bc8-82c0631a23b3",
   "metadata": {},
   "outputs": [],
   "source": [
    "# --- DataFrame from Dictionary"
   ]
  },
  {
   "cell_type": "code",
   "execution_count": 23,
   "id": "2cd6161c-8dae-4a06-a577-a3e0540a8bad",
   "metadata": {},
   "outputs": [
    {
     "name": "stdout",
     "output_type": "stream",
     "text": [
      "\n",
      "DataFrame from a dictionary:\n",
      "      Name  Age         City\n",
      "0    Alice   25     New York\n",
      "1      Bob   30  Los Angeles\n",
      "2  Charlie   35      Chicago\n"
     ]
    }
   ],
   "source": [
    "data = {\n",
    "    'Name': ['Alice', 'Bob', 'Charlie'],\n",
    "    'Age': [25, 30, 35],\n",
    "    'City': ['New York', 'Los Angeles', 'Chicago']\n",
    "}\n",
    "df = pd.DataFrame(data)\n",
    "\n",
    "print(\"\\nDataFrame from a dictionary:\")\n",
    "print(df)"
   ]
  },
  {
   "cell_type": "code",
   "execution_count": null,
   "id": "2c75cdd1-ba99-4451-ba2f-12e2bb53546f",
   "metadata": {},
   "outputs": [],
   "source": [
    "# --- DataFrame from List"
   ]
  },
  {
   "cell_type": "code",
   "execution_count": 25,
   "id": "9d003f29-3445-4904-9ff0-5f6d29178358",
   "metadata": {},
   "outputs": [
    {
     "name": "stdout",
     "output_type": "stream",
     "text": [
      "\n",
      "DataFrame from a list of lists:\n",
      "      Name  Age         City\n",
      "0    Alice   25     New York\n",
      "1      Bob   30  Los Angeles\n",
      "2  Charlie   35      Chicago\n"
     ]
    }
   ],
   "source": [
    "data = [\n",
    "    ['Alice', 25, 'New York'],\n",
    "    ['Bob', 30, 'Los Angeles'],\n",
    "    ['Charlie', 35, 'Chicago']\n",
    "]\n",
    "columns = ['Name', 'Age', 'City']\n",
    "df_from_list = pd.DataFrame(data, columns=columns)\n",
    "\n",
    "print(\"\\nDataFrame from a list of lists:\")\n",
    "print(df_from_list)"
   ]
  },
  {
   "cell_type": "code",
   "execution_count": null,
   "id": "384a9798-51ca-4db7-8c6c-1a7e6c2aa15c",
   "metadata": {},
   "outputs": [],
   "source": [
    "# --- DataFrame with Custom Index"
   ]
  },
  {
   "cell_type": "code",
   "execution_count": 27,
   "id": "5ac6fa72-588f-48fe-9d1f-f8f45c5b7e97",
   "metadata": {},
   "outputs": [
    {
     "name": "stdout",
     "output_type": "stream",
     "text": [
      "\n",
      "DataFrame with custom index:\n",
      "      Name  Age\n",
      "a    Alice   25\n",
      "b      Bob   30\n",
      "c  Charlie   35\n"
     ]
    }
   ],
   "source": [
    "data = {\n",
    "    'Name': ['Alice', 'Bob', 'Charlie'],\n",
    "    'Age': [25, 30, 35]\n",
    "}\n",
    "df_with_index = pd.DataFrame(data, index=['a', 'b', 'c'])\n",
    "\n",
    "print(\"\\nDataFrame with custom index:\")\n",
    "print(df_with_index)"
   ]
  },
  {
   "cell_type": "code",
   "execution_count": null,
   "id": "c9c55dcc-e104-496d-a87a-cea7c57204a6",
   "metadata": {},
   "outputs": [],
   "source": [
    "# --- DataFrame Information"
   ]
  },
  {
   "cell_type": "code",
   "execution_count": 29,
   "id": "58b1c1e5-4775-46ef-bc98-5e206d622fb7",
   "metadata": {},
   "outputs": [
    {
     "name": "stdout",
     "output_type": "stream",
     "text": [
      "\n",
      "DataFrame info:\n",
      "<class 'pandas.core.frame.DataFrame'>\n",
      "RangeIndex: 3 entries, 0 to 2\n",
      "Data columns (total 3 columns):\n",
      " #   Column  Non-Null Count  Dtype \n",
      "---  ------  --------------  ----- \n",
      " 0   Name    3 non-null      object\n",
      " 1   Age     3 non-null      int64 \n",
      " 2   City    3 non-null      object\n",
      "dtypes: int64(1), object(2)\n",
      "memory usage: 204.0+ bytes\n",
      "None\n",
      "\n",
      "DataFrame summary:\n",
      "        Age\n",
      "count   3.0\n",
      "mean   30.0\n",
      "std     5.0\n",
      "min    25.0\n",
      "25%    27.5\n",
      "50%    30.0\n",
      "75%    32.5\n",
      "max    35.0\n"
     ]
    }
   ],
   "source": [
    "print(\"\\nDataFrame info:\")\n",
    "print(df.info())\n",
    "\n",
    "print(\"\\nDataFrame summary:\")\n",
    "print(df.describe())"
   ]
  }
 ],
 "metadata": {
  "kernelspec": {
   "display_name": "Python 3 (ipykernel)",
   "language": "python",
   "name": "python3"
  },
  "language_info": {
   "codemirror_mode": {
    "name": "ipython",
    "version": 3
   },
   "file_extension": ".py",
   "mimetype": "text/x-python",
   "name": "python",
   "nbconvert_exporter": "python",
   "pygments_lexer": "ipython3",
   "version": "3.12.4"
  }
 },
 "nbformat": 4,
 "nbformat_minor": 5
}
