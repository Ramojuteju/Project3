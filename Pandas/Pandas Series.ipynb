{
 "cells": [
  {
   "cell_type": "raw",
   "id": "8a0cffb3-592b-4208-8617-90bece029c33",
   "metadata": {},
   "source": [
    "--- Installing Pandas"
   ]
  },
  {
   "cell_type": "code",
   "execution_count": 1,
   "id": "0038e775-6606-4e74-b4ce-b31dbfd361ae",
   "metadata": {},
   "outputs": [
    {
     "name": "stdout",
     "output_type": "stream",
     "text": [
      "Requirement already satisfied: pandas in /opt/anaconda3/lib/python3.12/site-packages (2.2.2)\n",
      "Requirement already satisfied: numpy>=1.26.0 in /opt/anaconda3/lib/python3.12/site-packages (from pandas) (1.26.4)\n",
      "Requirement already satisfied: python-dateutil>=2.8.2 in /opt/anaconda3/lib/python3.12/site-packages (from pandas) (2.9.0.post0)\n",
      "Requirement already satisfied: pytz>=2020.1 in /opt/anaconda3/lib/python3.12/site-packages (from pandas) (2024.1)\n",
      "Requirement already satisfied: tzdata>=2022.7 in /opt/anaconda3/lib/python3.12/site-packages (from pandas) (2023.3)\n",
      "Requirement already satisfied: six>=1.5 in /opt/anaconda3/lib/python3.12/site-packages (from python-dateutil>=2.8.2->pandas) (1.16.0)\n",
      "Note: you may need to restart the kernel to use updated packages.\n"
     ]
    }
   ],
   "source": [
    "pip install pandas"
   ]
  },
  {
   "cell_type": "raw",
   "id": "35926e95-f86d-4960-9fcb-89e5ff47deae",
   "metadata": {},
   "source": [
    "--- Creating Pandas Series"
   ]
  },
  {
   "cell_type": "raw",
   "id": "634f6d89-fcac-40f4-884d-148ce58f1104",
   "metadata": {},
   "source": [
    "--- Series From a List"
   ]
  },
  {
   "cell_type": "code",
   "execution_count": 17,
   "id": "bf3e43d4-c93f-4023-bcd6-c1cce173dd91",
   "metadata": {},
   "outputs": [],
   "source": [
    "import pandas as pd"
   ]
  },
  {
   "cell_type": "code",
   "execution_count": 19,
   "id": "a06d3b8e-641b-4524-b32b-7aef2aad9f02",
   "metadata": {},
   "outputs": [
    {
     "name": "stdout",
     "output_type": "stream",
     "text": [
      "Series from a list:\n",
      "0    10\n",
      "1    20\n",
      "2    30\n",
      "3    40\n",
      "dtype: int64\n"
     ]
    }
   ],
   "source": [
    "data = [10, 20, 30, 40]\n",
    "series = pd.Series(data)\n",
    "\n",
    "print(\"Series from a list:\")\n",
    "print(series)"
   ]
  },
  {
   "cell_type": "raw",
   "id": "1b959a46-334e-41dc-8321-0cf686d90c59",
   "metadata": {},
   "source": [
    "--- Series With Custom Index"
   ]
  },
  {
   "cell_type": "code",
   "execution_count": 21,
   "id": "bed05998-7450-45a1-a6cf-09e60739db5f",
   "metadata": {},
   "outputs": [
    {
     "name": "stdout",
     "output_type": "stream",
     "text": [
      "\n",
      "Series with custom index:\n",
      "a    10\n",
      "b    20\n",
      "c    30\n",
      "d    40\n",
      "dtype: int64\n"
     ]
    }
   ],
   "source": [
    "data = [10, 20, 30, 40]\n",
    "index = ['a', 'b', 'c', 'd']\n",
    "series_with_index = pd.Series(data, index=index)\n",
    "\n",
    "print(\"\\nSeries with custom index:\")\n",
    "print(series_with_index)"
   ]
  },
  {
   "cell_type": "raw",
   "id": "fc7c99fa-a38b-4a46-b8d5-96f13a0b8cb0",
   "metadata": {},
   "source": [
    "--- Pandas DataFrame"
   ]
  },
  {
   "cell_type": "raw",
   "id": "61098681-8bee-45aa-9460-25b1fae6256a",
   "metadata": {},
   "source": [
    "--- DataFrame from Dictionary"
   ]
  },
  {
   "cell_type": "code",
   "execution_count": 23,
   "id": "2cd6161c-8dae-4a06-a577-a3e0540a8bad",
   "metadata": {},
   "outputs": [
    {
     "name": "stdout",
     "output_type": "stream",
     "text": [
      "\n",
      "DataFrame from a dictionary:\n",
      "      Name  Age         City\n",
      "0    Alice   25     New York\n",
      "1      Bob   30  Los Angeles\n",
      "2  Charlie   35      Chicago\n"
     ]
    }
   ],
   "source": [
    "data = {\n",
    "    'Name': ['Alice', 'Bob', 'Charlie'],\n",
    "    'Age': [25, 30, 35],\n",
    "    'City': ['New York', 'Los Angeles', 'Chicago']\n",
    "}\n",
    "df = pd.DataFrame(data)\n",
    "\n",
    "print(\"\\nDataFrame from a dictionary:\")\n",
    "print(df)"
   ]
  },
  {
   "cell_type": "raw",
   "id": "d22ad841-67a6-4831-9491-0572d17a70e7",
   "metadata": {},
   "source": [
    "--- DataFrame from List"
   ]
  },
  {
   "cell_type": "code",
   "execution_count": 25,
   "id": "9d003f29-3445-4904-9ff0-5f6d29178358",
   "metadata": {},
   "outputs": [
    {
     "name": "stdout",
     "output_type": "stream",
     "text": [
      "\n",
      "DataFrame from a list of lists:\n",
      "      Name  Age         City\n",
      "0    Alice   25     New York\n",
      "1      Bob   30  Los Angeles\n",
      "2  Charlie   35      Chicago\n"
     ]
    }
   ],
   "source": [
    "data = [\n",
    "    ['Alice', 25, 'New York'],\n",
    "    ['Bob', 30, 'Los Angeles'],\n",
    "    ['Charlie', 35, 'Chicago']\n",
    "]\n",
    "columns = ['Name', 'Age', 'City']\n",
    "df_from_list = pd.DataFrame(data, columns=columns)\n",
    "\n",
    "print(\"\\nDataFrame from a list of lists:\")\n",
    "print(df_from_list)"
   ]
  },
  {
   "cell_type": "raw",
   "id": "323b3a20-1edd-40e8-917d-863b3570dbc5",
   "metadata": {},
   "source": [
    "--- DataFrame with Custom Index"
   ]
  },
  {
   "cell_type": "code",
   "execution_count": 27,
   "id": "5ac6fa72-588f-48fe-9d1f-f8f45c5b7e97",
   "metadata": {},
   "outputs": [
    {
     "name": "stdout",
     "output_type": "stream",
     "text": [
      "\n",
      "DataFrame with custom index:\n",
      "      Name  Age\n",
      "a    Alice   25\n",
      "b      Bob   30\n",
      "c  Charlie   35\n"
     ]
    }
   ],
   "source": [
    "data = {\n",
    "    'Name': ['Alice', 'Bob', 'Charlie'],\n",
    "    'Age': [25, 30, 35]\n",
    "}\n",
    "df_with_index = pd.DataFrame(data, index=['a', 'b', 'c'])\n",
    "\n",
    "print(\"\\nDataFrame with custom index:\")\n",
    "print(df_with_index)"
   ]
  },
  {
   "cell_type": "raw",
   "id": "5eb2166c-7e75-4a8a-b18e-e47538dfe661",
   "metadata": {},
   "source": [
    "--- DataFrame Information"
   ]
  },
  {
   "cell_type": "code",
   "execution_count": 29,
   "id": "58b1c1e5-4775-46ef-bc98-5e206d622fb7",
   "metadata": {},
   "outputs": [
    {
     "name": "stdout",
     "output_type": "stream",
     "text": [
      "\n",
      "DataFrame info:\n",
      "<class 'pandas.core.frame.DataFrame'>\n",
      "RangeIndex: 3 entries, 0 to 2\n",
      "Data columns (total 3 columns):\n",
      " #   Column  Non-Null Count  Dtype \n",
      "---  ------  --------------  ----- \n",
      " 0   Name    3 non-null      object\n",
      " 1   Age     3 non-null      int64 \n",
      " 2   City    3 non-null      object\n",
      "dtypes: int64(1), object(2)\n",
      "memory usage: 204.0+ bytes\n",
      "None\n",
      "\n",
      "DataFrame summary:\n",
      "        Age\n",
      "count   3.0\n",
      "mean   30.0\n",
      "std     5.0\n",
      "min    25.0\n",
      "25%    27.5\n",
      "50%    30.0\n",
      "75%    32.5\n",
      "max    35.0\n"
     ]
    }
   ],
   "source": [
    "print(\"\\nDataFrame info:\")\n",
    "print(df.info())\n",
    "\n",
    "print(\"\\nDataFrame summary:\")\n",
    "print(df.describe())"
   ]
  }
 ],
 "metadata": {
  "kernelspec": {
   "display_name": "Python 3 (ipykernel)",
   "language": "python",
   "name": "python3"
  },
  "language_info": {
   "codemirror_mode": {
    "name": "ipython",
    "version": 3
   },
   "file_extension": ".py",
   "mimetype": "text/x-python",
   "name": "python",
   "nbconvert_exporter": "python",
   "pygments_lexer": "ipython3",
   "version": "3.12.4"
  }
 },
 "nbformat": 4,
 "nbformat_minor": 5
}
