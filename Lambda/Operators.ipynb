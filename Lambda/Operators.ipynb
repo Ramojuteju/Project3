{
 "cells": [
  {
   "cell_type": "code",
   "execution_count": null,
   "id": "8891247a-72c7-40d6-a37a-3dfdf39f6456",
   "metadata": {},
   "outputs": [],
   "source": [
    "# --- Adding"
   ]
  },
  {
   "cell_type": "code",
   "execution_count": 1,
   "id": "fcdcc712-ed2f-4433-964b-77399919c83f",
   "metadata": {},
   "outputs": [
    {
     "name": "stdout",
     "output_type": "stream",
     "text": [
      "Addition Result: 8\n"
     ]
    }
   ],
   "source": [
    "add = lambda x, y: x + y\n",
    "result = add(5, 3)\n",
    "print(\"Addition Result:\", result)"
   ]
  },
  {
   "cell_type": "code",
   "execution_count": null,
   "id": "1cde8d10-6192-4bf5-9b89-77f673b0df2f",
   "metadata": {},
   "outputs": [],
   "source": [
    "# --- Squaring a Number"
   ]
  },
  {
   "cell_type": "code",
   "execution_count": 3,
   "id": "35dc5669-3bed-4231-ba0e-1d58bee1d3b2",
   "metadata": {},
   "outputs": [
    {
     "name": "stdout",
     "output_type": "stream",
     "text": [
      "Square Result: 16\n"
     ]
    }
   ],
   "source": [
    "square = lambda x: x ** 2\n",
    "result = square(4)\n",
    "print(\"Square Result:\", result)"
   ]
  },
  {
   "cell_type": "code",
   "execution_count": null,
   "id": "7874d300-bc87-4558-ab4f-b01367ec1ba9",
   "metadata": {},
   "outputs": [],
   "source": [
    "# --- Even or ODD"
   ]
  },
  {
   "cell_type": "code",
   "execution_count": 5,
   "id": "4da96f38-b01f-4424-9559-27c07470a336",
   "metadata": {},
   "outputs": [
    {
     "name": "stdout",
     "output_type": "stream",
     "text": [
      "Is 10 Even? True\n",
      "Is 7 Even? False\n"
     ]
    }
   ],
   "source": [
    "is_even = lambda x: x % 2 == 0\n",
    "print(\"Is 10 Even?\", is_even(10))  \n",
    "print(\"Is 7 Even?\", is_even(7))"
   ]
  },
  {
   "cell_type": "code",
   "execution_count": null,
   "id": "e8883d57-9bfa-4bc6-a923-0caaf321418b",
   "metadata": {},
   "outputs": [],
   "source": [
    "# --- Max of 2 Numbers"
   ]
  },
  {
   "cell_type": "code",
   "execution_count": 7,
   "id": "0d747475-e28b-45fa-8bdb-87d6702a28ea",
   "metadata": {},
   "outputs": [
    {
     "name": "stdout",
     "output_type": "stream",
     "text": [
      "Maximum Result: 20\n"
     ]
    }
   ],
   "source": [
    "maximum = lambda x, y: x if x > y else y\n",
    "result = maximum(10, 20)\n",
    "print(\"Maximum Result:\", result)"
   ]
  },
  {
   "cell_type": "code",
   "execution_count": null,
   "id": "a8dd6496-f4ce-4755-bd05-64213a685d25",
   "metadata": {},
   "outputs": [],
   "source": [
    "# --- Concatenating Strings"
   ]
  },
  {
   "cell_type": "code",
   "execution_count": 9,
   "id": "e8ca9d9b-1407-4b04-a824-f98af70d0086",
   "metadata": {},
   "outputs": [
    {
     "name": "stdout",
     "output_type": "stream",
     "text": [
      "Concatenated String: Hello World\n"
     ]
    }
   ],
   "source": [
    "concat = lambda a, b: a + \" \" + b\n",
    "result = concat(\"Hello\", \"World\")\n",
    "print(\"Concatenated String:\", result)"
   ]
  },
  {
   "cell_type": "code",
   "execution_count": null,
   "id": "34a87d7d-6804-43b7-a8a7-2e1593369277",
   "metadata": {},
   "outputs": [],
   "source": []
  }
 ],
 "metadata": {
  "kernelspec": {
   "display_name": "Python 3 (ipykernel)",
   "language": "python",
   "name": "python3"
  },
  "language_info": {
   "codemirror_mode": {
    "name": "ipython",
    "version": 3
   },
   "file_extension": ".py",
   "mimetype": "text/x-python",
   "name": "python",
   "nbconvert_exporter": "python",
   "pygments_lexer": "ipython3",
   "version": "3.12.4"
  }
 },
 "nbformat": 4,
 "nbformat_minor": 5
}
