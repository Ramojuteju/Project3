{
 "cells": [
  {
   "cell_type": "code",
   "execution_count": 1,
   "id": "82aef5cf-8c88-48e0-aa0a-45bc9be6cdc8",
   "metadata": {},
   "outputs": [],
   "source": [
    "# --- Regular Functions"
   ]
  },
  {
   "cell_type": "code",
   "execution_count": 19,
   "id": "34503d4a-1740-42a3-bfa8-6673fde012c4",
   "metadata": {},
   "outputs": [],
   "source": [
    "# Define the lambda function\n",
    "add = lambda x, y: x + y"
   ]
  },
  {
   "cell_type": "code",
   "execution_count": 23,
   "id": "afe6c4a1-2647-4181-8e9d-7328fe41c3dc",
   "metadata": {},
   "outputs": [
    {
     "name": "stdout",
     "output_type": "stream",
     "text": [
      "8\n"
     ]
    }
   ],
   "source": [
    "def add(x, y):\n",
    "    return x + y\n",
    "result = add(3, 5) # Use the lambda function\n",
    "print(result)"
   ]
  },
  {
   "cell_type": "code",
   "execution_count": null,
   "id": "44d19aab-fd85-4b59-a7df-df73a3066830",
   "metadata": {},
   "outputs": [],
   "source": [
    "# --- Use Cases"
   ]
  },
  {
   "cell_type": "code",
   "execution_count": null,
   "id": "24239850-15a8-48bc-8bcc-78efb30843ff",
   "metadata": {},
   "outputs": [],
   "source": [
    "# --- Lambda functions"
   ]
  },
  {
   "cell_type": "code",
   "execution_count": 15,
   "id": "9b71d652-491f-4363-b432-c6ecf39bb7c3",
   "metadata": {},
   "outputs": [
    {
     "name": "stdout",
     "output_type": "stream",
     "text": [
      "[1, 4, 9, 16]\n"
     ]
    }
   ],
   "source": [
    "# Use map with a lambda function to square each number in the list\n",
    "squared = list(map(lambda x: x ** 2, [1, 2, 3, 4]))\n",
    "print(squared) "
   ]
  },
  {
   "cell_type": "code",
   "execution_count": null,
   "id": "01192c7b-a8d7-4d4c-bffb-96b152f951b4",
   "metadata": {},
   "outputs": [],
   "source": [
    "# --- Regular Functions"
   ]
  },
  {
   "cell_type": "code",
   "execution_count": 7,
   "id": "fd72cb47-f7e8-4912-a668-6e7958458aa8",
   "metadata": {},
   "outputs": [
    {
     "name": "stdout",
     "output_type": "stream",
     "text": [
      "1\n",
      "4\n",
      "9\n",
      "16\n"
     ]
    }
   ],
   "source": [
    "def square_and_print(numbers):\n",
    "    for num in numbers:\n",
    "        print(num ** 2)\n",
    "\n",
    "square_and_print([1, 2, 3, 4])"
   ]
  },
  {
   "cell_type": "code",
   "execution_count": null,
   "id": "28e7c046-9be2-4d49-aac0-27bd290d76c1",
   "metadata": {},
   "outputs": [],
   "source": []
  }
 ],
 "metadata": {
  "kernelspec": {
   "display_name": "Python 3 (ipykernel)",
   "language": "python",
   "name": "python3"
  },
  "language_info": {
   "codemirror_mode": {
    "name": "ipython",
    "version": 3
   },
   "file_extension": ".py",
   "mimetype": "text/x-python",
   "name": "python",
   "nbconvert_exporter": "python",
   "pygments_lexer": "ipython3",
   "version": "3.12.4"
  }
 },
 "nbformat": 4,
 "nbformat_minor": 5
}
