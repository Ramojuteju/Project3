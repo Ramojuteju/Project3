{
 "cells": [
  {
   "cell_type": "raw",
   "id": "62c150d2-e5bc-4b02-89cc-28e27c039ebc",
   "metadata": {},
   "source": [
    "--- Syntax"
   ]
  },
  {
   "cell_type": "raw",
   "id": "da15d05c-2391-4b35-b971-e27f85be9436",
   "metadata": {},
   "source": [
    "--- Lambda Functions"
   ]
  },
  {
   "cell_type": "code",
   "execution_count": 1,
   "id": "82aef5cf-8c88-48e0-aa0a-45bc9be6cdc8",
   "metadata": {},
   "outputs": [],
   "source": [
    "add = lambda x, y: x + y"
   ]
  },
  {
   "cell_type": "raw",
   "id": "80615653-a5bb-4e7b-9ba8-4d69f6fd0dc1",
   "metadata": {},
   "source": [
    "--- Regular Functions"
   ]
  },
  {
   "cell_type": "code",
   "execution_count": 3,
   "id": "afe6c4a1-2647-4181-8e9d-7328fe41c3dc",
   "metadata": {},
   "outputs": [],
   "source": [
    "def add(x, y):\n",
    "    return x + y"
   ]
  },
  {
   "cell_type": "raw",
   "id": "5f4b6a90-215c-4795-9178-5eb6523e14c7",
   "metadata": {},
   "source": [
    "--- Use Cases"
   ]
  },
  {
   "cell_type": "raw",
   "id": "ee5d6918-2295-4acc-9edc-a4aff933d9d3",
   "metadata": {},
   "source": [
    "--- Lambda functions"
   ]
  },
  {
   "cell_type": "code",
   "execution_count": 5,
   "id": "9b71d652-491f-4363-b432-c6ecf39bb7c3",
   "metadata": {},
   "outputs": [],
   "source": [
    "squared = list(map(lambda x: x ** 2, [1, 2, 3, 4]))"
   ]
  },
  {
   "cell_type": "raw",
   "id": "2023ec26-8b82-4942-8ef8-dceab432fdbc",
   "metadata": {},
   "source": [
    "--- Regular Functions"
   ]
  },
  {
   "cell_type": "code",
   "execution_count": 7,
   "id": "fd72cb47-f7e8-4912-a668-6e7958458aa8",
   "metadata": {},
   "outputs": [
    {
     "name": "stdout",
     "output_type": "stream",
     "text": [
      "1\n",
      "4\n",
      "9\n",
      "16\n"
     ]
    }
   ],
   "source": [
    "def square_and_print(numbers):\n",
    "    for num in numbers:\n",
    "        print(num ** 2)\n",
    "\n",
    "square_and_print([1, 2, 3, 4])"
   ]
  },
  {
   "cell_type": "code",
   "execution_count": null,
   "id": "28e7c046-9be2-4d49-aac0-27bd290d76c1",
   "metadata": {},
   "outputs": [],
   "source": []
  }
 ],
 "metadata": {
  "kernelspec": {
   "display_name": "Python 3 (ipykernel)",
   "language": "python",
   "name": "python3"
  },
  "language_info": {
   "codemirror_mode": {
    "name": "ipython",
    "version": 3
   },
   "file_extension": ".py",
   "mimetype": "text/x-python",
   "name": "python",
   "nbconvert_exporter": "python",
   "pygments_lexer": "ipython3",
   "version": "3.12.4"
  }
 },
 "nbformat": 4,
 "nbformat_minor": 5
}
