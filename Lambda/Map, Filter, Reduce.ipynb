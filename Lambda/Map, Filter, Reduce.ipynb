{
 "cells": [
  {
   "cell_type": "code",
   "execution_count": 1,
   "id": "a1ecceaf-bb17-4b2c-a5e9-7ab04cdb9e8a",
   "metadata": {},
   "outputs": [],
   "source": [
    "from functools import reduce"
   ]
  },
  {
   "cell_type": "code",
   "execution_count": null,
   "id": "8a78719d-bc5e-4414-b88d-1cbada0a9704",
   "metadata": {},
   "outputs": [],
   "source": [
    "# --- Map()"
   ]
  },
  {
   "cell_type": "code",
   "execution_count": 3,
   "id": "cee33dee-75c2-4f4a-8f63-cefddbc1c90b",
   "metadata": {},
   "outputs": [
    {
     "name": "stdout",
     "output_type": "stream",
     "text": [
      "Squared Numbers: [1, 4, 9, 16, 25]\n"
     ]
    }
   ],
   "source": [
    "numbers = [1, 2, 3, 4, 5]\n",
    "squared_numbers = list(map(lambda x: x ** 2, numbers))\n",
    "print(\"Squared Numbers:\", squared_numbers)"
   ]
  },
  {
   "cell_type": "code",
   "execution_count": null,
   "id": "8ea3ba0d-1ed8-43ae-8f92-b52c3e38957d",
   "metadata": {},
   "outputs": [],
   "source": [
    "# --- Filter()"
   ]
  },
  {
   "cell_type": "code",
   "execution_count": 5,
   "id": "1eccc14e-8081-42f5-9b81-f01f1d9a3548",
   "metadata": {},
   "outputs": [
    {
     "name": "stdout",
     "output_type": "stream",
     "text": [
      "Even Numbers: [2, 4]\n"
     ]
    }
   ],
   "source": [
    "even_numbers = list(filter(lambda x: x % 2 == 0, numbers))\n",
    "print(\"Even Numbers:\", even_numbers)"
   ]
  },
  {
   "cell_type": "code",
   "execution_count": null,
   "id": "2c4edf3d-0355-4b01-aa27-59961041c97b",
   "metadata": {},
   "outputs": [],
   "source": [
    "# --- Reduce ()"
   ]
  },
  {
   "cell_type": "code",
   "execution_count": null,
   "id": "06580446-358b-409c-a7a0-047e6d4ad57b",
   "metadata": {},
   "outputs": [],
   "source": [
    "# --- Summing Numbers"
   ]
  },
  {
   "cell_type": "code",
   "execution_count": 7,
   "id": "a4f11662-0ba6-4dbd-91f7-1fb012901b3b",
   "metadata": {},
   "outputs": [
    {
     "name": "stdout",
     "output_type": "stream",
     "text": [
      "Total Sum: 15\n"
     ]
    }
   ],
   "source": [
    "total_sum = reduce(lambda x, y: x + y, numbers)\n",
    "print(\"Total Sum:\", total_sum) "
   ]
  },
  {
   "cell_type": "code",
   "execution_count": null,
   "id": "1e6a7576-ffb6-4993-8032-e8370ff23e96",
   "metadata": {},
   "outputs": [],
   "source": [
    "# --- Product of Numbers"
   ]
  },
  {
   "cell_type": "code",
   "execution_count": 9,
   "id": "da21ab3e-0d73-4503-a3c9-92ad3186f092",
   "metadata": {},
   "outputs": [
    {
     "name": "stdout",
     "output_type": "stream",
     "text": [
      "Product: 120\n"
     ]
    }
   ],
   "source": [
    "product = reduce(lambda x, y: x * y, numbers)\n",
    "print(\"Product:\", product)"
   ]
  },
  {
   "cell_type": "code",
   "execution_count": null,
   "id": "377f5690-186d-42a5-a716-df6ad42e2757",
   "metadata": {},
   "outputs": [],
   "source": [
    "# --- Combining Map() & Filter ()"
   ]
  },
  {
   "cell_type": "code",
   "execution_count": 11,
   "id": "908dc462-3e39-4db0-9459-09d9f537647f",
   "metadata": {},
   "outputs": [
    {
     "name": "stdout",
     "output_type": "stream",
     "text": [
      "Squared Even Numbers: [4, 16]\n"
     ]
    }
   ],
   "source": [
    "squared_even_numbers = list(map(lambda x: x ** 2, filter(lambda x: x % 2 == 0, numbers)))\n",
    "print(\"Squared Even Numbers:\", squared_even_numbers) "
   ]
  },
  {
   "cell_type": "code",
   "execution_count": null,
   "id": "673f23fc-e7da-4706-b0c3-14a01e6b1f22",
   "metadata": {},
   "outputs": [],
   "source": []
  }
 ],
 "metadata": {
  "kernelspec": {
   "display_name": "Python 3 (ipykernel)",
   "language": "python",
   "name": "python3"
  },
  "language_info": {
   "codemirror_mode": {
    "name": "ipython",
    "version": 3
   },
   "file_extension": ".py",
   "mimetype": "text/x-python",
   "name": "python",
   "nbconvert_exporter": "python",
   "pygments_lexer": "ipython3",
   "version": "3.12.4"
  }
 },
 "nbformat": 4,
 "nbformat_minor": 5
}
