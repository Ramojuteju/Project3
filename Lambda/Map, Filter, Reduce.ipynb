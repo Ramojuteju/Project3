{
 "cells": [
  {
   "cell_type": "code",
   "execution_count": 1,
   "id": "a1ecceaf-bb17-4b2c-a5e9-7ab04cdb9e8a",
   "metadata": {},
   "outputs": [],
   "source": [
    "from functools import reduce"
   ]
  },
  {
   "cell_type": "raw",
   "id": "8bda1c8c-c153-4f17-94e8-90dccaccb926",
   "metadata": {},
   "source": [
    "--- Map()"
   ]
  },
  {
   "cell_type": "code",
   "execution_count": 3,
   "id": "cee33dee-75c2-4f4a-8f63-cefddbc1c90b",
   "metadata": {},
   "outputs": [
    {
     "name": "stdout",
     "output_type": "stream",
     "text": [
      "Squared Numbers: [1, 4, 9, 16, 25]\n"
     ]
    }
   ],
   "source": [
    "numbers = [1, 2, 3, 4, 5]\n",
    "squared_numbers = list(map(lambda x: x ** 2, numbers))\n",
    "print(\"Squared Numbers:\", squared_numbers)"
   ]
  },
  {
   "cell_type": "raw",
   "id": "1b848ba5-1823-410d-aa11-edf9b960aea8",
   "metadata": {},
   "source": [
    "--- Filter()"
   ]
  },
  {
   "cell_type": "code",
   "execution_count": 5,
   "id": "1eccc14e-8081-42f5-9b81-f01f1d9a3548",
   "metadata": {},
   "outputs": [
    {
     "name": "stdout",
     "output_type": "stream",
     "text": [
      "Even Numbers: [2, 4]\n"
     ]
    }
   ],
   "source": [
    "even_numbers = list(filter(lambda x: x % 2 == 0, numbers))\n",
    "print(\"Even Numbers:\", even_numbers)"
   ]
  },
  {
   "cell_type": "raw",
   "id": "399163a9-10b5-4b69-81c7-99892e8a5c5e",
   "metadata": {},
   "source": [
    "--- Reduce ()"
   ]
  },
  {
   "cell_type": "raw",
   "id": "6b0553e2-1183-4ae1-a270-cd3044e6f15c",
   "metadata": {},
   "source": [
    "--- Summing Numbers"
   ]
  },
  {
   "cell_type": "code",
   "execution_count": 7,
   "id": "a4f11662-0ba6-4dbd-91f7-1fb012901b3b",
   "metadata": {},
   "outputs": [
    {
     "name": "stdout",
     "output_type": "stream",
     "text": [
      "Total Sum: 15\n"
     ]
    }
   ],
   "source": [
    "total_sum = reduce(lambda x, y: x + y, numbers)\n",
    "print(\"Total Sum:\", total_sum) "
   ]
  },
  {
   "cell_type": "raw",
   "id": "03bde6ca-97b3-43a0-813f-9e8235bb271a",
   "metadata": {},
   "source": [
    "--- Product of Numbers"
   ]
  },
  {
   "cell_type": "code",
   "execution_count": 9,
   "id": "da21ab3e-0d73-4503-a3c9-92ad3186f092",
   "metadata": {},
   "outputs": [
    {
     "name": "stdout",
     "output_type": "stream",
     "text": [
      "Product: 120\n"
     ]
    }
   ],
   "source": [
    "product = reduce(lambda x, y: x * y, numbers)\n",
    "print(\"Product:\", product)"
   ]
  },
  {
   "cell_type": "raw",
   "id": "523302fa-7759-464e-9f07-04a14dedb44b",
   "metadata": {},
   "source": [
    "--- Combining Map() & Filter ()"
   ]
  },
  {
   "cell_type": "code",
   "execution_count": 11,
   "id": "908dc462-3e39-4db0-9459-09d9f537647f",
   "metadata": {},
   "outputs": [
    {
     "name": "stdout",
     "output_type": "stream",
     "text": [
      "Squared Even Numbers: [4, 16]\n"
     ]
    }
   ],
   "source": [
    "squared_even_numbers = list(map(lambda x: x ** 2, filter(lambda x: x % 2 == 0, numbers)))\n",
    "print(\"Squared Even Numbers:\", squared_even_numbers) "
   ]
  },
  {
   "cell_type": "code",
   "execution_count": null,
   "id": "673f23fc-e7da-4706-b0c3-14a01e6b1f22",
   "metadata": {},
   "outputs": [],
   "source": []
  }
 ],
 "metadata": {
  "kernelspec": {
   "display_name": "Python 3 (ipykernel)",
   "language": "python",
   "name": "python3"
  },
  "language_info": {
   "codemirror_mode": {
    "name": "ipython",
    "version": 3
   },
   "file_extension": ".py",
   "mimetype": "text/x-python",
   "name": "python",
   "nbconvert_exporter": "python",
   "pygments_lexer": "ipython3",
   "version": "3.12.4"
  }
 },
 "nbformat": 4,
 "nbformat_minor": 5
}
