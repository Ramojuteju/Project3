{
 "cells": [
  {
   "cell_type": "code",
   "execution_count": 9,
   "id": "17632b3d-c8b7-40a4-bb44-5cbc2ccfe36d",
   "metadata": {},
   "outputs": [],
   "source": [
    "import numpy as np"
   ]
  },
  {
   "cell_type": "raw",
   "id": "72e7c3a6-62dc-4202-a106-d6cf058f377b",
   "metadata": {},
   "source": [
    "--- 1D Array"
   ]
  },
  {
   "cell_type": "code",
   "execution_count": 11,
   "id": "1b6b66ec-cd66-41e7-a7e4-ed47129db106",
   "metadata": {},
   "outputs": [
    {
     "name": "stdout",
     "output_type": "stream",
     "text": [
      "1D Array:\n",
      "[1 2 3 4 5]\n"
     ]
    }
   ],
   "source": [
    "array_1d = np.array([1, 2, 3, 4, 5])\n",
    "print(\"1D Array:\")\n",
    "print(array_1d)"
   ]
  },
  {
   "cell_type": "raw",
   "id": "33ed1b33-d1af-4eee-a6b1-f8dcedf37422",
   "metadata": {},
   "source": [
    "--- 2D Array"
   ]
  },
  {
   "cell_type": "code",
   "execution_count": 13,
   "id": "56ba75c3-76b4-49b8-af1f-7a73c0e392c0",
   "metadata": {},
   "outputs": [
    {
     "name": "stdout",
     "output_type": "stream",
     "text": [
      "\n",
      "2D Array:\n",
      "[[1 2 3]\n",
      " [4 5 6]]\n"
     ]
    }
   ],
   "source": [
    "array_2d = np.array([[1, 2, 3], [4, 5, 6]])\n",
    "print(\"\\n2D Array:\")\n",
    "print(array_2d)"
   ]
  },
  {
   "cell_type": "raw",
   "id": "be4e5c24-855c-4e8c-8b8b-6afcb0beacf4",
   "metadata": {},
   "source": [
    "--- 3D Array"
   ]
  },
  {
   "cell_type": "code",
   "execution_count": 15,
   "id": "ea9a17bc-fa64-4a8b-8863-e1fb7f232214",
   "metadata": {},
   "outputs": [
    {
     "name": "stdout",
     "output_type": "stream",
     "text": [
      "\n",
      "3D Array:\n",
      "[[[ 1  2]\n",
      "  [ 3  4]]\n",
      "\n",
      " [[ 5  6]\n",
      "  [ 7  8]]\n",
      "\n",
      " [[ 9 10]\n",
      "  [11 12]]]\n"
     ]
    }
   ],
   "source": [
    "array_3d = np.array([\n",
    "    [[1, 2], [3, 4]],\n",
    "    [[5, 6], [7, 8]],\n",
    "    [[9, 10], [11, 12]]\n",
    "])\n",
    "print(\"\\n3D Array:\")\n",
    "print(array_3d)"
   ]
  }
 ],
 "metadata": {
  "kernelspec": {
   "display_name": "Python 3 (ipykernel)",
   "language": "python",
   "name": "python3"
  },
  "language_info": {
   "codemirror_mode": {
    "name": "ipython",
    "version": 3
   },
   "file_extension": ".py",
   "mimetype": "text/x-python",
   "name": "python",
   "nbconvert_exporter": "python",
   "pygments_lexer": "ipython3",
   "version": "3.12.4"
  }
 },
 "nbformat": 4,
 "nbformat_minor": 5
}
