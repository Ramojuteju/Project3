{
 "cells": [
  {
   "cell_type": "raw",
   "id": "968de978-cc92-4901-9850-34e5717f9628",
   "metadata": {},
   "source": [
    "--- Random Float"
   ]
  },
  {
   "cell_type": "code",
   "execution_count": 9,
   "id": "251b1e17-a2eb-46d1-8bb8-af6d216e4b89",
   "metadata": {},
   "outputs": [],
   "source": [
    "import numpy as np"
   ]
  },
  {
   "cell_type": "code",
   "execution_count": 11,
   "id": "c6848d43-936e-4660-ac48-51e21873bee2",
   "metadata": {},
   "outputs": [
    {
     "name": "stdout",
     "output_type": "stream",
     "text": [
      "Random Float (0.0 to 1.0): 0.7768427881973332\n",
      "\n",
      "Array of 5 Random Floats (0.0 to 1.0): [0.1562399  0.21990979 0.93594165 0.58313695 0.7423423 ]\n"
     ]
    }
   ],
   "source": [
    "random_float = np.random.random()\n",
    "print(\"Random Float (0.0 to 1.0):\", random_float)\n",
    "\n",
    "random_floats = np.random.random(5)\n",
    "print(\"\\nArray of 5 Random Floats (0.0 to 1.0):\", random_floats)"
   ]
  },
  {
   "cell_type": "raw",
   "id": "65438320-bcfa-4d69-be58-28df86a3d786",
   "metadata": {},
   "source": [
    "--- Random Integers"
   ]
  },
  {
   "cell_type": "code",
   "execution_count": 13,
   "id": "8535e910-6500-4072-ac3c-f884a439a62c",
   "metadata": {},
   "outputs": [
    {
     "name": "stdout",
     "output_type": "stream",
     "text": [
      "\n",
      "Random Integer (1 to 9): 7\n",
      "Array of 5 Random Integers (1 to 9): [9 5 8 5 8]\n"
     ]
    }
   ],
   "source": [
    "random_int = np.random.randint(1, 10)\n",
    "print(\"\\nRandom Integer (1 to 9):\", random_int)\n",
    "\n",
    "random_ints = np.random.randint(1, 10, size=5)\n",
    "print(\"Array of 5 Random Integers (1 to 9):\", random_ints)"
   ]
  },
  {
   "cell_type": "raw",
   "id": "b6eeb602-c92f-425a-aff4-74a9d2bd7a05",
   "metadata": {},
   "source": [
    "--- Normal Distribution"
   ]
  },
  {
   "cell_type": "code",
   "execution_count": 15,
   "id": "d4a20ffe-2d7a-48e2-ab3c-61204aeeeb9c",
   "metadata": {},
   "outputs": [
    {
     "name": "stdout",
     "output_type": "stream",
     "text": [
      "\n",
      "Array of 5 Random Samples from Normal Distribution (mean=0, std_dev=1): [-1.2943121  -1.17495383 -0.09894805 -0.48068014  0.04257497]\n"
     ]
    }
   ],
   "source": [
    "mean = 0  \n",
    "std_dev = 1  \n",
    "normal_samples = np.random.normal(mean, std_dev, size=5)\n",
    "print(\"\\nArray of 5 Random Samples from Normal Distribution (mean=0, std_dev=1):\", normal_samples)"
   ]
  }
 ],
 "metadata": {
  "kernelspec": {
   "display_name": "Python 3 (ipykernel)",
   "language": "python",
   "name": "python3"
  },
  "language_info": {
   "codemirror_mode": {
    "name": "ipython",
    "version": 3
   },
   "file_extension": ".py",
   "mimetype": "text/x-python",
   "name": "python",
   "nbconvert_exporter": "python",
   "pygments_lexer": "ipython3",
   "version": "3.12.4"
  }
 },
 "nbformat": 4,
 "nbformat_minor": 5
}
