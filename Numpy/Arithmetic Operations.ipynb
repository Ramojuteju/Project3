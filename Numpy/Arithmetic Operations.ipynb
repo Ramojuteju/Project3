{
 "cells": [
  {
   "cell_type": "raw",
   "id": "dd9ed20e-f003-4d3c-9e8e-ab71d7d98a4d",
   "metadata": {},
   "source": [
    "--- Additions"
   ]
  },
  {
   "cell_type": "code",
   "execution_count": 1,
   "id": "96e56224-0ad8-4e3e-baef-feb1aa5bbbc2",
   "metadata": {},
   "outputs": [],
   "source": [
    "import numpy as np"
   ]
  },
  {
   "cell_type": "code",
   "execution_count": 5,
   "id": "73d47d2f-821c-4c68-93cb-4541bea98512",
   "metadata": {},
   "outputs": [
    {
     "name": "stdout",
     "output_type": "stream",
     "text": [
      "Array A: [1 2 3 4 5]\n",
      "Array B: [10 20 30 40 50]\n"
     ]
    }
   ],
   "source": [
    "array_a = np.array([1, 2, 3, 4, 5])\n",
    "array_b = np.array([10, 20, 30, 40, 50])\n",
    "\n",
    "print(\"Array A:\", array_a)\n",
    "print(\"Array B:\", array_b)"
   ]
  },
  {
   "cell_type": "code",
   "execution_count": 7,
   "id": "a943a30c-c14b-4ea2-aef6-b324d1733639",
   "metadata": {},
   "outputs": [
    {
     "name": "stdout",
     "output_type": "stream",
     "text": [
      "\n",
      "Addition Result: [11 22 33 44 55]\n"
     ]
    }
   ],
   "source": [
    "addition_result = array_a + array_b\n",
    "print(\"\\nAddition Result:\", addition_result)"
   ]
  },
  {
   "cell_type": "raw",
   "id": "8b00b7d3-0b33-435d-ad60-9dd5db37c7ae",
   "metadata": {},
   "source": [
    "--- Subtraction"
   ]
  },
  {
   "cell_type": "code",
   "execution_count": 9,
   "id": "f9b8ff14-b6c1-49af-b554-33405926c0a1",
   "metadata": {},
   "outputs": [
    {
     "name": "stdout",
     "output_type": "stream",
     "text": [
      "Subtraction Result: [ 9 18 27 36 45]\n"
     ]
    }
   ],
   "source": [
    "subtraction_result = array_b - array_a\n",
    "print(\"Subtraction Result:\", subtraction_result)"
   ]
  },
  {
   "cell_type": "raw",
   "id": "ffcfb6b6-52e8-4673-b39d-be611165177f",
   "metadata": {},
   "source": [
    "--- Multiplication"
   ]
  },
  {
   "cell_type": "code",
   "execution_count": 11,
   "id": "18203dde-ab3a-4960-abb2-0f3153f5d04a",
   "metadata": {},
   "outputs": [
    {
     "name": "stdout",
     "output_type": "stream",
     "text": [
      "Multiplication Result: [ 10  40  90 160 250]\n"
     ]
    }
   ],
   "source": [
    "multiplication_result = array_a * array_b\n",
    "print(\"Multiplication Result:\", multiplication_result)"
   ]
  },
  {
   "cell_type": "raw",
   "id": "38225323-8b57-4e62-a4a6-7cad5a5ed854",
   "metadata": {},
   "source": [
    "--- Division"
   ]
  },
  {
   "cell_type": "code",
   "execution_count": 13,
   "id": "b0890482-ae7a-453d-ae8b-5da3e8fffde6",
   "metadata": {},
   "outputs": [
    {
     "name": "stdout",
     "output_type": "stream",
     "text": [
      "Division Result: [10. 10. 10. 10. 10.]\n"
     ]
    }
   ],
   "source": [
    "division_result = array_b / array_a\n",
    "print(\"Division Result:\", division_result)"
   ]
  }
 ],
 "metadata": {
  "kernelspec": {
   "display_name": "Python 3 (ipykernel)",
   "language": "python",
   "name": "python3"
  },
  "language_info": {
   "codemirror_mode": {
    "name": "ipython",
    "version": 3
   },
   "file_extension": ".py",
   "mimetype": "text/x-python",
   "name": "python",
   "nbconvert_exporter": "python",
   "pygments_lexer": "ipython3",
   "version": "3.12.4"
  }
 },
 "nbformat": 4,
 "nbformat_minor": 5
}
