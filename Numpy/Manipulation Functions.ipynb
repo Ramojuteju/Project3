{
 "cells": [
  {
   "cell_type": "raw",
   "id": "88e54f34-78c4-42bb-ab6a-9e7b4f9f31b9",
   "metadata": {},
   "source": [
    "--- Reshape"
   ]
  },
  {
   "cell_type": "code",
   "execution_count": 5,
   "id": "b6173a47-4ad1-4910-8f08-5d07bd5060e0",
   "metadata": {},
   "outputs": [],
   "source": [
    "import numpy as np"
   ]
  },
  {
   "cell_type": "code",
   "execution_count": 11,
   "id": "32e81cba-67a3-43c8-a8d4-a29316de062a",
   "metadata": {},
   "outputs": [
    {
     "name": "stdout",
     "output_type": "stream",
     "text": [
      "1D Array: [1 2 3 4 5 6]\n",
      "\n",
      "2D Array:\n",
      " [[1 2 3]\n",
      " [4 5 6]]\n",
      "\n",
      "3D Array:\n",
      " [[[1 2]\n",
      "  [3 4]]\n",
      "\n",
      " [[5 6]\n",
      "  [7 8]]]\n"
     ]
    }
   ],
   "source": [
    "array_1d = np.array([1, 2, 3, 4, 5, 6])\n",
    "print(\"1D Array:\", array_1d)\n",
    "\n",
    "array_2d = np.array([[1, 2, 3], [4, 5, 6]])\n",
    "print(\"\\n2D Array:\\n\", array_2d)\n",
    "\n",
    "array_3d = np.array([\n",
    "    [[1, 2], [3, 4]],\n",
    "    [[5, 6], [7, 8]]\n",
    "])\n",
    "print(\"\\n3D Array:\\n\", array_3d)"
   ]
  },
  {
   "cell_type": "code",
   "execution_count": null,
   "id": "24650b6f-7048-4eb3-afa1-e26335c15288",
   "metadata": {},
   "outputs": [],
   "source": [
    "--- Reshaping 1D Array to 2D"
   ]
  },
  {
   "cell_type": "code",
   "execution_count": 9,
   "id": "b645d136-b186-4cc4-a8d1-bdd921e13866",
   "metadata": {},
   "outputs": [
    {
     "name": "stdout",
     "output_type": "stream",
     "text": [
      "\n",
      "Reshaped Array (1D to 2D):\n",
      " [[1 2 3]\n",
      " [4 5 6]]\n"
     ]
    }
   ],
   "source": [
    "reshaped_array = array_1d.reshape(2, 3)\n",
    "print(\"\\nReshaped Array (1D to 2D):\\n\", reshaped_array)"
   ]
  },
  {
   "cell_type": "raw",
   "id": "18e9aee1-fde1-4735-8f01-9a45b61a4625",
   "metadata": {},
   "source": [
    "--- Reshaping 2D Array to 3D"
   ]
  },
  {
   "cell_type": "code",
   "execution_count": 13,
   "id": "b00c5b1e-fe7c-42bf-a6ea-99ca563f7fd4",
   "metadata": {},
   "outputs": [
    {
     "name": "stdout",
     "output_type": "stream",
     "text": [
      "\n",
      "Reshaped Array (2D to 3D):\n",
      " [[[1]\n",
      "  [2]\n",
      "  [3]]\n",
      "\n",
      " [[4]\n",
      "  [5]\n",
      "  [6]]]\n"
     ]
    }
   ],
   "source": [
    "reshaped_3d = array_2d.reshape(2, 3, 1)\n",
    "print(\"\\nReshaped Array (2D to 3D):\\n\", reshaped_3d)"
   ]
  },
  {
   "cell_type": "raw",
   "id": "e6a54f8d-a76e-4507-a28a-843580fa02d4",
   "metadata": {},
   "source": [
    "--- Transpose"
   ]
  },
  {
   "cell_type": "raw",
   "id": "e2e75fcc-7dd3-4e97-bca8-706f25438282",
   "metadata": {},
   "source": [
    "--- Transposing 2D Array"
   ]
  },
  {
   "cell_type": "code",
   "execution_count": 15,
   "id": "aad98c7c-eba1-4797-8141-fb6b818f57ad",
   "metadata": {},
   "outputs": [
    {
     "name": "stdout",
     "output_type": "stream",
     "text": [
      "\n",
      "Transposed 2D Array:\n",
      " [[1 4]\n",
      " [2 5]\n",
      " [3 6]]\n"
     ]
    }
   ],
   "source": [
    "transposed_array = array_2d.T\n",
    "print(\"\\nTransposed 2D Array:\\n\", transposed_array)"
   ]
  },
  {
   "cell_type": "raw",
   "id": "c5d3127e-0d4d-44c3-baa8-2687fa27e562",
   "metadata": {},
   "source": [
    "--- Transposing 3D Array"
   ]
  },
  {
   "cell_type": "code",
   "execution_count": 17,
   "id": "c04947e3-2144-4465-b2ae-9163a2fa71f9",
   "metadata": {},
   "outputs": [
    {
     "name": "stdout",
     "output_type": "stream",
     "text": [
      "\n",
      "Transposed 3D Array:\n",
      " [[[1 2]\n",
      "  [5 6]]\n",
      "\n",
      " [[3 4]\n",
      "  [7 8]]]\n"
     ]
    }
   ],
   "source": [
    "transposed_3d = np.transpose(array_3d, (1, 0, 2))\n",
    "print(\"\\nTransposed 3D Array:\\n\", transposed_3d)"
   ]
  },
  {
   "cell_type": "raw",
   "id": "04ea4888-2e54-4196-ae66-688085754472",
   "metadata": {},
   "source": [
    "--- Concatenate"
   ]
  },
  {
   "cell_type": "raw",
   "id": "89670ea5-38d3-43d7-afdf-3ffd5ba25f7e",
   "metadata": {},
   "source": [
    "--- Concatenating 1D Array"
   ]
  },
  {
   "cell_type": "code",
   "execution_count": 19,
   "id": "a561ede8-c40a-4e4f-a522-8831cd87d53e",
   "metadata": {},
   "outputs": [
    {
     "name": "stdout",
     "output_type": "stream",
     "text": [
      "\n",
      "Concatenated 1D Array: [1 2 3 4 5 6 7 8 9]\n"
     ]
    }
   ],
   "source": [
    "array_1d_b = np.array([7, 8, 9])\n",
    "\n",
    "concatenated_1d = np.concatenate((array_1d, array_1d_b))\n",
    "print(\"\\nConcatenated 1D Array:\", concatenated_1d)"
   ]
  },
  {
   "cell_type": "raw",
   "id": "0d7805a6-3ebd-42b6-bbb2-f81e14834f71",
   "metadata": {},
   "source": [
    "--- Concatenating 2D Arrays"
   ]
  },
  {
   "cell_type": "code",
   "execution_count": 21,
   "id": "d9b9e46a-2d76-4cd7-aa5d-de23ab4a3aea",
   "metadata": {},
   "outputs": [
    {
     "name": "stdout",
     "output_type": "stream",
     "text": [
      "\n",
      "Concatenated 2D Array along Rows:\n",
      " [[ 1  2  3]\n",
      " [ 4  5  6]\n",
      " [ 7  8  9]\n",
      " [10 11 12]]\n",
      "\n",
      "Concatenated 2D Array along Columns:\n",
      " [[ 1  2  3  7  8  9]\n",
      " [ 4  5  6 10 11 12]]\n"
     ]
    }
   ],
   "source": [
    "array_2d_b = np.array([[7, 8, 9], [10, 11, 12]])\n",
    "\n",
    "concatenated_2d_rows = np.concatenate((array_2d, array_2d_b), axis=0)\n",
    "print(\"\\nConcatenated 2D Array along Rows:\\n\", concatenated_2d_rows)\n",
    "\n",
    "concatenated_2d_cols = np.concatenate((array_2d, array_2d_b), axis=1)\n",
    "print(\"\\nConcatenated 2D Array along Columns:\\n\", concatenated_2d_cols)"
   ]
  },
  {
   "cell_type": "code",
   "execution_count": null,
   "id": "6d1f4987-7a54-48a2-82fb-f8c761f9d2fb",
   "metadata": {},
   "outputs": [],
   "source": []
  }
 ],
 "metadata": {
  "kernelspec": {
   "display_name": "Python 3 (ipykernel)",
   "language": "python",
   "name": "python3"
  },
  "language_info": {
   "codemirror_mode": {
    "name": "ipython",
    "version": 3
   },
   "file_extension": ".py",
   "mimetype": "text/x-python",
   "name": "python",
   "nbconvert_exporter": "python",
   "pygments_lexer": "ipython3",
   "version": "3.12.4"
  }
 },
 "nbformat": 4,
 "nbformat_minor": 5
}
