{
 "cells": [
  {
   "cell_type": "raw",
   "id": "e1c715a1-c35c-4fdd-ac56-d377f865e97a",
   "metadata": {},
   "source": [
    "--- Indexing"
   ]
  },
  {
   "cell_type": "raw",
   "id": "440198f8-5d94-4c90-84b3-4cd708a2cf5d",
   "metadata": {},
   "source": [
    "--- 1D Array"
   ]
  },
  {
   "cell_type": "code",
   "execution_count": 1,
   "id": "a489cd8c-6baf-4cfe-8581-dcfc45d6a0bf",
   "metadata": {},
   "outputs": [],
   "source": [
    "import numpy as np"
   ]
  },
  {
   "cell_type": "code",
   "execution_count": 24,
   "id": "7df4a331-4087-40bb-9484-3889310bd4fc",
   "metadata": {},
   "outputs": [
    {
     "name": "stdout",
     "output_type": "stream",
     "text": [
      "\n",
      "First Element of 1D Array: 10\n",
      "Last Element of 1D Array: 50\n"
     ]
    }
   ],
   "source": [
    "first_element = array_1d[0]\n",
    "print(\"\\nFirst Element of 1D Array:\", first_element)\n",
    "\n",
    "# Access the last element\n",
    "last_element = array_1d[-1]\n",
    "print(\"Last Element of 1D Array:\", last_element)"
   ]
  },
  {
   "cell_type": "raw",
   "id": "1e1a9f63-e0c0-45af-ad3e-36ce56609cc1",
   "metadata": {},
   "source": [
    "--- 2D Array"
   ]
  },
  {
   "cell_type": "code",
   "execution_count": 26,
   "id": "f8696115-1ca5-4743-b3ee-b2ab85f470d3",
   "metadata": {},
   "outputs": [
    {
     "name": "stdout",
     "output_type": "stream",
     "text": [
      "\n",
      "Element at Row 1, Column 2 in 2D Array: 6\n",
      "Second Row of 2D Array: [4 5 6]\n"
     ]
    }
   ],
   "source": [
    "element_2d = array_2d[1, 2]\n",
    "print(\"\\nElement at Row 1, Column 2 in 2D Array:\", element_2d)\n",
    "\n",
    "second_row = array_2d[1]\n",
    "print(\"Second Row of 2D Array:\", second_row)"
   ]
  },
  {
   "cell_type": "raw",
   "id": "03740b80-4d37-44cc-a138-0b970adb7fc7",
   "metadata": {},
   "source": [
    "--- 3D Array"
   ]
  },
  {
   "cell_type": "code",
   "execution_count": 28,
   "id": "010144e2-43d9-49f2-8ebf-75490728f4be",
   "metadata": {},
   "outputs": [
    {
     "name": "stdout",
     "output_type": "stream",
     "text": [
      "\n",
      "Element at Depth 1, Row 0, Column 1 in 3D Array: 6\n",
      "First Layer of 3D Array:\n",
      " [[1 2]\n",
      " [3 4]]\n"
     ]
    }
   ],
   "source": [
    "element_3d = array_3d[1, 0, 1]\n",
    "print(\"\\nElement at Depth 1, Row 0, Column 1 in 3D Array:\", element_3d)\n",
    "\n",
    "first_layer = array_3d[0]\n",
    "print(\"First Layer of 3D Array:\\n\", first_layer)"
   ]
  },
  {
   "cell_type": "raw",
   "id": "cf3b8cdb-bf55-4c50-a157-655d72f64384",
   "metadata": {},
   "source": [
    "--- Slicing"
   ]
  },
  {
   "cell_type": "raw",
   "id": "709edc45-9e50-43b7-a527-80528b564164",
   "metadata": {},
   "source": [
    "--- 1D Array"
   ]
  },
  {
   "cell_type": "code",
   "execution_count": 30,
   "id": "16ddf5f0-df41-4b16-bf6d-cce69a5d7e98",
   "metadata": {},
   "outputs": [
    {
     "name": "stdout",
     "output_type": "stream",
     "text": [
      "\n",
      "Slice of 1D Array (Index 1 to 3): [20 30 40]\n",
      "Last Two Elements of 1D Array: [40 50]\n"
     ]
    }
   ],
   "source": [
    "slice_1d = array_1d[1:4]\n",
    "print(\"\\nSlice of 1D Array (Index 1 to 3):\", slice_1d)\n",
    "\n",
    "# Slice the last two elements\n",
    "last_two_elements = array_1d[-2:]\n",
    "print(\"Last Two Elements of 1D Array:\", last_two_elements)"
   ]
  },
  {
   "cell_type": "raw",
   "id": "9fa6d102-e163-4ad9-bd24-b2c9dc1ff574",
   "metadata": {},
   "source": [
    "--- 1D Array"
   ]
  },
  {
   "cell_type": "code",
   "execution_count": 32,
   "id": "8582f5f2-8570-44b6-8071-0219a26d63a2",
   "metadata": {},
   "outputs": [
    {
     "name": "stdout",
     "output_type": "stream",
     "text": [
      "\n",
      "Slice of 2D Array (First Two Rows and Columns):\n",
      " [[1 2]\n",
      " [4 5]]\n",
      "Second Column of 2D Array: [2 5 8]\n"
     ]
    }
   ],
   "source": [
    "slice_2d = array_2d[0:2, 0:2]\n",
    "print(\"\\nSlice of 2D Array (First Two Rows and Columns):\\n\", slice_2d)\n",
    "\n",
    "# Slice the entire second column\n",
    "second_column = array_2d[:, 1]\n",
    "print(\"Second Column of 2D Array:\", second_column)"
   ]
  },
  {
   "cell_type": "raw",
   "id": "4559529d-b42e-4f7f-9bb3-c7e1d54e10cb",
   "metadata": {},
   "source": [
    "--- 3D Array"
   ]
  },
  {
   "cell_type": "code",
   "execution_count": 34,
   "id": "5de5176f-2a93-4e6a-baa1-8f73b2fa7d63",
   "metadata": {},
   "outputs": [
    {
     "name": "stdout",
     "output_type": "stream",
     "text": [
      "\n",
      "Slice of 3D Array (First Two Layers, First Row):\n",
      " [[1 2]\n",
      " [5 6]]\n",
      "Last Layer of 3D Array:\n",
      " [[ 9 10]\n",
      " [11 12]]\n"
     ]
    }
   ],
   "source": [
    "slice_3d = array_3d[0:2, 0, :]\n",
    "print(\"\\nSlice of 3D Array (First Two Layers, First Row):\\n\", slice_3d)\n",
    "\n",
    "# Slice to get all elements in the last layer\n",
    "last_layer = array_3d[-1, :, :]\n",
    "print(\"Last Layer of 3D Array:\\n\", last_layer)"
   ]
  },
  {
   "cell_type": "code",
   "execution_count": null,
   "id": "b5fd2b96-f1ad-497b-b275-a1626e5f66bd",
   "metadata": {},
   "outputs": [],
   "source": []
  }
 ],
 "metadata": {
  "kernelspec": {
   "display_name": "Python 3 (ipykernel)",
   "language": "python",
   "name": "python3"
  },
  "language_info": {
   "codemirror_mode": {
    "name": "ipython",
    "version": 3
   },
   "file_extension": ".py",
   "mimetype": "text/x-python",
   "name": "python",
   "nbconvert_exporter": "python",
   "pygments_lexer": "ipython3",
   "version": "3.12.4"
  }
 },
 "nbformat": 4,
 "nbformat_minor": 5
}
