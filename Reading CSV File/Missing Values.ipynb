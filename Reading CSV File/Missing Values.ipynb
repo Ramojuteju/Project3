{
 "cells": [
  {
   "cell_type": "code",
   "execution_count": 33,
   "id": "0327091a-e9ab-4a64-b813-21d221849a71",
   "metadata": {},
   "outputs": [],
   "source": [
    "import pandas as pd\n",
    "import numpy as np"
   ]
  },
  {
   "cell_type": "code",
   "execution_count": 35,
   "id": "cbe3b156-89ae-442d-a7e1-b5aae5c0508e",
   "metadata": {},
   "outputs": [],
   "source": [
    "# --- Missing Values"
   ]
  },
  {
   "cell_type": "code",
   "execution_count": 37,
   "id": "736e77a8-6062-49ad-8165-47c6dcb2eb01",
   "metadata": {},
   "outputs": [],
   "source": [
    "data = {\n",
    "    'Name': ['Alice', 'Bob', None, 'Charlie'],\n",
    "    'Age': [30, None, 35, 25],\n",
    "    'City': ['New York', 'Los Angeles', None, 'Chicago']\n",
    "}\n",
    "\n",
    "df = pd.DataFrame(data)"
   ]
  },
  {
   "cell_type": "code",
   "execution_count": 39,
   "id": "9d2e2b16-7222-426d-afc8-7127f5cb3ff5",
   "metadata": {},
   "outputs": [
    {
     "name": "stdout",
     "output_type": "stream",
     "text": [
      "    Name    Age   City\n",
      "0  False  False  False\n",
      "1  False   True  False\n",
      "2   True  False   True\n",
      "3  False  False  False\n"
     ]
    }
   ],
   "source": [
    "print(df.isnull())"
   ]
  },
  {
   "cell_type": "code",
   "execution_count": 41,
   "id": "50e080a0-0ed5-4d46-99b2-300f243cd809",
   "metadata": {},
   "outputs": [],
   "source": [
    "# --- Dropping Missing Values"
   ]
  },
  {
   "cell_type": "code",
   "execution_count": 43,
   "id": "a34017a8-1a44-450a-9c73-bcb295c5b13e",
   "metadata": {},
   "outputs": [],
   "source": [
    "df = df.dropna()"
   ]
  },
  {
   "cell_type": "code",
   "execution_count": 45,
   "id": "51c8c470-8636-4ab3-ac3a-2ce0925f26ec",
   "metadata": {},
   "outputs": [
    {
     "name": "stdout",
     "output_type": "stream",
     "text": [
      "      Name   Age      City\n",
      "0    Alice  30.0  New York\n",
      "3  Charlie  25.0   Chicago\n"
     ]
    }
   ],
   "source": [
    "print(df)"
   ]
  },
  {
   "cell_type": "code",
   "execution_count": 47,
   "id": "903d4dcc-d664-4d50-a059-d7e7ee250e46",
   "metadata": {},
   "outputs": [],
   "source": [
    "# --- Data Cleaning Techniques"
   ]
  },
  {
   "cell_type": "code",
   "execution_count": 49,
   "id": "19c909c7-f87b-4fe2-bedf-3884b4733afa",
   "metadata": {},
   "outputs": [],
   "source": [
    "# --- Removing Duplicates"
   ]
  },
  {
   "cell_type": "code",
   "execution_count": 51,
   "id": "8c280fb3-20fd-439b-985c-d439bf10e718",
   "metadata": {},
   "outputs": [],
   "source": [
    "data_with_duplicates = {\n",
    "    'Name': ['Alice', 'Bob', 'Alice', 'Charlie'],\n",
    "    'Age': [30, 25, 30, 25],\n",
    "    'City': ['New York', 'Los Angeles', 'New York', 'Chicago']\n",
    "}\n",
    "\n",
    "df_duplicates = pd.DataFrame(data_with_duplicates)\n",
    "\n",
    "df_no_duplicates = df_duplicates.drop_duplicates()"
   ]
  },
  {
   "cell_type": "code",
   "execution_count": 53,
   "id": "bda3772d-0f46-4dcd-aea0-519561bc6f7d",
   "metadata": {},
   "outputs": [
    {
     "name": "stdout",
     "output_type": "stream",
     "text": [
      "      Name  Age         City\n",
      "0    Alice   30     New York\n",
      "1      Bob   25  Los Angeles\n",
      "3  Charlie   25      Chicago\n"
     ]
    }
   ],
   "source": [
    "print(df_no_duplicates)"
   ]
  },
  {
   "cell_type": "code",
   "execution_count": 54,
   "id": "d79b2ccb-9959-47a6-8ccf-17a79245a8e1",
   "metadata": {},
   "outputs": [],
   "source": [
    "# --- Converting Data Types"
   ]
  },
  {
   "cell_type": "code",
   "execution_count": 57,
   "id": "f7531dcd-8951-4ada-89ac-edbc1137eb71",
   "metadata": {},
   "outputs": [
    {
     "name": "stdout",
     "output_type": "stream",
     "text": [
      "Columns in DataFrame: Index(['Name', 'Age'], dtype='object')\n",
      "Name    object\n",
      "Age      Int64\n",
      "dtype: object\n"
     ]
    }
   ],
   "source": [
    "data = {\n",
    "    'Name': ['Alice', 'Bob', 'Charlie'],\n",
    "    'Age': [25, 30, None]  \n",
    "}\n",
    "\n",
    "df = pd.DataFrame(data)\n",
    "\n",
    "print(\"Columns in DataFrame:\", df.columns)\n",
    "\n",
    "df.columns = df.columns.str.strip()\n",
    "\n",
    "if 'Age' in df.columns:\n",
    "    df['Age'] = df['Age'].astype('Int64')  \n",
    "else:\n",
    "    print(\"Column 'Age' does not exist in the DataFrame.\")\n",
    "\n",
    "print(df.dtypes)"
   ]
  },
  {
   "cell_type": "code",
   "execution_count": 59,
   "id": "a5a2d4b2-56e2-48a5-924b-8d3e2e4b37c4",
   "metadata": {},
   "outputs": [],
   "source": [
    "# --- Renaming Columns"
   ]
  },
  {
   "cell_type": "code",
   "execution_count": 61,
   "id": "a8e34752-eec6-4958-84a3-96833df306d1",
   "metadata": {},
   "outputs": [],
   "source": [
    "df_renamed = df.rename(columns={'Name': 'Full Name', 'City': 'Location'})"
   ]
  },
  {
   "cell_type": "code",
   "execution_count": 63,
   "id": "f2275aac-a001-4ca3-a860-386757718d80",
   "metadata": {},
   "outputs": [
    {
     "name": "stdout",
     "output_type": "stream",
     "text": [
      "  Full Name   Age\n",
      "0     Alice    25\n",
      "1       Bob    30\n",
      "2   Charlie  <NA>\n"
     ]
    }
   ],
   "source": [
    "print(df_renamed)"
   ]
  },
  {
   "cell_type": "code",
   "execution_count": 65,
   "id": "946d5bcb-aca1-456e-8bad-46c92bfda5ab",
   "metadata": {},
   "outputs": [],
   "source": [
    "# --- String Cleaning"
   ]
  },
  {
   "cell_type": "code",
   "execution_count": 67,
   "id": "332fd733-edb4-411b-b365-9e20bbadd1ee",
   "metadata": {},
   "outputs": [
    {
     "name": "stdout",
     "output_type": "stream",
     "text": [
      "Columns in DataFrame: ['Name', 'Age', 'City']\n",
      "\n",
      "Updated 'City' column:\n",
      "0       new york\n",
      "1    los angeles\n",
      "2        chicago\n",
      "Name: City, dtype: object\n"
     ]
    }
   ],
   "source": [
    "data = {\n",
    "    'Name': ['Alice', 'Bob', 'Charlie'],\n",
    "    'Age': [25, 30, None],\n",
    "    'City': [' New York ', 'Los Angeles', 'Chicago']  \n",
    "}\n",
    "\n",
    "df = pd.DataFrame(data)\n",
    "\n",
    "print(\"Columns in DataFrame:\", df.columns.tolist())\n",
    "\n",
    "df.columns = df.columns.str.strip()\n",
    "\n",
    "if 'City' in df.columns:\n",
    "    df['City'] = df['City'].str.strip().str.lower()  \n",
    "    print(\"\\nUpdated 'City' column:\")\n",
    "    print(df['City'])\n",
    "else:\n",
    "    print(\"Column 'City' does not exist in the DataFrame.\")"
   ]
  },
  {
   "cell_type": "code",
   "execution_count": null,
   "id": "4d1c5484-3f80-4057-a733-64d745583b72",
   "metadata": {},
   "outputs": [],
   "source": []
  }
 ],
 "metadata": {
  "kernelspec": {
   "display_name": "Python 3 (ipykernel)",
   "language": "python",
   "name": "python3"
  },
  "language_info": {
   "codemirror_mode": {
    "name": "ipython",
    "version": 3
   },
   "file_extension": ".py",
   "mimetype": "text/x-python",
   "name": "python",
   "nbconvert_exporter": "python",
   "pygments_lexer": "ipython3",
   "version": "3.12.4"
  }
 },
 "nbformat": 4,
 "nbformat_minor": 5
}
