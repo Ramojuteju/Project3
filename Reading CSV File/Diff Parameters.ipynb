{
 "cells": [
  {
   "cell_type": "code",
   "execution_count": 3,
   "id": "ee90e4fe-97fc-4e95-a62f-e76fa1802741",
   "metadata": {},
   "outputs": [],
   "source": [
    "import pandas as pd"
   ]
  },
  {
   "cell_type": "code",
   "execution_count": null,
   "id": "ab278cc9-3383-4b94-a4d6-928e15318a0f",
   "metadata": {},
   "outputs": [],
   "source": [
    "# --- Path to CSV File"
   ]
  },
  {
   "cell_type": "code",
   "execution_count": null,
   "id": "83fc69c5-ae7f-4a18-9de5-6c5346e7759d",
   "metadata": {},
   "outputs": [],
   "source": [
    "df = pd.read_csv('data.csv')"
   ]
  },
  {
   "cell_type": "code",
   "execution_count": null,
   "id": "9e0dd91e-4dec-41a8-9404-6faca9ef0d19",
   "metadata": {},
   "outputs": [],
   "source": [
    "# --- Semicolon Separated or Delimiter"
   ]
  },
  {
   "cell_type": "code",
   "execution_count": null,
   "id": "6ab936d2-c770-41e8-aaa4-777dd18c217e",
   "metadata": {},
   "outputs": [],
   "source": [
    "df = pd.read_csv('data.csv', sep=';')"
   ]
  },
  {
   "cell_type": "code",
   "execution_count": null,
   "id": "e9cfc28f-5c2e-47fa-84fa-1bb6dd1f36b0",
   "metadata": {},
   "outputs": [],
   "source": [
    "# --- Header"
   ]
  },
  {
   "cell_type": "code",
   "execution_count": null,
   "id": "e2277923-08b3-4e34-9cea-33d7fac22f07",
   "metadata": {},
   "outputs": [],
   "source": [
    "df = pd.read_csv('data.csv', header=None)"
   ]
  },
  {
   "cell_type": "code",
   "execution_count": null,
   "id": "d0dac776-c2f0-4679-bd6b-0cce576d1694",
   "metadata": {},
   "outputs": [],
   "source": [
    "# --- Names"
   ]
  },
  {
   "cell_type": "code",
   "execution_count": null,
   "id": "57336ad8-9f57-40f4-a1d0-d44bc6fcd7c1",
   "metadata": {},
   "outputs": [],
   "source": [
    "df = pd.read_csv('your_file.csv', names=['col1', 'col2', 'col3'])"
   ]
  },
  {
   "cell_type": "code",
   "execution_count": null,
   "id": "92f538c4-8286-454b-a22f-49a878cefa0d",
   "metadata": {},
   "outputs": [],
   "source": [
    "# --- Index_Col"
   ]
  },
  {
   "cell_type": "code",
   "execution_count": null,
   "id": "8b7ae31b-1034-4ff7-9583-d035a7d8c6d3",
   "metadata": {},
   "outputs": [],
   "source": [
    "df = pd.read_csv('your_file.csv', index_col='id')"
   ]
  },
  {
   "cell_type": "code",
   "execution_count": null,
   "id": "b3933bef-c1ff-43f1-b320-74a6207b413f",
   "metadata": {},
   "outputs": [],
   "source": [
    "# ---Dtype"
   ]
  },
  {
   "cell_type": "code",
   "execution_count": null,
   "id": "45c60172-e4a6-497a-be1a-d07822c25f92",
   "metadata": {},
   "outputs": [],
   "source": [
    "df = pd.read_csv('your_file.csv', dtype={'col1': 'float64', 'col2': 'int32'})"
   ]
  }
 ],
 "metadata": {
  "kernelspec": {
   "display_name": "Python 3 (ipykernel)",
   "language": "python",
   "name": "python3"
  },
  "language_info": {
   "codemirror_mode": {
    "name": "ipython",
    "version": 3
   },
   "file_extension": ".py",
   "mimetype": "text/x-python",
   "name": "python",
   "nbconvert_exporter": "python",
   "pygments_lexer": "ipython3",
   "version": "3.12.4"
  }
 },
 "nbformat": 4,
 "nbformat_minor": 5
}
