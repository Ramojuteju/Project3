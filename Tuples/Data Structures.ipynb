{
 "cells": [
  {
   "cell_type": "raw",
   "id": "e029ead1-8b45-4753-ab1a-e8087e9a0895",
   "metadata": {},
   "source": [
    "--- Lists"
   ]
  },
  {
   "cell_type": "code",
   "execution_count": 1,
   "id": "928eeb85-4289-4a01-86c8-5b40724838a2",
   "metadata": {},
   "outputs": [],
   "source": [
    "my_list = [1, 2, 3, 4]\n",
    "my_list.append(5)"
   ]
  },
  {
   "cell_type": "raw",
   "id": "ed8b275d-5fca-480f-ab80-f498380d1088",
   "metadata": {},
   "source": [
    "--- Tuples"
   ]
  },
  {
   "cell_type": "code",
   "execution_count": 3,
   "id": "1dea064d-df47-4dca-b5db-523ce33084c6",
   "metadata": {},
   "outputs": [],
   "source": [
    "my_tuple = (1, 2, 3, 4)"
   ]
  },
  {
   "cell_type": "raw",
   "id": "e40c3b00-8795-4652-a436-2c1c3010cdee",
   "metadata": {},
   "source": [
    "--- Sets"
   ]
  },
  {
   "cell_type": "code",
   "execution_count": 5,
   "id": "6ad99358-2d59-4242-8b5f-4fbc82e3b6f9",
   "metadata": {},
   "outputs": [],
   "source": [
    "my_set = {1, 2, 3, 4}\n",
    "my_set.add(5)"
   ]
  },
  {
   "cell_type": "raw",
   "id": "575faf03-4693-470f-9dad-b44895143a96",
   "metadata": {},
   "source": [
    "---- Dictionaries"
   ]
  },
  {
   "cell_type": "code",
   "execution_count": 7,
   "id": "fcf17a92-864f-419f-a017-3f5a94070a7c",
   "metadata": {},
   "outputs": [
    {
     "name": "stdout",
     "output_type": "stream",
     "text": [
      "Alice\n"
     ]
    }
   ],
   "source": [
    "my_dict = {'name': 'Alice', 'age': 30}\n",
    "my_dict['city'] = 'New York' \n",
    "print(my_dict['name']) "
   ]
  }
 ],
 "metadata": {
  "kernelspec": {
   "display_name": "Python 3 (ipykernel)",
   "language": "python",
   "name": "python3"
  },
  "language_info": {
   "codemirror_mode": {
    "name": "ipython",
    "version": 3
   },
   "file_extension": ".py",
   "mimetype": "text/x-python",
   "name": "python",
   "nbconvert_exporter": "python",
   "pygments_lexer": "ipython3",
   "version": "3.12.4"
  }
 },
 "nbformat": 4,
 "nbformat_minor": 5
}
