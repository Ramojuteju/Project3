{
 "cells": [
  {
   "cell_type": "raw",
   "id": "5dfa073e-a0a4-4b0d-86cf-e525f3afc94d",
   "metadata": {},
   "source": [
    "--- List"
   ]
  },
  {
   "cell_type": "raw",
   "id": "be2a2385-6b1c-49a5-98b3-51776c44e8f8",
   "metadata": {},
   "source": [
    "--- Indexing"
   ]
  },
  {
   "cell_type": "code",
   "execution_count": 1,
   "id": "5d44391f-d381-4f32-bdf9-9527731ec30e",
   "metadata": {},
   "outputs": [],
   "source": [
    "my_list = [10, 20, 30, 40, 50]"
   ]
  },
  {
   "cell_type": "code",
   "execution_count": 3,
   "id": "a23c1280-e7df-4f62-872a-7d86ae373793",
   "metadata": {},
   "outputs": [],
   "source": [
    "first_element = my_list[0]\n",
    "last_element = my_list[-1]"
   ]
  },
  {
   "cell_type": "code",
   "execution_count": 5,
   "id": "73abf587-f13c-4ea8-ba93-89a5c8999f16",
   "metadata": {},
   "outputs": [
    {
     "name": "stdout",
     "output_type": "stream",
     "text": [
      "First Element: 10\n",
      "Last Element: 50\n"
     ]
    }
   ],
   "source": [
    "print(\"First Element:\", first_element)\n",
    "print(\"Last Element:\", last_element)"
   ]
  },
  {
   "cell_type": "raw",
   "id": "86e04377-8f81-46d0-974f-1ff16a8c8c0e",
   "metadata": {},
   "source": [
    "--- Slicing"
   ]
  },
  {
   "cell_type": "code",
   "execution_count": 7,
   "id": "837a6b71-51c9-4b30-a893-1cd7550f107b",
   "metadata": {},
   "outputs": [],
   "source": [
    "sliced_list = my_list[1:4]"
   ]
  },
  {
   "cell_type": "code",
   "execution_count": 9,
   "id": "d64bb8cd-f576-4ba9-be50-8fd276b9c0ce",
   "metadata": {},
   "outputs": [
    {
     "name": "stdout",
     "output_type": "stream",
     "text": [
      "Sliced List: [20, 30, 40]\n"
     ]
    }
   ],
   "source": [
    "print(\"Sliced List:\", sliced_list)"
   ]
  },
  {
   "cell_type": "raw",
   "id": "f72f78f3-9db3-4671-82ca-ce48c8a780ec",
   "metadata": {},
   "source": [
    "--- Adding Elements"
   ]
  },
  {
   "cell_type": "code",
   "execution_count": 11,
   "id": "074c9ca0-622b-4f08-a8c9-a78adc7f5d3e",
   "metadata": {},
   "outputs": [],
   "source": [
    "my_list.append(60)           \n",
    "my_list.insert(0, 5)        \n",
    "my_list.extend([70, 80])"
   ]
  },
  {
   "cell_type": "code",
   "execution_count": 13,
   "id": "ebe32c04-b323-4cc0-9632-86bf03c10b08",
   "metadata": {},
   "outputs": [
    {
     "name": "stdout",
     "output_type": "stream",
     "text": [
      "After Adding Elements: [5, 10, 20, 30, 40, 50, 60, 70, 80]\n"
     ]
    }
   ],
   "source": [
    "print(\"After Adding Elements:\", my_list)"
   ]
  },
  {
   "cell_type": "raw",
   "id": "3173bb6a-b715-49b2-a2fe-b22cb9271fc4",
   "metadata": {},
   "source": [
    "--- Removing Elements"
   ]
  },
  {
   "cell_type": "code",
   "execution_count": 15,
   "id": "885753ef-ffbb-4257-8bbc-257809f069a7",
   "metadata": {},
   "outputs": [],
   "source": [
    "my_list.remove(30)          \n",
    "popped_element = my_list.pop()  \n",
    "my_list.clear()    "
   ]
  },
  {
   "cell_type": "code",
   "execution_count": 17,
   "id": "049147df-9ed9-4d9b-bf15-a1624d9aaa2d",
   "metadata": {},
   "outputs": [
    {
     "name": "stdout",
     "output_type": "stream",
     "text": [
      "After Removing Elements: []\n"
     ]
    }
   ],
   "source": [
    "print(\"After Removing Elements:\", my_list)"
   ]
  }
 ],
 "metadata": {
  "kernelspec": {
   "display_name": "Python 3 (ipykernel)",
   "language": "python",
   "name": "python3"
  },
  "language_info": {
   "codemirror_mode": {
    "name": "ipython",
    "version": 3
   },
   "file_extension": ".py",
   "mimetype": "text/x-python",
   "name": "python",
   "nbconvert_exporter": "python",
   "pygments_lexer": "ipython3",
   "version": "3.12.4"
  }
 },
 "nbformat": 4,
 "nbformat_minor": 5
}
