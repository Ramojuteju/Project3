{
 "cells": [
  {
   "cell_type": "raw",
   "id": "032701b3-4de6-4751-af27-b685557e56b1",
   "metadata": {},
   "source": [
    "--- Built-In-Methods"
   ]
  },
  {
   "cell_type": "raw",
   "id": "191a2ad5-ea4f-4782-9f4a-116e041923c3",
   "metadata": {},
   "source": [
    "--- Lists"
   ]
  },
  {
   "cell_type": "code",
   "execution_count": 1,
   "id": "489fcee8-663e-4450-8e1e-bfec56b61db0",
   "metadata": {},
   "outputs": [],
   "source": [
    "my_list = [3, 1, 4, 1, 5]\n",
    "my_list.append(9)\n",
    "my_list.sort()"
   ]
  },
  {
   "cell_type": "code",
   "execution_count": 3,
   "id": "38269b95-6140-4c40-a4d8-3d009724e3e6",
   "metadata": {},
   "outputs": [
    {
     "name": "stdout",
     "output_type": "stream",
     "text": [
      "[1, 1, 3, 4, 5, 9]\n"
     ]
    }
   ],
   "source": [
    "print(my_list)"
   ]
  },
  {
   "cell_type": "raw",
   "id": "73fba74a-e06f-4e82-a2b3-73156c371775",
   "metadata": {},
   "source": [
    "--- Tuples"
   ]
  },
  {
   "cell_type": "code",
   "execution_count": 5,
   "id": "87d77f19-df4a-4ceb-874d-eda254dd332d",
   "metadata": {},
   "outputs": [
    {
     "name": "stdout",
     "output_type": "stream",
     "text": [
      "2\n",
      "2\n"
     ]
    }
   ],
   "source": [
    "my_tuple = (1, 2, 3, 2, 1)\n",
    "print(my_tuple.count(2))  \n",
    "print(my_tuple.index(3))   "
   ]
  },
  {
   "cell_type": "raw",
   "id": "a4faa983-51ab-44c5-9fea-46dfd2211dee",
   "metadata": {},
   "source": [
    "--- Sets"
   ]
  },
  {
   "cell_type": "code",
   "execution_count": 7,
   "id": "ec5ed2cc-7f3f-4fda-b3d2-4a716f9b02ec",
   "metadata": {},
   "outputs": [
    {
     "name": "stdout",
     "output_type": "stream",
     "text": [
      "{1, 2, 3, 4}\n",
      "{1, 3, 4}\n"
     ]
    }
   ],
   "source": [
    "my_set = {1, 2, 3}\n",
    "my_set.add(4)\n",
    "\n",
    "print(my_set)  \n",
    "\n",
    "my_set.remove(2)\n",
    "\n",
    "print(my_set) "
   ]
  },
  {
   "cell_type": "raw",
   "id": "22bf9e59-85d4-4097-bbbe-e376d144d24c",
   "metadata": {},
   "source": [
    "--- Dictionaries"
   ]
  },
  {
   "cell_type": "code",
   "execution_count": 9,
   "id": "f67a363b-7ca0-4a63-b5ba-fdca0ab79a00",
   "metadata": {},
   "outputs": [],
   "source": [
    "my_dict = {'name': 'Alice', 'age': 30}\n",
    "my_dict['city'] = 'New York' "
   ]
  },
  {
   "cell_type": "code",
   "execution_count": 11,
   "id": "f0ff5bd5-9bf7-4a7c-9dae-46cf41928cc5",
   "metadata": {},
   "outputs": [
    {
     "name": "stdout",
     "output_type": "stream",
     "text": [
      "Alice\n",
      "dict_keys(['name', 'age', 'city'])\n"
     ]
    }
   ],
   "source": [
    "print(my_dict.get('name'))    \n",
    "print(my_dict.keys())"
   ]
  }
 ],
 "metadata": {
  "kernelspec": {
   "display_name": "Python 3 (ipykernel)",
   "language": "python",
   "name": "python3"
  },
  "language_info": {
   "codemirror_mode": {
    "name": "ipython",
    "version": 3
   },
   "file_extension": ".py",
   "mimetype": "text/x-python",
   "name": "python",
   "nbconvert_exporter": "python",
   "pygments_lexer": "ipython3",
   "version": "3.12.4"
  }
 },
 "nbformat": 4,
 "nbformat_minor": 5
}
