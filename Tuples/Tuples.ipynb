{
 "cells": [
  {
   "cell_type": "raw",
   "id": "3f0a7e50-dbdf-49a7-8652-1a7e41b1a43e",
   "metadata": {},
   "source": [
    "--- Lists"
   ]
  },
  {
   "cell_type": "raw",
   "id": "232e2323-1d46-47e5-9fc9-b5ddea1bb639",
   "metadata": {},
   "source": [
    "--- Creating Lists"
   ]
  },
  {
   "cell_type": "code",
   "execution_count": 29,
   "id": "c795cf9c-b2c6-42d3-a056-2ef93a376f56",
   "metadata": {},
   "outputs": [],
   "source": [
    "my_list = [1, 2, 3, 4, 5]"
   ]
  },
  {
   "cell_type": "code",
   "execution_count": 31,
   "id": "7e5f4dce-d7e9-41aa-b2db-7275a557fb79",
   "metadata": {},
   "outputs": [
    {
     "name": "stdout",
     "output_type": "stream",
     "text": [
      "Original List: [1, 2, 3, 4, 5]\n"
     ]
    }
   ],
   "source": [
    "print(\"Original List:\", my_list)"
   ]
  },
  {
   "cell_type": "raw",
   "id": "3c9da05b-fa5a-480f-8932-dd13400922d1",
   "metadata": {},
   "source": [
    "--- Manipulating Lists"
   ]
  },
  {
   "cell_type": "code",
   "execution_count": 33,
   "id": "baa79adc-872f-4ea8-b056-59ea2dbc1da9",
   "metadata": {},
   "outputs": [
    {
     "name": "stdout",
     "output_type": "stream",
     "text": [
      "After Append: [1, 2, 3, 4, 5, 6]\n",
      "After Insert: [0, 1, 2, 3, 4, 5, 6]\n",
      "After Remove: [0, 1, 2, 4, 5, 6]\n",
      "Popped Element: 6\n",
      "After Pop: [0, 1, 2, 4, 5]\n",
      "Sliced List: [1, 2, 4]\n",
      "Sorted List: [0, 1, 2, 4, 5]\n"
     ]
    }
   ],
   "source": [
    "my_list.append(6)                \n",
    "print(\"After Append:\", my_list)\n",
    "\n",
    "my_list.insert(0, 0)              \n",
    "print(\"After Insert:\", my_list)\n",
    "\n",
    "my_list.remove(3)                 \n",
    "print(\"After Remove:\", my_list)\n",
    "\n",
    "popped_element = my_list.pop()     \n",
    "print(\"Popped Element:\", popped_element)\n",
    "print(\"After Pop:\", my_list)\n",
    "\n",
    "sliced_list = my_list[1:4]        \n",
    "print(\"Sliced List:\", sliced_list)\n",
    "\n",
    "my_list.sort()\n",
    "print(\"Sorted List:\", my_list)"
   ]
  },
  {
   "cell_type": "raw",
   "id": "c2b5c258-6128-429e-8097-4085a232fd82",
   "metadata": {},
   "source": [
    "--- Creating Tuples"
   ]
  },
  {
   "cell_type": "code",
   "execution_count": null,
   "id": "411a6475-d435-4229-9c72-2a32d90be940",
   "metadata": {},
   "outputs": [],
   "source": []
  },
  {
   "cell_type": "code",
   "execution_count": 36,
   "id": "0445bbfb-eb2c-4476-a888-344531ea9b27",
   "metadata": {},
   "outputs": [],
   "source": [
    "my_tuple = (1, 2, 3, 4, 5)"
   ]
  },
  {
   "cell_type": "code",
   "execution_count": null,
   "id": "8ad00674-13a5-4128-8dd1-b602f7b9be93",
   "metadata": {},
   "outputs": [],
   "source": []
  },
  {
   "cell_type": "code",
   "execution_count": 39,
   "id": "c71161a3-75b2-43ec-b5ce-9ed75ffec9c0",
   "metadata": {},
   "outputs": [
    {
     "name": "stdout",
     "output_type": "stream",
     "text": [
      "Original Tuple: (1, 2, 3, 4, 5)\n"
     ]
    }
   ],
   "source": [
    "print(\"Original Tuple:\", my_tuple)"
   ]
  },
  {
   "cell_type": "raw",
   "id": "9fd21d89-852a-43aa-9b68-7e2f3f24fa48",
   "metadata": {},
   "source": [
    "--- Manipulating Tuples"
   ]
  },
  {
   "cell_type": "code",
   "execution_count": 41,
   "id": "53d6eccb-a739-463d-8354-0fff3f20d811",
   "metadata": {},
   "outputs": [
    {
     "name": "stdout",
     "output_type": "stream",
     "text": [
      "Modified Tuple: (1, 2, 3, 4, 5, 6)\n",
      "First Element: 1\n"
     ]
    }
   ],
   "source": [
    "temp_list = list(my_tuple)\n",
    "\n",
    "temp_list.append(6)\n",
    "my_tuple = tuple(temp_list)       \n",
    "print(\"Modified Tuple:\", my_tuple)\n",
    "\n",
    "first_element = my_tuple[0]\n",
    "print(\"First Element:\", first_element)"
   ]
  },
  {
   "cell_type": "raw",
   "id": "4df305ba-da45-4555-802b-8ce845dfde16",
   "metadata": {},
   "source": [
    "--- Sets"
   ]
  },
  {
   "cell_type": "raw",
   "id": "59612bfc-1903-4471-99b0-63b15da9a2e3",
   "metadata": {},
   "source": [
    "--- Creating Sets"
   ]
  },
  {
   "cell_type": "code",
   "execution_count": 43,
   "id": "23fff952-4a75-4711-ae60-4452b1f34a1e",
   "metadata": {},
   "outputs": [],
   "source": [
    "my_set = {1, 2, 3, 4, 5}"
   ]
  },
  {
   "cell_type": "code",
   "execution_count": 45,
   "id": "f6032900-ff60-4744-b5fb-bf8f276c34c1",
   "metadata": {},
   "outputs": [
    {
     "name": "stdout",
     "output_type": "stream",
     "text": [
      "Original Set: {1, 2, 3, 4, 5}\n"
     ]
    }
   ],
   "source": [
    "print(\"Original Set:\", my_set)"
   ]
  },
  {
   "cell_type": "raw",
   "id": "57592e14-441a-4d36-9149-3e0be3db87ae",
   "metadata": {},
   "source": [
    "--- Manipulating Sets"
   ]
  },
  {
   "cell_type": "code",
   "execution_count": 47,
   "id": "725926e0-3d99-4549-9298-b13ae5c27197",
   "metadata": {},
   "outputs": [
    {
     "name": "stdout",
     "output_type": "stream",
     "text": [
      "After Add: {1, 2, 3, 4, 5, 6}\n",
      "After Remove: {1, 2, 4, 5, 6}\n",
      "After Discard: {1, 4, 5, 6}\n",
      "Union: {1, 4, 5, 6, 7}\n",
      "Intersection: {4, 5, 6}\n",
      "Difference: {1}\n"
     ]
    }
   ],
   "source": [
    "my_set.add(6)\n",
    "print(\"After Add:\", my_set)\n",
    "\n",
    "my_set.remove(3)                 \n",
    "print(\"After Remove:\", my_set)\n",
    "\n",
    "my_set.discard(2)                \n",
    "print(\"After Discard:\", my_set)\n",
    "\n",
    "another_set = {4, 5, 6, 7}\n",
    "union_set = my_set.union(another_set)     \n",
    "print(\"Union:\", union_set)\n",
    "\n",
    "intersection_set = my_set.intersection(another_set)  \n",
    "print(\"Intersection:\", intersection_set)\n",
    "\n",
    "difference_set = my_set.difference(another_set)      \n",
    "print(\"Difference:\", difference_set)"
   ]
  },
  {
   "cell_type": "code",
   "execution_count": null,
   "id": "fa3408a0-225d-42d2-8f02-8149211773db",
   "metadata": {},
   "outputs": [],
   "source": []
  },
  {
   "cell_type": "raw",
   "id": "e416b38b-c968-4006-a7a2-e209c3786fd4",
   "metadata": {},
   "source": [
    "--- Dictionaries"
   ]
  },
  {
   "cell_type": "code",
   "execution_count": null,
   "id": "87d237d3-e8bb-43db-8efa-011389191dc2",
   "metadata": {},
   "outputs": [],
   "source": []
  },
  {
   "cell_type": "code",
   "execution_count": null,
   "id": "128c3e38-2fdb-48e6-bfbb-8fc67d354623",
   "metadata": {},
   "outputs": [],
   "source": []
  },
  {
   "cell_type": "code",
   "execution_count": null,
   "id": "9c3a9e8d-a2f8-4d01-993d-7c279196859d",
   "metadata": {},
   "outputs": [],
   "source": []
  },
  {
   "cell_type": "code",
   "execution_count": null,
   "id": "d82f4676-eb87-4913-939d-3867be4d16ff",
   "metadata": {},
   "outputs": [],
   "source": []
  },
  {
   "cell_type": "code",
   "execution_count": 53,
   "id": "70ca0a38-84f6-4b91-bbba-099407c856b8",
   "metadata": {},
   "outputs": [
    {
     "name": "stdout",
     "output_type": "stream",
     "text": [
      "Original Dictionary: {'name': 'Alice', 'age': 30, 'city': 'New York'}\n"
     ]
    }
   ],
   "source": [
    "my_dict = {\n",
    "    'name': 'Alice',\n",
    "    'age': 30,\n",
    "    'city': 'New York'\n",
    "}\n",
    "print(\"Original Dictionary:\", my_dict)"
   ]
  },
  {
   "cell_type": "code",
   "execution_count": null,
   "id": "354b651f-76b5-48cf-8dcf-1ca3709f1ad2",
   "metadata": {},
   "outputs": [],
   "source": []
  },
  {
   "cell_type": "raw",
   "id": "f0a849ae-a8e4-4dc6-b071-2bd2479a6615",
   "metadata": {},
   "source": [
    "--- Manipulating Dictionaries"
   ]
  },
  {
   "cell_type": "code",
   "execution_count": 21,
   "id": "50076ce7-4169-4a4f-9d4b-8f754ad86329",
   "metadata": {},
   "outputs": [
    {
     "name": "stdout",
     "output_type": "stream",
     "text": [
      "After Adding Email: {'name': 'Alice', 'age': 30, 'city': 'New York', 'email': 'alice@example.com'}\n",
      "After Updating Age: {'name': 'Alice', 'age': 31, 'city': 'New York', 'email': 'alice@example.com'}\n",
      "After Deleting City: {'name': 'Alice', 'age': 31, 'email': 'alice@example.com'}\n",
      "Name: Alice\n",
      "name: Alice\n",
      "age: 31\n",
      "email: alice@example.com\n"
     ]
    }
   ],
   "source": [
    "my_dict['email'] = 'alice@example.com'\n",
    "print(\"After Adding Email:\", my_dict)\n",
    "\n",
    "my_dict['age'] = 31\n",
    "print(\"After Updating Age:\", my_dict)\n",
    "\n",
    "del my_dict['city']\n",
    "print(\"After Deleting City:\", my_dict)\n",
    "\n",
    "name = my_dict['name']\n",
    "print(\"Name:\", name)\n",
    "\n",
    "for key, value in my_dict.items():\n",
    "    print(f\"{key}: {value}\")"
   ]
  },
  {
   "cell_type": "code",
   "execution_count": null,
   "id": "ebb60232-03d4-415d-80be-ce81e89a3fbc",
   "metadata": {},
   "outputs": [],
   "source": []
  }
 ],
 "metadata": {
  "kernelspec": {
   "display_name": "Python 3 (ipykernel)",
   "language": "python",
   "name": "python3"
  },
  "language_info": {
   "codemirror_mode": {
    "name": "ipython",
    "version": 3
   },
   "file_extension": ".py",
   "mimetype": "text/x-python",
   "name": "python",
   "nbconvert_exporter": "python",
   "pygments_lexer": "ipython3",
   "version": "3.12.4"
  }
 },
 "nbformat": 4,
 "nbformat_minor": 5
}
