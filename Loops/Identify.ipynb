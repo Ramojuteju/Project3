{
 "cells": [
  {
   "cell_type": "raw",
   "id": "d658e092-5dd1-4f6e-91b6-3823c536ab4d",
   "metadata": {},
   "source": [
    "--- While Loop"
   ]
  },
  {
   "cell_type": "code",
   "execution_count": 1,
   "id": "41629cd6-4278-460a-82e3-8a6c8e39ad3b",
   "metadata": {},
   "outputs": [
    {
     "name": "stdout",
     "output_type": "stream",
     "text": [
      "1\n",
      "2\n",
      "3\n",
      "4\n",
      "5\n"
     ]
    }
   ],
   "source": [
    "count = 1\n",
    "\n",
    "while count <= 5:\n",
    "    print(count)\n",
    "    count += 1 "
   ]
  },
  {
   "cell_type": "raw",
   "id": "7a77be7b-31da-4b0c-bbfc-0a765922e048",
   "metadata": {},
   "source": [
    "--- Idefinite Iteration Until a Condition is Met"
   ]
  },
  {
   "cell_type": "code",
   "execution_count": 5,
   "id": "32a58415-2d78-4af7-adb6-94e7495855cd",
   "metadata": {},
   "outputs": [
    {
     "name": "stdin",
     "output_type": "stream",
     "text": [
      "Type 'exit' to stop:  exit\n"
     ]
    },
    {
     "name": "stdout",
     "output_type": "stream",
     "text": [
      "You typed: exit\n"
     ]
    }
   ],
   "source": [
    "user_input = \"\"\n",
    "\n",
    "while user_input.lower() != \"exit\":\n",
    "    user_input = input(\"Type 'exit' to stop: \")\n",
    "    print(f\"You typed: {user_input}\")"
   ]
  },
  {
   "cell_type": "raw",
   "id": "8e8ded3d-db5f-410c-9d07-65ddd24452fa",
   "metadata": {},
   "source": [
    "--- Break to Exit"
   ]
  },
  {
   "cell_type": "code",
   "execution_count": 7,
   "id": "0ac37124-244a-4706-8b45-a6fc74fd3ba7",
   "metadata": {},
   "outputs": [
    {
     "name": "stdout",
     "output_type": "stream",
     "text": [
      "1\n",
      "2\n",
      "3\n",
      "4\n",
      "5\n"
     ]
    }
   ],
   "source": [
    "count = 0\n",
    "\n",
    "while True:  \n",
    "    count += 1\n",
    "    print(count)\n",
    "    \n",
    "    if count >= 5:  \n",
    "        break"
   ]
  },
  {
   "cell_type": "raw",
   "id": "1a237c9d-efe8-41c6-98bd-3ee478df5135",
   "metadata": {},
   "source": [
    "--- Using Continue to Skip Iterations"
   ]
  },
  {
   "cell_type": "code",
   "execution_count": 5,
   "id": "42a46524-95b3-4514-ad2b-6a16730d1668",
   "metadata": {},
   "outputs": [
    {
     "name": "stdout",
     "output_type": "stream",
     "text": [
      "1\n",
      "3\n",
      "5\n",
      "7\n",
      "9\n"
     ]
    }
   ],
   "source": [
    "count = 0\n",
    "\n",
    "while count < 10:\n",
    "    count += 1\n",
    "    if count % 2 == 0:  \n",
    "        continue\n",
    "    print(count)"
   ]
  },
  {
   "cell_type": "code",
   "execution_count": null,
   "id": "727536a5-d4f5-4df4-9539-6872fc595c47",
   "metadata": {},
   "outputs": [],
   "source": []
  }
 ],
 "metadata": {
  "kernelspec": {
   "display_name": "Python 3 (ipykernel)",
   "language": "python",
   "name": "python3"
  },
  "language_info": {
   "codemirror_mode": {
    "name": "ipython",
    "version": 3
   },
   "file_extension": ".py",
   "mimetype": "text/x-python",
   "name": "python",
   "nbconvert_exporter": "python",
   "pygments_lexer": "ipython3",
   "version": "3.12.4"
  }
 },
 "nbformat": 4,
 "nbformat_minor": 5
}
