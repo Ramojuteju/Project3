{
 "cells": [
  {
   "cell_type": "raw",
   "id": "a827eb0c-9101-488c-bb01-24f609e8e788",
   "metadata": {},
   "source": [
    "--- For Loop"
   ]
  },
  {
   "cell_type": "code",
   "execution_count": 1,
   "id": "5f00baf2-feb2-480e-92a6-edded522b132",
   "metadata": {},
   "outputs": [
    {
     "name": "stdout",
     "output_type": "stream",
     "text": [
      "1 * 1 = 1\n",
      "1 * 2 = 2\n",
      "1 * 3 = 3\n",
      "1 * 4 = 4\n",
      "1 * 5 = 5\n",
      "\n",
      "2 * 1 = 2\n",
      "2 * 2 = 4\n",
      "2 * 3 = 6\n",
      "2 * 4 = 8\n",
      "2 * 5 = 10\n",
      "\n",
      "3 * 1 = 3\n",
      "3 * 2 = 6\n",
      "3 * 3 = 9\n",
      "3 * 4 = 12\n",
      "3 * 5 = 15\n",
      "\n",
      "4 * 1 = 4\n",
      "4 * 2 = 8\n",
      "4 * 3 = 12\n",
      "4 * 4 = 16\n",
      "4 * 5 = 20\n",
      "\n",
      "5 * 1 = 5\n",
      "5 * 2 = 10\n",
      "5 * 3 = 15\n",
      "5 * 4 = 20\n",
      "5 * 5 = 25\n",
      "\n"
     ]
    }
   ],
   "source": [
    "for i in range(1, 6):  \n",
    "    for j in range(1, 6):  \n",
    "        product = i * j\n",
    "        print(f\"{i} * {j} = {product}\")\n",
    "    print()"
   ]
  },
  {
   "cell_type": "raw",
   "id": "a3913644-67e4-446f-b004-e8fcb5c0da9b",
   "metadata": {},
   "source": [
    "--- While Loop"
   ]
  },
  {
   "cell_type": "code",
   "execution_count": 3,
   "id": "17f8f392-2fad-4ccd-8082-074f08c4ec0e",
   "metadata": {},
   "outputs": [
    {
     "name": "stdout",
     "output_type": "stream",
     "text": [
      "* \n",
      "* * \n",
      "* * * \n",
      "* * * * \n",
      "* * * * * \n"
     ]
    }
   ],
   "source": [
    "rows = 5\n",
    "current_row = 1\n",
    "\n",
    "while current_row <= rows:\n",
    "    current_col = 1\n",
    "    while current_col <= current_row:\n",
    "        print(\"*\", end=\" \")  \n",
    "        current_col += 1\n",
    "    print()  \n",
    "    current_row += 1"
   ]
  },
  {
   "cell_type": "raw",
   "id": "7d3d8859-8f0a-4507-b9cc-6230ac81c514",
   "metadata": {},
   "source": [
    "--- Iterating Over a List of Lists"
   ]
  },
  {
   "cell_type": "code",
   "execution_count": 5,
   "id": "dec4f7d2-d65e-40ab-bff5-a93075b0f991",
   "metadata": {},
   "outputs": [
    {
     "name": "stdout",
     "output_type": "stream",
     "text": [
      "1 2 3 \n",
      "4 5 6 \n",
      "7 8 9 \n"
     ]
    }
   ],
   "source": [
    "matrix = [\n",
    "    [1, 2, 3],\n",
    "    [4, 5, 6],\n",
    "    [7, 8, 9]\n",
    "]\n",
    "\n",
    "for row in matrix:\n",
    "    for element in row:\n",
    "        print(element, end=\" \")\n",
    "    print()  "
   ]
  },
  {
   "cell_type": "raw",
   "id": "3793df41-f108-44b1-bfe1-d87e8e58c1ea",
   "metadata": {},
   "source": [
    "--- Creating a number Grid"
   ]
  },
  {
   "cell_type": "code",
   "execution_count": 7,
   "id": "b8f894bf-3252-4080-8065-4e6f144444f1",
   "metadata": {},
   "outputs": [
    {
     "name": "stdout",
     "output_type": "stream",
     "text": [
      "(0, 0) (0, 1) (0, 2) \n",
      "(1, 0) (1, 1) (1, 2) \n",
      "(2, 0) (2, 1) (2, 2) \n"
     ]
    }
   ],
   "source": [
    "rows = 3\n",
    "cols = 3\n",
    "\n",
    "for i in range(rows):\n",
    "    for j in range(cols):\n",
    "        print(f\"({i}, {j})\", end=\" \")\n",
    "    print()"
   ]
  }
 ],
 "metadata": {
  "kernelspec": {
   "display_name": "Python 3 (ipykernel)",
   "language": "python",
   "name": "python3"
  },
  "language_info": {
   "codemirror_mode": {
    "name": "ipython",
    "version": 3
   },
   "file_extension": ".py",
   "mimetype": "text/x-python",
   "name": "python",
   "nbconvert_exporter": "python",
   "pygments_lexer": "ipython3",
   "version": "3.12.4"
  }
 },
 "nbformat": 4,
 "nbformat_minor": 5
}
