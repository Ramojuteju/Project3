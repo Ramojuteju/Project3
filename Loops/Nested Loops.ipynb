{
 "cells": [
  {
   "cell_type": "code",
   "execution_count": null,
   "id": "1032aab9-071b-4e08-840e-e2dab6c70c84",
   "metadata": {},
   "outputs": [],
   "source": [
    "# --- Nested For Loop"
   ]
  },
  {
   "cell_type": "code",
   "execution_count": 1,
   "id": "5f00baf2-feb2-480e-92a6-edded522b132",
   "metadata": {},
   "outputs": [
    {
     "name": "stdout",
     "output_type": "stream",
     "text": [
      "1 * 1 = 1\n",
      "1 * 2 = 2\n",
      "1 * 3 = 3\n",
      "1 * 4 = 4\n",
      "1 * 5 = 5\n",
      "\n",
      "2 * 1 = 2\n",
      "2 * 2 = 4\n",
      "2 * 3 = 6\n",
      "2 * 4 = 8\n",
      "2 * 5 = 10\n",
      "\n",
      "3 * 1 = 3\n",
      "3 * 2 = 6\n",
      "3 * 3 = 9\n",
      "3 * 4 = 12\n",
      "3 * 5 = 15\n",
      "\n",
      "4 * 1 = 4\n",
      "4 * 2 = 8\n",
      "4 * 3 = 12\n",
      "4 * 4 = 16\n",
      "4 * 5 = 20\n",
      "\n",
      "5 * 1 = 5\n",
      "5 * 2 = 10\n",
      "5 * 3 = 15\n",
      "5 * 4 = 20\n",
      "5 * 5 = 25\n",
      "\n"
     ]
    }
   ],
   "source": [
    "for i in range(1, 6):  # Outer loop for the first number\n",
    "    for j in range(1, 6):  # Inner loop for the second number\n",
    "        product = i * j\n",
    "        print(f\"{i} * {j} = {product}\")\n",
    "    print()"
   ]
  },
  {
   "cell_type": "code",
   "execution_count": 7,
   "id": "38d763f8-39c8-4e19-b1f8-4aa94b71405d",
   "metadata": {},
   "outputs": [],
   "source": [
    "# --- Nested While Loop"
   ]
  },
  {
   "cell_type": "code",
   "execution_count": 9,
   "id": "17f8f392-2fad-4ccd-8082-074f08c4ec0e",
   "metadata": {},
   "outputs": [
    {
     "name": "stdout",
     "output_type": "stream",
     "text": [
      "Countdown for row 3:\n",
      "3\n",
      "2\n",
      "1\n",
      "\n",
      "Countdown for row 2:\n",
      "3\n",
      "2\n",
      "1\n",
      "\n",
      "Countdown for row 1:\n",
      "3\n",
      "2\n",
      "1\n",
      "\n"
     ]
    }
   ],
   "source": [
    "rows = 3\n",
    "while rows > 0:\n",
    "    print(f\"Countdown for row {rows}:\")\n",
    "    countdown = 3\n",
    "    while countdown > 0:\n",
    "        print(countdown)\n",
    "        countdown -= 1\n",
    "    rows -= 1\n",
    "    print()"
   ]
  },
  {
   "cell_type": "code",
   "execution_count": null,
   "id": "432ab020-9025-41ea-988e-a0254cbca398",
   "metadata": {},
   "outputs": [],
   "source": [
    "# --- Nested Loop with conditional Statement"
   ]
  },
  {
   "cell_type": "code",
   "execution_count": 11,
   "id": "1c9a0b26-2b50-44b0-b7a5-897826a41b61",
   "metadata": {},
   "outputs": [
    {
     "name": "stdout",
     "output_type": "stream",
     "text": [
      "* \n",
      "* * \n",
      "* * * \n",
      "* * * * \n",
      "* * * * * \n"
     ]
    }
   ],
   "source": [
    "rows = 5\n",
    "for i in range(1, rows + 1):\n",
    "    for j in range(i):\n",
    "        print('*', end=' ')\n",
    "    print()  # Move to the next line after each row"
   ]
  },
  {
   "cell_type": "code",
   "execution_count": 13,
   "id": "94b99219-9f07-41f3-a535-e2a2c048cd51",
   "metadata": {},
   "outputs": [],
   "source": [
    "# --- Iterating Over a List of Lists"
   ]
  },
  {
   "cell_type": "code",
   "execution_count": 15,
   "id": "dec4f7d2-d65e-40ab-bff5-a93075b0f991",
   "metadata": {},
   "outputs": [
    {
     "name": "stdout",
     "output_type": "stream",
     "text": [
      "1 2 3 \n",
      "4 5 6 \n",
      "7 8 9 \n"
     ]
    }
   ],
   "source": [
    "matrix = [\n",
    "    [1, 2, 3],\n",
    "    [4, 5, 6],\n",
    "    [7, 8, 9]\n",
    "]\n",
    "\n",
    "for row in matrix:\n",
    "    for element in row:\n",
    "        print(element, end=\" \")\n",
    "    print()  "
   ]
  },
  {
   "cell_type": "code",
   "execution_count": 17,
   "id": "abfea5b8-5687-42b7-b1f0-6d07a37ccdcb",
   "metadata": {},
   "outputs": [],
   "source": [
    "# --- Creating a number Grid"
   ]
  },
  {
   "cell_type": "code",
   "execution_count": 19,
   "id": "b8f894bf-3252-4080-8065-4e6f144444f1",
   "metadata": {},
   "outputs": [
    {
     "name": "stdout",
     "output_type": "stream",
     "text": [
      "(0, 0) (0, 1) (0, 2) \n",
      "(1, 0) (1, 1) (1, 2) \n",
      "(2, 0) (2, 1) (2, 2) \n"
     ]
    }
   ],
   "source": [
    "rows = 3\n",
    "cols = 3\n",
    "\n",
    "for i in range(rows):\n",
    "    for j in range(cols):\n",
    "        print(f\"({i}, {j})\", end=\" \")\n",
    "    print()"
   ]
  }
 ],
 "metadata": {
  "kernelspec": {
   "display_name": "Python 3 (ipykernel)",
   "language": "python",
   "name": "python3"
  },
  "language_info": {
   "codemirror_mode": {
    "name": "ipython",
    "version": 3
   },
   "file_extension": ".py",
   "mimetype": "text/x-python",
   "name": "python",
   "nbconvert_exporter": "python",
   "pygments_lexer": "ipython3",
   "version": "3.12.4"
  }
 },
 "nbformat": 4,
 "nbformat_minor": 5
}
