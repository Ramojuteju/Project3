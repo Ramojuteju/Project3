{
 "cells": [
  {
   "cell_type": "code",
   "execution_count": null,
   "id": "b38a66d7-53a5-4d1f-a027-3b248d728ad0",
   "metadata": {},
   "outputs": [],
   "source": [
    "# --- Iterating Over Lists"
   ]
  },
  {
   "cell_type": "code",
   "execution_count": 1,
   "id": "96145600-5d9b-46ea-80aa-69d14c24180b",
   "metadata": {},
   "outputs": [
    {
     "name": "stdout",
     "output_type": "stream",
     "text": [
      "10\n",
      "20\n",
      "30\n",
      "40\n",
      "50\n"
     ]
    }
   ],
   "source": [
    "my_list = [10, 20, 30, 40, 50]\n",
    "\n",
    "for element in my_list:\n",
    "    print(element)"
   ]
  },
  {
   "cell_type": "code",
   "execution_count": null,
   "id": "c6a0d027-0077-4153-84ab-224d44d0e588",
   "metadata": {},
   "outputs": [],
   "source": [
    "# --- Iterating Over Tuples"
   ]
  },
  {
   "cell_type": "code",
   "execution_count": 3,
   "id": "cdcda7a9-1c90-4bb1-8e72-2016bacc7154",
   "metadata": {},
   "outputs": [
    {
     "name": "stdout",
     "output_type": "stream",
     "text": [
      "1\n",
      "2\n",
      "3\n",
      "4\n",
      "5\n"
     ]
    }
   ],
   "source": [
    "my_tuple = (1, 2, 3, 4, 5)\n",
    "\n",
    "for element in my_tuple:\n",
    "    print(element)"
   ]
  },
  {
   "cell_type": "code",
   "execution_count": null,
   "id": "f422758e-ec3b-4aa4-999e-d4216e80e25f",
   "metadata": {},
   "outputs": [],
   "source": [
    "# --- Iterating Over Sets"
   ]
  },
  {
   "cell_type": "code",
   "execution_count": 5,
   "id": "2b5a6934-f856-4cff-8992-886ec393c213",
   "metadata": {},
   "outputs": [
    {
     "name": "stdout",
     "output_type": "stream",
     "text": [
      "10\n",
      "20\n",
      "30\n"
     ]
    }
   ],
   "source": [
    "my_set = {10, 20, 30}\n",
    "\n",
    "for element in my_set:\n",
    "    print(element)"
   ]
  },
  {
   "cell_type": "code",
   "execution_count": null,
   "id": "e019a9a2-c16c-4a15-bae9-e936743c03e4",
   "metadata": {},
   "outputs": [],
   "source": [
    "# --- Iterating Over Dictionaries"
   ]
  },
  {
   "cell_type": "code",
   "execution_count": null,
   "id": "a136fd68-4345-4d46-993d-bf844c53f657",
   "metadata": {},
   "outputs": [],
   "source": [
    "# --- Iterating Over Keys"
   ]
  },
  {
   "cell_type": "code",
   "execution_count": 7,
   "id": "74efda91-9c63-4c8f-a141-78087702c981",
   "metadata": {},
   "outputs": [
    {
     "name": "stdout",
     "output_type": "stream",
     "text": [
      "name\n",
      "age\n",
      "city\n"
     ]
    }
   ],
   "source": [
    "my_dict = {'name': 'Alice', 'age': 30, 'city': 'New York'}\n",
    "\n",
    "for key in my_dict:\n",
    "    print(key)"
   ]
  },
  {
   "cell_type": "code",
   "execution_count": null,
   "id": "e4ba2570-64b9-487a-bee1-be3f99356ecc",
   "metadata": {},
   "outputs": [],
   "source": [
    "# --- Iterating Over Values"
   ]
  },
  {
   "cell_type": "code",
   "execution_count": 9,
   "id": "0eeeb7f0-1414-49a0-a349-965e139e6bf5",
   "metadata": {},
   "outputs": [
    {
     "name": "stdout",
     "output_type": "stream",
     "text": [
      "Alice\n",
      "30\n",
      "New York\n"
     ]
    }
   ],
   "source": [
    "for value in my_dict.values():\n",
    "    print(value)"
   ]
  },
  {
   "cell_type": "code",
   "execution_count": null,
   "id": "9f01315d-a89d-4be3-9967-daebd07d703a",
   "metadata": {},
   "outputs": [],
   "source": []
  }
 ],
 "metadata": {
  "kernelspec": {
   "display_name": "Python 3 (ipykernel)",
   "language": "python",
   "name": "python3"
  },
  "language_info": {
   "codemirror_mode": {
    "name": "ipython",
    "version": 3
   },
   "file_extension": ".py",
   "mimetype": "text/x-python",
   "name": "python",
   "nbconvert_exporter": "python",
   "pygments_lexer": "ipython3",
   "version": "3.12.4"
  }
 },
 "nbformat": 4,
 "nbformat_minor": 5
}
