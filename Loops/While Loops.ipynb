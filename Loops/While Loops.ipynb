{
 "cells": [
  {
   "cell_type": "code",
   "execution_count": null,
   "id": "e4ecad49-097a-46c0-84b1-9e446d8118c6",
   "metadata": {},
   "outputs": [],
   "source": [
    "# --- While Loop"
   ]
  },
  {
   "cell_type": "code",
   "execution_count": 1,
   "id": "41629cd6-4278-460a-82e3-8a6c8e39ad3b",
   "metadata": {},
   "outputs": [
    {
     "name": "stdout",
     "output_type": "stream",
     "text": [
      "1\n",
      "2\n",
      "3\n",
      "4\n",
      "5\n"
     ]
    }
   ],
   "source": [
    "count = 1\n",
    "\n",
    "while count <= 5:\n",
    "    print(count)\n",
    "    count += 1 # Increment count"
   ]
  },
  {
   "cell_type": "code",
   "execution_count": 3,
   "id": "812f6679-d795-4183-a62a-13f278a5f10f",
   "metadata": {},
   "outputs": [],
   "source": [
    "# --- Idefinite Iteration Until a Condition is Met"
   ]
  },
  {
   "cell_type": "code",
   "execution_count": 7,
   "id": "32a58415-2d78-4af7-adb6-94e7495855cd",
   "metadata": {},
   "outputs": [
    {
     "name": "stdin",
     "output_type": "stream",
     "text": [
      "Type 'exit' to stop:  exit\n"
     ]
    },
    {
     "name": "stdout",
     "output_type": "stream",
     "text": [
      "You typed: exit\n"
     ]
    }
   ],
   "source": [
    "user_input = \"\"\n",
    "\n",
    "while user_input.lower() != \"exit\":\n",
    "    user_input = input(\"Type 'exit' to stop: \")\n",
    "    print(f\"You typed: {user_input}\")"
   ]
  },
  {
   "cell_type": "code",
   "execution_count": null,
   "id": "14212d2b-ea27-4051-b6c1-fe1eb3a0d36f",
   "metadata": {},
   "outputs": [],
   "source": [
    "# --- Break to Exit"
   ]
  },
  {
   "cell_type": "code",
   "execution_count": 9,
   "id": "0ac37124-244a-4706-8b45-a6fc74fd3ba7",
   "metadata": {},
   "outputs": [
    {
     "name": "stdout",
     "output_type": "stream",
     "text": [
      "1\n",
      "2\n",
      "3\n",
      "4\n",
      "5\n"
     ]
    }
   ],
   "source": [
    "count = 0\n",
    "\n",
    "while True:  # Infinite loop\n",
    "    count += 1\n",
    "    print(count)\n",
    "    \n",
    "    if count >= 5:  \n",
    "        break # Exit the loop"
   ]
  },
  {
   "cell_type": "code",
   "execution_count": 11,
   "id": "191bbd1f-ead9-4a34-9652-20b5f4ba5adc",
   "metadata": {},
   "outputs": [],
   "source": [
    "# --- Using Continue to Skip Iterations"
   ]
  },
  {
   "cell_type": "code",
   "execution_count": 16,
   "id": "42a46524-95b3-4514-ad2b-6a16730d1668",
   "metadata": {},
   "outputs": [
    {
     "name": "stdout",
     "output_type": "stream",
     "text": [
      "1\n",
      "3\n",
      "5\n",
      "7\n",
      "9\n"
     ]
    }
   ],
   "source": [
    "count = 0\n",
    "\n",
    "while count < 10:\n",
    "    count += 1\n",
    "    if count % 2 == 0:  \n",
    "        continue # Skip even numbers\n",
    "    print(count)"
   ]
  }
 ],
 "metadata": {
  "kernelspec": {
   "display_name": "Python 3 (ipykernel)",
   "language": "python",
   "name": "python3"
  },
  "language_info": {
   "codemirror_mode": {
    "name": "ipython",
    "version": 3
   },
   "file_extension": ".py",
   "mimetype": "text/x-python",
   "name": "python",
   "nbconvert_exporter": "python",
   "pygments_lexer": "ipython3",
   "version": "3.12.4"
  }
 },
 "nbformat": 4,
 "nbformat_minor": 5
}
