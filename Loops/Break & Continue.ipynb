{
 "cells": [
  {
   "cell_type": "code",
   "execution_count": 13,
   "id": "383314a4-1291-4ade-ad36-6cadebfee173",
   "metadata": {},
   "outputs": [],
   "source": [
    "# --- Break"
   ]
  },
  {
   "cell_type": "code",
   "execution_count": 15,
   "id": "5859a60d-804f-4e9d-b779-e24a22fb6a75",
   "metadata": {},
   "outputs": [],
   "source": [
    "# --- Break in For Loop"
   ]
  },
  {
   "cell_type": "code",
   "execution_count": 17,
   "id": "9b34161f-1751-4eb6-8f73-4b748bceb217",
   "metadata": {},
   "outputs": [
    {
     "name": "stdout",
     "output_type": "stream",
     "text": [
      "1\n",
      "2\n",
      "3\n",
      "4\n",
      "Found 5, exiting the loop.\n"
     ]
    }
   ],
   "source": [
    "numbers = [1, 2, 3, 4, 5, 6, 7, 8, 9, 10]\n",
    "\n",
    "for number in numbers:\n",
    "    if number == 5:\n",
    "        print(\"Found 5, exiting the loop.\")\n",
    "        break  \n",
    "    print(number)"
   ]
  },
  {
   "cell_type": "code",
   "execution_count": 19,
   "id": "2d5d6dd6-e98a-4d0d-b2b3-fd867d9f4dde",
   "metadata": {},
   "outputs": [],
   "source": [
    "# --- Break in While Loop"
   ]
  },
  {
   "cell_type": "code",
   "execution_count": 21,
   "id": "11622fda-1b70-4d9c-8250-28aaed01b826",
   "metadata": {},
   "outputs": [
    {
     "name": "stdout",
     "output_type": "stream",
     "text": [
      "1\n",
      "2\n",
      "3\n",
      "4\n",
      "5\n",
      "Count exceeded 5, exiting the loop.\n"
     ]
    }
   ],
   "source": [
    "count = 0\n",
    "\n",
    "while True:  \n",
    "    count += 1\n",
    "    if count > 5:\n",
    "        print(\"Count exceeded 5, exiting the loop.\")\n",
    "        break  \n",
    "    print(count)"
   ]
  },
  {
   "cell_type": "code",
   "execution_count": 23,
   "id": "30831a6c-95c3-46d9-8b16-c8c0cce9e085",
   "metadata": {},
   "outputs": [],
   "source": [
    "# --- Continue"
   ]
  },
  {
   "cell_type": "code",
   "execution_count": 25,
   "id": "ace069e9-b51b-4263-a0e7-8250db3d12da",
   "metadata": {},
   "outputs": [],
   "source": [
    "# --- Continue in For Loop"
   ]
  },
  {
   "cell_type": "code",
   "execution_count": 27,
   "id": "187730d5-1a6b-4ee0-a2b7-53bdbb304d46",
   "metadata": {},
   "outputs": [
    {
     "name": "stdout",
     "output_type": "stream",
     "text": [
      "1\n",
      "3\n",
      "5\n",
      "7\n",
      "9\n"
     ]
    }
   ],
   "source": [
    "for number in range(10):\n",
    "    if number % 2 == 0:\n",
    "        continue  \n",
    "    print(number)"
   ]
  },
  {
   "cell_type": "code",
   "execution_count": 29,
   "id": "c0a3bd30-b247-44ed-b96f-4dde756560ee",
   "metadata": {},
   "outputs": [],
   "source": [
    "# --- Continue in While Loop"
   ]
  },
  {
   "cell_type": "code",
   "execution_count": 31,
   "id": "20487802-1867-4af2-999d-dfcab9cabeda",
   "metadata": {},
   "outputs": [
    {
     "name": "stdout",
     "output_type": "stream",
     "text": [
      "1\n",
      "3\n",
      "5\n",
      "7\n",
      "9\n"
     ]
    }
   ],
   "source": [
    "count = 0\n",
    "\n",
    "while count < 10:\n",
    "    count += 1\n",
    "    if count % 2 == 0:\n",
    "        continue  \n",
    "    print(count) "
   ]
  },
  {
   "cell_type": "code",
   "execution_count": 33,
   "id": "a52e23c7-3a98-43a9-9922-52773751ee77",
   "metadata": {},
   "outputs": [],
   "source": [
    "# --- Break & Continue"
   ]
  },
  {
   "cell_type": "code",
   "execution_count": 35,
   "id": "b0f6de5e-770c-49ab-b9fd-d14fed854b51",
   "metadata": {},
   "outputs": [
    {
     "name": "stdout",
     "output_type": "stream",
     "text": [
      "1\n",
      "3\n",
      "5\n",
      "Found 7, exiting the loop.\n"
     ]
    }
   ],
   "source": [
    "for number in range(10):\n",
    "    if number == 7:\n",
    "        print(\"Found 7, exiting the loop.\")\n",
    "        break  \n",
    "    if number % 2 == 0:\n",
    "        continue  \n",
    "    print(number)"
   ]
  }
 ],
 "metadata": {
  "kernelspec": {
   "display_name": "Python 3 (ipykernel)",
   "language": "python",
   "name": "python3"
  },
  "language_info": {
   "codemirror_mode": {
    "name": "ipython",
    "version": 3
   },
   "file_extension": ".py",
   "mimetype": "text/x-python",
   "name": "python",
   "nbconvert_exporter": "python",
   "pygments_lexer": "ipython3",
   "version": "3.12.4"
  }
 },
 "nbformat": 4,
 "nbformat_minor": 5
}
