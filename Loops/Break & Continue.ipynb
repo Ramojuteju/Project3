{
 "cells": [
  {
   "cell_type": "raw",
   "id": "42592841-ce7b-4db2-8623-cc3115418d5c",
   "metadata": {},
   "source": [
    "--- Break"
   ]
  },
  {
   "cell_type": "raw",
   "id": "071c7155-11ba-466d-b7d2-8b8820eda57f",
   "metadata": {},
   "source": [
    "--- Break in For Loop"
   ]
  },
  {
   "cell_type": "code",
   "execution_count": 1,
   "id": "9b34161f-1751-4eb6-8f73-4b748bceb217",
   "metadata": {},
   "outputs": [
    {
     "name": "stdout",
     "output_type": "stream",
     "text": [
      "1\n",
      "2\n",
      "3\n",
      "4\n",
      "Found 5, exiting the loop.\n"
     ]
    }
   ],
   "source": [
    "numbers = [1, 2, 3, 4, 5, 6, 7, 8, 9, 10]\n",
    "\n",
    "for number in numbers:\n",
    "    if number == 5:\n",
    "        print(\"Found 5, exiting the loop.\")\n",
    "        break  \n",
    "    print(number)"
   ]
  },
  {
   "cell_type": "raw",
   "id": "791e6e2b-e8a9-46f1-99ac-ca9a761f3746",
   "metadata": {},
   "source": [
    "--- Break in While Loop"
   ]
  },
  {
   "cell_type": "code",
   "execution_count": 3,
   "id": "11622fda-1b70-4d9c-8250-28aaed01b826",
   "metadata": {},
   "outputs": [
    {
     "name": "stdout",
     "output_type": "stream",
     "text": [
      "1\n",
      "2\n",
      "3\n",
      "4\n",
      "5\n",
      "Count exceeded 5, exiting the loop.\n"
     ]
    }
   ],
   "source": [
    "count = 0\n",
    "\n",
    "while True:  \n",
    "    count += 1\n",
    "    if count > 5:\n",
    "        print(\"Count exceeded 5, exiting the loop.\")\n",
    "        break  \n",
    "    print(count)"
   ]
  },
  {
   "cell_type": "raw",
   "id": "1a156839-c8ba-42e9-bf58-214d1f0358b8",
   "metadata": {},
   "source": [
    "--- Continue"
   ]
  },
  {
   "cell_type": "raw",
   "id": "586f190d-fbda-40ee-906b-5da41b70cabb",
   "metadata": {},
   "source": [
    "--- Continue in For Loop"
   ]
  },
  {
   "cell_type": "code",
   "execution_count": 5,
   "id": "187730d5-1a6b-4ee0-a2b7-53bdbb304d46",
   "metadata": {},
   "outputs": [
    {
     "name": "stdout",
     "output_type": "stream",
     "text": [
      "1\n",
      "3\n",
      "5\n",
      "7\n",
      "9\n"
     ]
    }
   ],
   "source": [
    "for number in range(10):\n",
    "    if number % 2 == 0:\n",
    "        continue  \n",
    "    print(number)"
   ]
  },
  {
   "cell_type": "raw",
   "id": "9d465df8-3273-4a78-8dd0-12fb8e8e58bf",
   "metadata": {},
   "source": [
    "--- Continue in While Loop"
   ]
  },
  {
   "cell_type": "code",
   "execution_count": 7,
   "id": "20487802-1867-4af2-999d-dfcab9cabeda",
   "metadata": {},
   "outputs": [
    {
     "name": "stdout",
     "output_type": "stream",
     "text": [
      "1\n",
      "3\n",
      "5\n",
      "7\n",
      "9\n"
     ]
    }
   ],
   "source": [
    "count = 0\n",
    "\n",
    "while count < 10:\n",
    "    count += 1\n",
    "    if count % 2 == 0:\n",
    "        continue  \n",
    "    print(count) "
   ]
  },
  {
   "cell_type": "raw",
   "id": "e7cfc681-3b80-4081-8d3f-8e479ee653c8",
   "metadata": {},
   "source": [
    "--- Break & Continue"
   ]
  },
  {
   "cell_type": "code",
   "execution_count": 9,
   "id": "b0f6de5e-770c-49ab-b9fd-d14fed854b51",
   "metadata": {},
   "outputs": [
    {
     "name": "stdout",
     "output_type": "stream",
     "text": [
      "1\n",
      "3\n",
      "5\n",
      "Found 7, exiting the loop.\n"
     ]
    }
   ],
   "source": [
    "for number in range(10):\n",
    "    if number == 7:\n",
    "        print(\"Found 7, exiting the loop.\")\n",
    "        break  \n",
    "    if number % 2 == 0:\n",
    "        continue  \n",
    "    print(number)"
   ]
  },
  {
   "cell_type": "code",
   "execution_count": null,
   "id": "3a1b1e4d-409e-41c2-bc29-4d04b1ee03fb",
   "metadata": {},
   "outputs": [],
   "source": []
  }
 ],
 "metadata": {
  "kernelspec": {
   "display_name": "Python 3 (ipykernel)",
   "language": "python",
   "name": "python3"
  },
  "language_info": {
   "codemirror_mode": {
    "name": "ipython",
    "version": 3
   },
   "file_extension": ".py",
   "mimetype": "text/x-python",
   "name": "python",
   "nbconvert_exporter": "python",
   "pygments_lexer": "ipython3",
   "version": "3.12.4"
  }
 },
 "nbformat": 4,
 "nbformat_minor": 5
}
