{
 "cells": [
  {
   "cell_type": "code",
   "execution_count": null,
   "id": "8f006ae7-10e8-4f9c-afdb-65afc5dfd481",
   "metadata": {},
   "outputs": [],
   "source": [
    "# --- Parentheses"
   ]
  },
  {
   "cell_type": "code",
   "execution_count": 1,
   "id": "a0002057-e483-4ede-bbaa-4bc99853b1a1",
   "metadata": {},
   "outputs": [],
   "source": [
    "result = (2 + 3) * 4"
   ]
  },
  {
   "cell_type": "code",
   "execution_count": 3,
   "id": "3ad1a858-79bd-4b57-9c20-6d2224b89e9d",
   "metadata": {},
   "outputs": [
    {
     "name": "stdout",
     "output_type": "stream",
     "text": [
      "20\n"
     ]
    }
   ],
   "source": [
    "print(result)"
   ]
  },
  {
   "cell_type": "code",
   "execution_count": null,
   "id": "50624a6a-806d-4da3-ad8c-91fea5d1a683",
   "metadata": {},
   "outputs": [],
   "source": [
    "# --- Exponentiation"
   ]
  },
  {
   "cell_type": "code",
   "execution_count": 5,
   "id": "eed88f62-ce53-442a-8853-0fc7ce26afa7",
   "metadata": {},
   "outputs": [],
   "source": [
    "result = 2 ** 3 + 1"
   ]
  },
  {
   "cell_type": "code",
   "execution_count": 7,
   "id": "5865c6c6-3696-449b-bb92-8ca38d753f7f",
   "metadata": {},
   "outputs": [
    {
     "name": "stdout",
     "output_type": "stream",
     "text": [
      "9\n"
     ]
    }
   ],
   "source": [
    "print(result)"
   ]
  },
  {
   "cell_type": "code",
   "execution_count": null,
   "id": "6d106723-31b9-4bc6-9080-96ce726837ba",
   "metadata": {},
   "outputs": [],
   "source": [
    "# --- Multiplication & Division"
   ]
  },
  {
   "cell_type": "code",
   "execution_count": 9,
   "id": "a984c4bb-375f-4361-9c49-040b6ef8fa51",
   "metadata": {},
   "outputs": [],
   "source": [
    "result = 10 / 5 * 2"
   ]
  },
  {
   "cell_type": "code",
   "execution_count": 11,
   "id": "7d1c6e5a-d931-4a3b-8fe3-52b6a55c7d22",
   "metadata": {},
   "outputs": [
    {
     "name": "stdout",
     "output_type": "stream",
     "text": [
      "4.0\n"
     ]
    }
   ],
   "source": [
    "print(result)"
   ]
  },
  {
   "cell_type": "code",
   "execution_count": null,
   "id": "91f19305-8338-48a7-afde-c3e274f90bab",
   "metadata": {},
   "outputs": [],
   "source": [
    "# --- Addition and Subtraction"
   ]
  },
  {
   "cell_type": "code",
   "execution_count": 13,
   "id": "dd02336e-4c79-46ec-bf4c-4f8e13bc8da5",
   "metadata": {},
   "outputs": [],
   "source": [
    "result = 10 - 5 + 3"
   ]
  },
  {
   "cell_type": "code",
   "execution_count": 15,
   "id": "b164e81e-0eac-4168-99af-8ef5fab28b26",
   "metadata": {},
   "outputs": [
    {
     "name": "stdout",
     "output_type": "stream",
     "text": [
      "8\n"
     ]
    }
   ],
   "source": [
    "print(result)"
   ]
  },
  {
   "cell_type": "code",
   "execution_count": null,
   "id": "6e184b95-9825-4ce2-af94-48cce8e70196",
   "metadata": {},
   "outputs": [],
   "source": [
    "# --- Comprarision Operator"
   ]
  },
  {
   "cell_type": "code",
   "execution_count": 21,
   "id": "94eb6385-909e-4b47-9874-064f5b9e6823",
   "metadata": {},
   "outputs": [],
   "source": [
    "result = 5 > 3 + 2"
   ]
  },
  {
   "cell_type": "code",
   "execution_count": 23,
   "id": "02445225-69e4-4328-8977-991d9aaec101",
   "metadata": {},
   "outputs": [
    {
     "name": "stdout",
     "output_type": "stream",
     "text": [
      "False\n"
     ]
    }
   ],
   "source": [
    "print(result)"
   ]
  },
  {
   "cell_type": "code",
   "execution_count": null,
   "id": "93ebfa28-b335-46ba-b6eb-f47659c14df2",
   "metadata": {},
   "outputs": [],
   "source": [
    "# --- Logical Operators"
   ]
  },
  {
   "cell_type": "code",
   "execution_count": 25,
   "id": "f55b5fea-47f9-41d0-aec6-c765a4ed144d",
   "metadata": {},
   "outputs": [],
   "source": [
    "x = True\n",
    "y = False\n",
    "result = x or y and not y"
   ]
  },
  {
   "cell_type": "code",
   "execution_count": 27,
   "id": "985d67c0-5546-4d6d-b223-1a78646b9920",
   "metadata": {},
   "outputs": [
    {
     "name": "stdout",
     "output_type": "stream",
     "text": [
      "True\n"
     ]
    }
   ],
   "source": [
    "print(result)"
   ]
  }
 ],
 "metadata": {
  "kernelspec": {
   "display_name": "Python 3 (ipykernel)",
   "language": "python",
   "name": "python3"
  },
  "language_info": {
   "codemirror_mode": {
    "name": "ipython",
    "version": 3
   },
   "file_extension": ".py",
   "mimetype": "text/x-python",
   "name": "python",
   "nbconvert_exporter": "python",
   "pygments_lexer": "ipython3",
   "version": "3.12.4"
  }
 },
 "nbformat": 4,
 "nbformat_minor": 5
}
