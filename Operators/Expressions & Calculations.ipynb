{
 "cells": [
  {
   "cell_type": "code",
   "execution_count": null,
   "id": "92197d92-4a63-4c2a-9205-1f35ac075dce",
   "metadata": {},
   "outputs": [],
   "source": [
    "# --- Arithmetic Operators"
   ]
  },
  {
   "cell_type": "code",
   "execution_count": 1,
   "id": "31011738-91ba-41b7-9453-6fe8d9d45abf",
   "metadata": {},
   "outputs": [],
   "source": [
    "a = 12\n",
    "b = 5\n",
    "\n",
    "addition = a + b              \n",
    "\n",
    "subtraction = a - b           \n",
    "\n",
    "multiplication = a * b        \n",
    "\n",
    "division = a / b              \n",
    "\n",
    "floor_division = a // b      \n",
    "\n",
    "modulus = a % b              \n",
    "\n",
    "exponentiation = a ** b "
   ]
  },
  {
   "cell_type": "code",
   "execution_count": 3,
   "id": "37ae8d20-f67d-4072-901b-7d48a50875c6",
   "metadata": {},
   "outputs": [
    {
     "name": "stdout",
     "output_type": "stream",
     "text": [
      "Addition: 17\n",
      "Subtraction: 7\n",
      "Multiplication: 60\n",
      "Division: 2.4\n",
      "Floor Division: 2\n",
      "Modulus: 2\n",
      "Exponentiation: 248832\n"
     ]
    }
   ],
   "source": [
    "print(\"Addition:\", addition)\n",
    "print(\"Subtraction:\", subtraction)\n",
    "print(\"Multiplication:\", multiplication)\n",
    "print(\"Division:\", division)\n",
    "print(\"Floor Division:\", floor_division)\n",
    "print(\"Modulus:\", modulus)\n",
    "print(\"Exponentiation:\", exponentiation)"
   ]
  },
  {
   "cell_type": "code",
   "execution_count": null,
   "id": "da3520be-86ea-4f2c-9791-9f5c5892437b",
   "metadata": {},
   "outputs": [],
   "source": [
    "# --- Comparison Operators"
   ]
  },
  {
   "cell_type": "code",
   "execution_count": 5,
   "id": "55518a1f-d42c-4d2d-a1a0-3bc83dabe572",
   "metadata": {},
   "outputs": [],
   "source": [
    "x = 15\n",
    "y = 20\n",
    "\n",
    "is_equal = x == y           \n",
    "\n",
    "is_not_equal = x != y        \n",
    "\n",
    "is_greater = x > y           \n",
    "\n",
    "is_less = x < y              \n",
    "\n",
    "is_greater_equal = x >= y    \n",
    "\n",
    "is_less_equal = x <= y "
   ]
  },
  {
   "cell_type": "code",
   "execution_count": 7,
   "id": "c2d8cf12-d851-466d-8b4a-04c8bf58c680",
   "metadata": {},
   "outputs": [
    {
     "name": "stdout",
     "output_type": "stream",
     "text": [
      "Is Equal: False\n",
      "Is Not Equal: True\n",
      "Is Greater: False\n",
      "Is Less: True\n",
      "Is Greater or Equal: False\n",
      "Is Less or Equal: True\n"
     ]
    }
   ],
   "source": [
    "print(\"Is Equal:\", is_equal)\n",
    "print(\"Is Not Equal:\", is_not_equal)\n",
    "print(\"Is Greater:\", is_greater)\n",
    "print(\"Is Less:\", is_less)\n",
    "print(\"Is Greater or Equal:\", is_greater_equal)\n",
    "print(\"Is Less or Equal:\", is_less_equal)"
   ]
  },
  {
   "cell_type": "code",
   "execution_count": null,
   "id": "033d7663-aa92-4500-b839-a616951659c4",
   "metadata": {},
   "outputs": [],
   "source": [
    "# --- Logical Operators"
   ]
  },
  {
   "cell_type": "code",
   "execution_count": 9,
   "id": "27b50055-4fc9-48f3-9abb-e13285028c86",
   "metadata": {},
   "outputs": [],
   "source": [
    "a = True\n",
    "b = False\n",
    "\n",
    "# Logical AND\n",
    "logical_and = a and b         \n",
    "\n",
    "# Logical OR\n",
    "logical_or = a or b           \n",
    "\n",
    "# Logical NOT\n",
    "logical_not = not a           "
   ]
  },
  {
   "cell_type": "code",
   "execution_count": 11,
   "id": "e2c7834f-bc6d-47e0-b705-1d25656b9510",
   "metadata": {},
   "outputs": [
    {
     "name": "stdout",
     "output_type": "stream",
     "text": [
      "Logical AND: False\n",
      "Logical OR: True\n",
      "Logical NOT: False\n"
     ]
    }
   ],
   "source": [
    "print(\"Logical AND:\", logical_and)\n",
    "print(\"Logical OR:\", logical_or)\n",
    "print(\"Logical NOT:\", logical_not)"
   ]
  },
  {
   "cell_type": "code",
   "execution_count": null,
   "id": "421dfa95-3003-4835-abd7-e3d0aed62736",
   "metadata": {},
   "outputs": [],
   "source": [
    "# --- Assignment Operators"
   ]
  },
  {
   "cell_type": "code",
   "execution_count": 13,
   "id": "8e7ff145-5c36-48a8-8c5b-5e3abb317f53",
   "metadata": {},
   "outputs": [
    {
     "name": "stdout",
     "output_type": "stream",
     "text": [
      "After += 5: 15\n",
      "After -= 3: 12\n",
      "After *= 2: 24\n",
      "After /= 4: 6.0\n",
      "After //= 3: 2.0\n",
      "After %= 2: 0.0\n",
      "After **= 3: 0.0\n"
     ]
    }
   ],
   "source": [
    "z = 10\n",
    "\n",
    "z += 5                          \n",
    "print(\"After += 5:\", z)\n",
    "\n",
    "z -= 3                          \n",
    "print(\"After -= 3:\", z)\n",
    "\n",
    "z *= 2                         \n",
    "print(\"After *= 2:\", z)\n",
    "\n",
    "z /= 4                         \n",
    "print(\"After /= 4:\", z)\n",
    "\n",
    "z //= 3                        \n",
    "print(\"After //= 3:\", z)\n",
    "\n",
    "z %= 2                         \n",
    "print(\"After %= 2:\", z)\n",
    "\n",
    "z **= 3 \n",
    "print(\"After **= 3:\", z)"
   ]
  },
  {
   "cell_type": "code",
   "execution_count": null,
   "id": "41b92eb7-ed8e-455d-acff-41cb15ab5ea8",
   "metadata": {},
   "outputs": [],
   "source": [
    "# --- Combining Operators"
   ]
  },
  {
   "cell_type": "code",
   "execution_count": 15,
   "id": "203e4df0-0be9-40fc-881c-5fb14f7a827e",
   "metadata": {},
   "outputs": [
    {
     "name": "stdout",
     "output_type": "stream",
     "text": [
      "Combined Result: -5\n",
      "Complex Result: 35\n"
     ]
    }
   ],
   "source": [
    "result = (a + b) * (x - y)     \n",
    "print(\"Combined Result:\", result)\n",
    "\n",
    "complex_result = a * (x + y) - (b // 2) ** 2\n",
    "print(\"Complex Result:\", complex_result) "
   ]
  }
 ],
 "metadata": {
  "kernelspec": {
   "display_name": "Python 3 (ipykernel)",
   "language": "python",
   "name": "python3"
  },
  "language_info": {
   "codemirror_mode": {
    "name": "ipython",
    "version": 3
   },
   "file_extension": ".py",
   "mimetype": "text/x-python",
   "name": "python",
   "nbconvert_exporter": "python",
   "pygments_lexer": "ipython3",
   "version": "3.12.4"
  }
 },
 "nbformat": 4,
 "nbformat_minor": 5
}
