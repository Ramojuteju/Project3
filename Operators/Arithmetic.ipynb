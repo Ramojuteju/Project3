{
 "cells": [
  {
   "cell_type": "code",
   "execution_count": null,
   "id": "83c5df08-82e9-460c-bca9-42cdbca11448",
   "metadata": {},
   "outputs": [],
   "source": [
    "# --- Arithmetic Operations"
   ]
  },
  {
   "cell_type": "code",
   "execution_count": 1,
   "id": "c175911c-379a-4482-84c2-544453ed0cef",
   "metadata": {},
   "outputs": [],
   "source": [
    "a = 10\n",
    "b = 3\n",
    "\n",
    "addition = a + b           \n",
    "subtraction = a - b        \n",
    "multiplication = a * b     \n",
    "division = a / b           \n",
    "floor_division = a // b     \n",
    "modulus = a % b             \n",
    "exponentiation = a ** b     "
   ]
  },
  {
   "cell_type": "code",
   "execution_count": 3,
   "id": "16ff38f9-bad2-460b-94d8-3cfa6e9fe6af",
   "metadata": {},
   "outputs": [
    {
     "name": "stdout",
     "output_type": "stream",
     "text": [
      "13 7 30 3.3333333333333335 3 1 1000\n"
     ]
    }
   ],
   "source": [
    "print(addition, subtraction, multiplication, division, floor_division, modulus, exponentiation)"
   ]
  },
  {
   "cell_type": "code",
   "execution_count": null,
   "id": "746ceab6-a9c8-4b29-af91-cc84f4c53c3c",
   "metadata": {},
   "outputs": [],
   "source": [
    "# --- Comparison Operation"
   ]
  },
  {
   "cell_type": "code",
   "execution_count": 5,
   "id": "551c6adb-14c1-4bd1-a8ee-a131e0a6e2fc",
   "metadata": {},
   "outputs": [],
   "source": [
    "is_equal = a == b           \n",
    "is_not_equal = a != b      \n",
    "is_greater = a > b          \n",
    "is_less = a < b             \n",
    "is_greater_equal = a >= b   \n",
    "is_less_equal = a <= b     "
   ]
  },
  {
   "cell_type": "code",
   "execution_count": 7,
   "id": "a4601dfe-c22e-4fda-96d8-ac85c32604c6",
   "metadata": {},
   "outputs": [
    {
     "name": "stdout",
     "output_type": "stream",
     "text": [
      "False True True False True False\n"
     ]
    }
   ],
   "source": [
    "print(is_equal, is_not_equal, is_greater, is_less, is_greater_equal, is_less_equal)"
   ]
  },
  {
   "cell_type": "code",
   "execution_count": null,
   "id": "bf2db8a3-9c6d-478f-b484-4db83a169d11",
   "metadata": {},
   "outputs": [],
   "source": [
    "# --- Logical Operators"
   ]
  },
  {
   "cell_type": "code",
   "execution_count": 9,
   "id": "2f5a689b-6276-4fb4-b704-383b4be99fea",
   "metadata": {},
   "outputs": [],
   "source": [
    "x = True\n",
    "y = False\n",
    "\n",
    "logical_and = x and y         \n",
    "logical_or = x or y           \n",
    "logical_not = not x           "
   ]
  },
  {
   "cell_type": "code",
   "execution_count": 11,
   "id": "373799e6-d1f7-4e4d-be76-4012e1aa0e88",
   "metadata": {},
   "outputs": [
    {
     "name": "stdout",
     "output_type": "stream",
     "text": [
      "False True False\n"
     ]
    }
   ],
   "source": [
    "print(logical_and, logical_or, logical_not)"
   ]
  },
  {
   "cell_type": "code",
   "execution_count": null,
   "id": "5054ab0b-ec0a-4d31-9006-5166a1cded78",
   "metadata": {},
   "outputs": [],
   "source": [
    "# --- Assignment Operators"
   ]
  },
  {
   "cell_type": "code",
   "execution_count": 13,
   "id": "5db8353d-ab5a-4f76-b202-d887c70246bf",
   "metadata": {},
   "outputs": [],
   "source": [
    "a = 10\n",
    "\n",
    "a += 5   \n",
    "a -= 3   \n",
    "a *= 2   \n",
    "a /= 4   \n",
    "a //= 2  \n",
    "a %= 2   \n",
    "a **= 3  "
   ]
  },
  {
   "cell_type": "code",
   "execution_count": 15,
   "id": "14fcca97-583a-4177-8bae-ebffc880f227",
   "metadata": {},
   "outputs": [
    {
     "name": "stdout",
     "output_type": "stream",
     "text": [
      "1.0\n"
     ]
    }
   ],
   "source": [
    "print(a)"
   ]
  }
 ],
 "metadata": {
  "kernelspec": {
   "display_name": "Python 3 (ipykernel)",
   "language": "python",
   "name": "python3"
  },
  "language_info": {
   "codemirror_mode": {
    "name": "ipython",
    "version": 3
   },
   "file_extension": ".py",
   "mimetype": "text/x-python",
   "name": "python",
   "nbconvert_exporter": "python",
   "pygments_lexer": "ipython3",
   "version": "3.12.4"
  }
 },
 "nbformat": 4,
 "nbformat_minor": 5
}
