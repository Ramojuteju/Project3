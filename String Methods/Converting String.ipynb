{
 "cells": [
  {
   "cell_type": "raw",
   "id": "d735b67c-7e6f-4c7e-aa81-4cf8c01b8db5",
   "metadata": {},
   "source": [
    "--- Uppercase Conversion"
   ]
  },
  {
   "cell_type": "code",
   "execution_count": 1,
   "id": "46c0ba2c-95af-43a9-9828-4069ef72da79",
   "metadata": {},
   "outputs": [],
   "source": [
    "text = \"Hello, World!\"\n",
    "uppercase_text = text.upper()"
   ]
  },
  {
   "cell_type": "code",
   "execution_count": 3,
   "id": "d0ea6a1e-5771-49ed-b583-427f6276b810",
   "metadata": {},
   "outputs": [
    {
     "name": "stdout",
     "output_type": "stream",
     "text": [
      "HELLO, WORLD!\n"
     ]
    }
   ],
   "source": [
    "print(uppercase_text)"
   ]
  },
  {
   "cell_type": "raw",
   "id": "bb094062-976a-434e-9bf0-397487e18f14",
   "metadata": {},
   "source": [
    "--- Lower Conversion"
   ]
  },
  {
   "cell_type": "code",
   "execution_count": 5,
   "id": "02c43275-56d1-4ca7-aed5-1e8f8d7370c7",
   "metadata": {},
   "outputs": [],
   "source": [
    "text = \"Hello, World!\"\n",
    "lowercase_text = text.lower()"
   ]
  },
  {
   "cell_type": "code",
   "execution_count": 7,
   "id": "36ac3b99-490b-4946-b5ab-ec19d2f65105",
   "metadata": {},
   "outputs": [
    {
     "name": "stdout",
     "output_type": "stream",
     "text": [
      "hello, world!\n"
     ]
    }
   ],
   "source": [
    "print(lowercase_text)"
   ]
  },
  {
   "cell_type": "raw",
   "id": "3d4d871e-0eb0-43ac-9e47-93d6822908d6",
   "metadata": {},
   "source": [
    "--- Title case Conversion"
   ]
  },
  {
   "cell_type": "code",
   "execution_count": 9,
   "id": "d82f18a7-56f3-4f67-9fbe-dc6972b73007",
   "metadata": {},
   "outputs": [],
   "source": [
    "text = \"hello, world! welcome to python.\"\n",
    "titlecase_text = text.title()"
   ]
  },
  {
   "cell_type": "code",
   "execution_count": 11,
   "id": "dae42e8b-f6ad-4cb8-ab0b-4294479c14c5",
   "metadata": {},
   "outputs": [
    {
     "name": "stdout",
     "output_type": "stream",
     "text": [
      "Hello, World! Welcome To Python.\n"
     ]
    }
   ],
   "source": [
    "print(titlecase_text)"
   ]
  },
  {
   "cell_type": "code",
   "execution_count": null,
   "id": "727d0e92-21f6-4f19-8358-f4581d95e31b",
   "metadata": {},
   "outputs": [],
   "source": []
  }
 ],
 "metadata": {
  "kernelspec": {
   "display_name": "Python 3 (ipykernel)",
   "language": "python",
   "name": "python3"
  },
  "language_info": {
   "codemirror_mode": {
    "name": "ipython",
    "version": 3
   },
   "file_extension": ".py",
   "mimetype": "text/x-python",
   "name": "python",
   "nbconvert_exporter": "python",
   "pygments_lexer": "ipython3",
   "version": "3.12.4"
  }
 },
 "nbformat": 4,
 "nbformat_minor": 5
}
