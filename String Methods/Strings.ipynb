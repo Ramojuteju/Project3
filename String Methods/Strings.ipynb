{
 "cells": [
  {
   "cell_type": "raw",
   "id": "ee1e75e9-9d36-4a55-b8ed-f068f3652b9b",
   "metadata": {},
   "source": [
    "--- String Methods"
   ]
  },
  {
   "cell_type": "raw",
   "id": "3ad41311-67c2-4d8c-bbe5-d1058862b3eb",
   "metadata": {},
   "source": [
    "--- Changing Case"
   ]
  },
  {
   "cell_type": "code",
   "execution_count": 1,
   "id": "e53a349f-f59d-44e3-ba47-a8a3772134d8",
   "metadata": {},
   "outputs": [],
   "source": [
    "text = \"hello world\""
   ]
  },
  {
   "cell_type": "code",
   "execution_count": 3,
   "id": "8aa815ef-6bac-4fad-b91b-e54b9beef5fd",
   "metadata": {},
   "outputs": [
    {
     "name": "stdout",
     "output_type": "stream",
     "text": [
      "HELLO WORLD\n"
     ]
    }
   ],
   "source": [
    "print(text.upper())"
   ]
  },
  {
   "cell_type": "code",
   "execution_count": 5,
   "id": "6243b48d-d5b4-41ba-a7cb-7f40a202c82f",
   "metadata": {},
   "outputs": [
    {
     "name": "stdout",
     "output_type": "stream",
     "text": [
      "Hello World\n"
     ]
    }
   ],
   "source": [
    "print(text.title()) "
   ]
  },
  {
   "cell_type": "raw",
   "id": "59d7cc85-c147-4ff5-afaa-a25d3749f2c7",
   "metadata": {},
   "source": [
    "--- Trimming Whitespace"
   ]
  },
  {
   "cell_type": "code",
   "execution_count": 7,
   "id": "b336a652-53cf-42ad-9e97-e32c2fdf5b32",
   "metadata": {},
   "outputs": [],
   "source": [
    "text = \"   hello world   \""
   ]
  },
  {
   "cell_type": "code",
   "execution_count": 9,
   "id": "45af86ed-3076-4faf-82bb-e6d9ee3359ba",
   "metadata": {},
   "outputs": [
    {
     "name": "stdout",
     "output_type": "stream",
     "text": [
      "hello world\n"
     ]
    }
   ],
   "source": [
    "print(text.strip())"
   ]
  },
  {
   "cell_type": "raw",
   "id": "d2a7cbb1-4c30-45d0-b5f6-fa42edb69f9f",
   "metadata": {},
   "source": [
    "--- Substrings"
   ]
  },
  {
   "cell_type": "code",
   "execution_count": 11,
   "id": "9d740ce0-5754-4ba0-91e3-29210ee8586f",
   "metadata": {},
   "outputs": [],
   "source": [
    "text = \"hello world\""
   ]
  },
  {
   "cell_type": "code",
   "execution_count": 13,
   "id": "c5350e9e-3b0d-400b-90bc-14d8eeaa403e",
   "metadata": {},
   "outputs": [
    {
     "name": "stdout",
     "output_type": "stream",
     "text": [
      "6\n"
     ]
    }
   ],
   "source": [
    "print(text.find(\"world\"))"
   ]
  },
  {
   "cell_type": "code",
   "execution_count": 15,
   "id": "651c7275-9b98-422a-bc51-79d4486783d5",
   "metadata": {},
   "outputs": [
    {
     "name": "stdout",
     "output_type": "stream",
     "text": [
      "4\n"
     ]
    }
   ],
   "source": [
    "print(text.index(\"o\"))"
   ]
  },
  {
   "cell_type": "raw",
   "id": "4eda0294-9381-43be-8f92-094092f8430f",
   "metadata": {},
   "source": [
    "--- String Length"
   ]
  },
  {
   "cell_type": "code",
   "execution_count": 17,
   "id": "d70bbbf3-ea2e-41b8-86ae-8b5e31611e92",
   "metadata": {},
   "outputs": [],
   "source": [
    "text = \"hello\""
   ]
  },
  {
   "cell_type": "code",
   "execution_count": 21,
   "id": "bfae6a0a-ec79-4f4e-bff0-f5f68d231c55",
   "metadata": {},
   "outputs": [
    {
     "name": "stdout",
     "output_type": "stream",
     "text": [
      "5\n"
     ]
    }
   ],
   "source": [
    "print(len(text))"
   ]
  },
  {
   "cell_type": "code",
   "execution_count": null,
   "id": "c6eb5216-8658-491a-a605-6700ae3afe24",
   "metadata": {},
   "outputs": [],
   "source": []
  }
 ],
 "metadata": {
  "kernelspec": {
   "display_name": "Python 3 (ipykernel)",
   "language": "python",
   "name": "python3"
  },
  "language_info": {
   "codemirror_mode": {
    "name": "ipython",
    "version": 3
   },
   "file_extension": ".py",
   "mimetype": "text/x-python",
   "name": "python",
   "nbconvert_exporter": "python",
   "pygments_lexer": "ipython3",
   "version": "3.12.4"
  }
 },
 "nbformat": 4,
 "nbformat_minor": 5
}
