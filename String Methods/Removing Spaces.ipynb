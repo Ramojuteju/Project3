{
 "cells": [
  {
   "cell_type": "code",
   "execution_count": null,
   "id": "a979658a-fbce-44f5-b344-119b04084c76",
   "metadata": {},
   "outputs": [],
   "source": [
    "# --- Removing Whitespaces"
   ]
  },
  {
   "cell_type": "code",
   "execution_count": null,
   "id": "e53d7931-dbdf-43cf-baa3-d7a173bcf772",
   "metadata": {},
   "outputs": [],
   "source": [
    "# --- Both Ends"
   ]
  },
  {
   "cell_type": "code",
   "execution_count": 5,
   "id": "750c46d5-e0f2-4dd2-a9d5-94b423cff7b2",
   "metadata": {},
   "outputs": [],
   "source": [
    "text = \"   Hello, World!   \""
   ]
  },
  {
   "cell_type": "code",
   "execution_count": 7,
   "id": "54164a5c-2829-4715-b50d-008e4a4c7ada",
   "metadata": {},
   "outputs": [],
   "source": [
    "trimmed_text = text.strip()"
   ]
  },
  {
   "cell_type": "code",
   "execution_count": 6,
   "id": "ce49ca92-a8c2-45bf-a420-95a76807f097",
   "metadata": {},
   "outputs": [
    {
     "name": "stdout",
     "output_type": "stream",
     "text": [
      "Trimmed: 'Hello, World!'\n"
     ]
    }
   ],
   "source": [
    "print(f\"Trimmed: '{trimmed_text}'\")"
   ]
  },
  {
   "cell_type": "code",
   "execution_count": null,
   "id": "781bc6da-9541-46c5-ab9e-3620a45cb012",
   "metadata": {},
   "outputs": [],
   "source": [
    "# --- Left Side"
   ]
  },
  {
   "cell_type": "code",
   "execution_count": 8,
   "id": "a470d922-f980-41b3-a5e1-f2d4d767cb3f",
   "metadata": {},
   "outputs": [],
   "source": [
    "left_trimmed = text.lstrip()"
   ]
  },
  {
   "cell_type": "code",
   "execution_count": 10,
   "id": "0f392743-7c21-430c-a813-cdfacaf4f861",
   "metadata": {},
   "outputs": [
    {
     "name": "stdout",
     "output_type": "stream",
     "text": [
      "Left Trimmed: 'Hello, World!   '\n"
     ]
    }
   ],
   "source": [
    "print(f\"Left Trimmed: '{left_trimmed}'\")"
   ]
  },
  {
   "cell_type": "code",
   "execution_count": null,
   "id": "58285408-96af-4cda-b7be-93b61b137db1",
   "metadata": {},
   "outputs": [],
   "source": [
    "# --- Right Side"
   ]
  },
  {
   "cell_type": "code",
   "execution_count": 12,
   "id": "c8bfd730-6291-4e99-80e0-f66e6e67a2c8",
   "metadata": {},
   "outputs": [],
   "source": [
    "right_trimmed = text.rstrip()"
   ]
  },
  {
   "cell_type": "code",
   "execution_count": 14,
   "id": "c5b5c7b9-fc09-4dbd-9eb6-8ce0a3593b6f",
   "metadata": {},
   "outputs": [
    {
     "name": "stdout",
     "output_type": "stream",
     "text": [
      "Right Trimmed: '   Hello, World!'\n"
     ]
    }
   ],
   "source": [
    "print(f\"Right Trimmed: '{right_trimmed}'\")"
   ]
  },
  {
   "cell_type": "code",
   "execution_count": null,
   "id": "7c4d883d-de6c-43d4-917c-d2f65f2c8aa0",
   "metadata": {},
   "outputs": [],
   "source": [
    "# --- Splitting Strings"
   ]
  },
  {
   "cell_type": "code",
   "execution_count": 27,
   "id": "c7a80550-174d-4d34-a464-6a84af5cd3b9",
   "metadata": {},
   "outputs": [],
   "source": [
    "# --- By using Comma(,)"
   ]
  },
  {
   "cell_type": "code",
   "execution_count": null,
   "id": "2130da6a-f338-4307-bf3a-8ba4ff695c08",
   "metadata": {},
   "outputs": [],
   "source": [
    "text = \"Hello, World, Welcome\""
   ]
  },
  {
   "cell_type": "code",
   "execution_count": 29,
   "id": "ac581035-bb72-4daf-99b6-dbfcb9f39c76",
   "metadata": {},
   "outputs": [],
   "source": [
    "words = text.split(\", \")"
   ]
  },
  {
   "cell_type": "code",
   "execution_count": 31,
   "id": "87eca3ed-f468-4e63-a470-6f2fc12467bd",
   "metadata": {},
   "outputs": [
    {
     "name": "stdout",
     "output_type": "stream",
     "text": [
      "['Hello', 'World', 'Welcome']\n"
     ]
    }
   ],
   "source": [
    "print(words)"
   ]
  },
  {
   "cell_type": "code",
   "execution_count": 17,
   "id": "a677a148-34b5-41e8-901a-5228dec87377",
   "metadata": {},
   "outputs": [],
   "source": [
    "# --- By using Whitespace"
   ]
  },
  {
   "cell_type": "code",
   "execution_count": 41,
   "id": "896e9346-c4fe-4154-bdad-8c242967f3dc",
   "metadata": {},
   "outputs": [],
   "source": [
    "csv_text = \"apple banana cherry\"\n",
    "fruits = csv_text.split()"
   ]
  },
  {
   "cell_type": "code",
   "execution_count": 43,
   "id": "8c680a5b-6140-4576-82c3-b8d92666cc7b",
   "metadata": {},
   "outputs": [
    {
     "name": "stdout",
     "output_type": "stream",
     "text": [
      "['apple', 'banana', 'cherry']\n"
     ]
    }
   ],
   "source": [
    "print(fruits)"
   ]
  },
  {
   "cell_type": "code",
   "execution_count": null,
   "id": "a36d89b7-1e81-46ef-9741-e55404788534",
   "metadata": {},
   "outputs": [],
   "source": []
  }
 ],
 "metadata": {
  "kernelspec": {
   "display_name": "Python 3 (ipykernel)",
   "language": "python",
   "name": "python3"
  },
  "language_info": {
   "codemirror_mode": {
    "name": "ipython",
    "version": 3
   },
   "file_extension": ".py",
   "mimetype": "text/x-python",
   "name": "python",
   "nbconvert_exporter": "python",
   "pygments_lexer": "ipython3",
   "version": "3.12.4"
  }
 },
 "nbformat": 4,
 "nbformat_minor": 5
}
