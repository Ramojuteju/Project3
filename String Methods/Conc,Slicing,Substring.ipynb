{
 "cells": [
  {
   "cell_type": "code",
   "execution_count": 1,
   "id": "4b7ddbc3-e110-4433-a4f9-76b833e26108",
   "metadata": {},
   "outputs": [],
   "source": [
    "--- Concatenation"
   ]
  },
  {
   "cell_type": "code",
   "execution_count": null,
   "id": "d60930d6-50e0-4b1e-a7bc-2f6d1c686159",
   "metadata": {},
   "outputs": [],
   "source": [
    "str1 = \"Hello\"\n",
    "str2 = \"World\"\n",
    "concatenated = str1 + \" \" + str2"
   ]
  },
  {
   "cell_type": "code",
   "execution_count": 3,
   "id": "06e8ef7e-f905-4506-83bd-10222d776c40",
   "metadata": {},
   "outputs": [
    {
     "name": "stdout",
     "output_type": "stream",
     "text": [
      "Hello World\n"
     ]
    }
   ],
   "source": [
    "print(concatenated)"
   ]
  },
  {
   "cell_type": "code",
   "execution_count": 5,
   "id": "0c075d22-797a-4d45-aa84-2b831e616e4d",
   "metadata": {},
   "outputs": [],
   "source": [
    "strings = [\"Hello\", \"World\"]\n",
    "concatenated_join = \" \".join(strings)"
   ]
  },
  {
   "cell_type": "code",
   "execution_count": 7,
   "id": "86e926b6-9a1b-4153-bebd-36fc56a8b7d3",
   "metadata": {},
   "outputs": [
    {
     "name": "stdout",
     "output_type": "stream",
     "text": [
      "Hello World\n"
     ]
    }
   ],
   "source": [
    "print(concatenated_join)"
   ]
  },
  {
   "cell_type": "raw",
   "id": "8bf4623e-b669-41d6-8750-dcea1b7a5ce1",
   "metadata": {},
   "source": [
    "--- Slicing"
   ]
  },
  {
   "cell_type": "code",
   "execution_count": 15,
   "id": "f9b7a82f-22a4-4737-9b3a-c7527e69d24a",
   "metadata": {},
   "outputs": [],
   "source": [
    "text = \"Hello, World!\"\n",
    "slice1 = text[0:5]\n",
    "slice2 = text[7:]\n",
    "slice3 = text[:5]\n",
    "slice4 = text[-6:]"
   ]
  },
  {
   "cell_type": "code",
   "execution_count": 17,
   "id": "c21a1f2e-9633-4c82-a37f-29f144b69aa7",
   "metadata": {},
   "outputs": [
    {
     "name": "stdout",
     "output_type": "stream",
     "text": [
      "Hello\n"
     ]
    }
   ],
   "source": [
    "print(slice1)"
   ]
  },
  {
   "cell_type": "code",
   "execution_count": 19,
   "id": "075c8850-b489-437a-a8ff-d3e45abd5b77",
   "metadata": {},
   "outputs": [
    {
     "name": "stdout",
     "output_type": "stream",
     "text": [
      "World!\n"
     ]
    }
   ],
   "source": [
    "print(slice2)"
   ]
  },
  {
   "cell_type": "code",
   "execution_count": 21,
   "id": "c644f69c-c025-400f-b8e9-44e1a36923fc",
   "metadata": {},
   "outputs": [
    {
     "name": "stdout",
     "output_type": "stream",
     "text": [
      "Hello\n"
     ]
    }
   ],
   "source": [
    "print(slice3)"
   ]
  },
  {
   "cell_type": "code",
   "execution_count": 23,
   "id": "2efd33c5-af17-4628-9d0e-0ce0c1d9d0f6",
   "metadata": {},
   "outputs": [
    {
     "name": "stdout",
     "output_type": "stream",
     "text": [
      "World!\n"
     ]
    }
   ],
   "source": [
    "print(slice4)"
   ]
  },
  {
   "cell_type": "raw",
   "id": "42df5575-31c7-4023-9c3b-095d2cdf4ff7",
   "metadata": {},
   "source": [
    "--- Substring"
   ]
  },
  {
   "cell_type": "code",
   "execution_count": 25,
   "id": "3b638dc6-85f6-4592-b738-eb10ba1ebd0e",
   "metadata": {},
   "outputs": [],
   "source": [
    "position1 = text.find(\"World\")\n",
    "position2 = text.find(\"Python\")"
   ]
  },
  {
   "cell_type": "code",
   "execution_count": 27,
   "id": "5cff3790-a67f-47bc-a49d-27eab2db4ea6",
   "metadata": {},
   "outputs": [
    {
     "name": "stdout",
     "output_type": "stream",
     "text": [
      "7\n"
     ]
    }
   ],
   "source": [
    "print(position1)"
   ]
  },
  {
   "cell_type": "code",
   "execution_count": 29,
   "id": "c0ebe7c4-2546-458d-9a2b-2b5ba6402637",
   "metadata": {},
   "outputs": [
    {
     "name": "stdout",
     "output_type": "stream",
     "text": [
      "-1\n"
     ]
    }
   ],
   "source": [
    "print(position2)"
   ]
  },
  {
   "cell_type": "code",
   "execution_count": null,
   "id": "8f3f6157-e287-4c98-9fe2-fafe3defa751",
   "metadata": {},
   "outputs": [],
   "source": []
  }
 ],
 "metadata": {
  "kernelspec": {
   "display_name": "Python 3 (ipykernel)",
   "language": "python",
   "name": "python3"
  },
  "language_info": {
   "codemirror_mode": {
    "name": "ipython",
    "version": 3
   },
   "file_extension": ".py",
   "mimetype": "text/x-python",
   "name": "python",
   "nbconvert_exporter": "python",
   "pygments_lexer": "ipython3",
   "version": "3.12.4"
  }
 },
 "nbformat": 4,
 "nbformat_minor": 5
}
